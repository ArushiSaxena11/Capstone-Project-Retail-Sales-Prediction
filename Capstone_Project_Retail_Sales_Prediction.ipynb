{
  "cells": [
    {
      "cell_type": "markdown",
      "metadata": {
        "id": "view-in-github",
        "colab_type": "text"
      },
      "source": [
        "<a href=\"https://colab.research.google.com/github/ArushiSaxena11/Capstone-Project-Retail-Sales-Prediction/blob/main/Capstone_Project_Retail_Sales_Prediction.ipynb\" target=\"_parent\"><img src=\"https://colab.research.google.com/assets/colab-badge.svg\" alt=\"Open In Colab\"/></a>"
      ]
    },
    {
      "cell_type": "markdown",
      "metadata": {
        "id": "vncDsAP0Gaoa"
      },
      "source": [
        "# **Project Name**    - Retail Sales Prediction\n",
        "\n"
      ]
    },
    {
      "cell_type": "markdown",
      "metadata": {
        "id": "beRrZCGUAJYm"
      },
      "source": [
        "##### **Project Type** -  Regression\n",
        "##### **Contribution** - Team Notebook\n",
        "##### **Team Member 1 - Mohmmad Sarim**\n",
        "##### **Team Member 2 - Arushi Saxena**\n",
        "##### **Team Member 3 - Moh Akbar**\n",
        "##### **Team Member 4 - Mohd Imran**\n",
        "##### **Team Member 5 - Ilham Pasha**"
      ]
    },
    {
      "cell_type": "markdown",
      "metadata": {
        "id": "FJNUwmbgGyua"
      },
      "source": [
        "# **Project Summary -**"
      ]
    },
    {
      "cell_type": "markdown",
      "metadata": {
        "id": "F6v_1wHtG2nS"
      },
      "source": [
        "**Rossman Sales Prediction** data contains historical sales data for a retail store chain. The data includes information about the store such as Competitior’s Detail, holiday’s, number of the customers, sale transaction's date and amount of sale on each day. We were tasked **to forecast the \"Sales\"** for the test set.\n",
        "\n",
        "After understanding the data and getting variables, we first gathered and **cleaned the data, handled the null values** and finally for getting better results we **merged** two datasets after that we have also typecasted the needed features into required format by **type casting** in order to visualize them properly. We performed indepth **EDA** and plotted different types of graphs by separating them into univariate, bivariate and multivariate categories as a result, We came accross some meaningful insights that helped us to make future decisions of ML model pipeline. Then further on, using **feature engineering** and data preprocessing  we have extracted new features like PromoDuration and CompetitionDuration with the help of some features which are not directly impacting to Sales. We also tried to get some impacting features by removing **multicollinearity** within the independent variables with the help of **various inflation factor(VIF)**. Under the umbrella of feature engineering we have detected and treated the outliers with the help of **IQR technique** and capped all the outliers of continous features in 25-75 percentile. Also, we noticed that some of the features were categorical in nature and ML model can not understand the language of alphabets(strings).So, we have encoded them into numericals using **One-Hot Encoding technique** as they were unordered in nature. \n",
        "\n",
        "In order to get normally distributed data we have applied various **transformation techniques** such as Logarithmic Transformation, Exponential Transformation, Square root Transformation and some others as well and plotted the quantie-quantile plot to visualize how far our data points are from the normal distribution.To scale the data We used the sklearn library **StandardScaler**.\n",
        "\n",
        "Now as we are ready with our final features we **splitted** it into training and testing sets. Next, we choose some **machine learning algorithms** and use the training data to train the model. Finally, we evaluated the model's performance on the testing data to see how well it is able to predict the sales for the real time data. For this task we used many machine learning algorithms, such as **linear regression, decision trees, random forests, LightGBM and XGboost**. For the less complex models like **Linear Regression**, we could achieve the **r2 score of 0.75** and **accuracy i.e 100-MAPE of 93%** even after applying regularisation techniques such as Lasso,Ridge and Elstic Net. In order to capture **more variance** and train our model more aptly, we decided to go for **more complex models** one by one. After training our datasets on decision trees, random forests, LightGBM and XGboost, we could gather the **r2 score of 0.94** with the best **accuracy of 97% using XGboost** with mean absolute percentage error of only 2%. Also we got the mean of residuals as 0.0 which is indicating towards perfectly normally distributed residuals which is one of the good characteristics of good residual plot. From the above experiments and identifications, we have choosen the **XGboost** as our **final optimal model** among all 5 models for deployment as it is predicting the highest accuracy with the least error.\n",
        "\n",
        "Overall, while building a machine learning model on Rossman Sales Prediction Data, we applied combination of **data processing, machine learning techniques, and model evaluation skills.** It was a challenging task and we faced some failures as well but with the right approach and knowledge, we successfully created a model that can accurately predict sales upto six weeks in advance!\n",
        "\n"
      ]
    },
    {
      "cell_type": "markdown",
      "metadata": {
        "id": "w6K7xa23Elo4"
      },
      "source": [
        "# **GitHub Link -**"
      ]
    },
    {
      "cell_type": "markdown",
      "metadata": {
        "id": "h1o69JH3Eqqn"
      },
      "source": [
        "https://github.com/ArushiSaxena11/Capstone-Project-Retail-Sales-Prediction"
      ]
    },
    {
      "cell_type": "markdown",
      "metadata": {
        "id": "yQaldy8SH6Dl"
      },
      "source": [
        "# **Problem Statement**\n"
      ]
    },
    {
      "cell_type": "markdown",
      "metadata": {
        "id": "DpeJGUA3kjGy"
      },
      "source": [
        "Rossmann operates over 3,000 drug stores in 7 European countries. Currently, Rossmann store managers are tasked with predicting their daily sales for up to six weeks in advance. Store sales are influenced by many factors, including promotions, competition, school and state holidays, seasonality, and locality. With thousands of individual managers predicting sales based on their unique circumstances, the accuracy of results can be quite varied.\n",
        "You are provided with historical sales data for 1,115 Rossmann stores. The task is to forecast the \"Sales\" column for the test set. Note that some stores in the dataset were temporarily closed for refurbishment."
      ]
    },
    {
      "cell_type": "markdown",
      "metadata": {
        "id": "N0RfPBk5U8KS"
      },
      "source": [
        "**Rossmann Stores Data.csv** - historical data including Sales\n",
        "\n",
        "**Store.csv** - supplemental information about the stores\n",
        "\n",
        "**Data fields**\n",
        "\n",
        "Most of the fields are self-explanatory. The following are descriptions for those that aren't.\n",
        "\n",
        "**Id** - an Id that represents a (Store, Date) duple within the test set\n",
        "\n",
        "**Store** - a unique Id for each store\n",
        "\n",
        "**Sales** - the turnover for any given day (this is what you are predicting)\n",
        "\n",
        "**Customers** - the number of customers on a given day\n",
        "\n",
        "**Open** - an indicator for whether the store was open: 0 = closed, 1 = open\n",
        "\n",
        "**StateHoliday** - indicates a state holiday.\n",
        "\n",
        "**SchoolHoliday** - indicates if the (Store, Date) was affected by the closure of public schools\n",
        "\n",
        "**StoreType** - differentiates between 4 different store models: a, b, c, d\n",
        "\n",
        "**Assortment** - describes an assortment level: a = basic, b = extra, c = extended\n",
        "\n",
        "**CompetitionDistance** - distance in meters to the nearest competitor store\n",
        "\n",
        "**CompetitionOpenSince[Month/Year]** - gives the approximate year and month of the time the nearest competitor was opened\n",
        "\n",
        "**Promo** - indicates whether a store is running a promo on that day\n",
        "\n",
        "**Promo2** - Promo2 is a continuing and consecutive promotion for some stores: 0 = store is not participating, 1 = store is participating\n",
        "\n",
        "**Promo2Since[Year/Week]** - describes the year and calendar week when the store started participating in Promo2\n",
        "\n",
        "**PromoInterval** - describes the consecutive intervals Promo2 is started, naming the months the promotion is started a new. E.g. \"Feb,May,Aug,Nov\" means each round starts in February, May, August, November of any given year for that store."
      ]
    },
    {
      "cell_type": "markdown",
      "metadata": {
        "id": "mDgbUHAGgjLW"
      },
      "source": [
        "# **General Guidelines** : -  "
      ]
    },
    {
      "cell_type": "markdown",
      "metadata": {
        "id": "ZrxVaUj-hHfC"
      },
      "source": [
        "1.   Well-structured, formatted, and commented code is required. \n",
        "2.   Exception Handling, Production Grade Code & Deployment Ready Code will be a plus. Those students will be awarded some additional credits. \n",
        "     \n",
        "     The additional credits will have advantages over other students during Star Student selection.\n",
        "       \n",
        "             [ Note: - Deployment Ready Code is defined as, the whole .ipynb notebook should be executable in one go\n",
        "                       without a single error logged. ]\n",
        "\n",
        "3.   Each and every logic should have proper comments.\n",
        "4. You may add as many number of charts you want. Make Sure for each and every chart the following format should be answered.\n",
        "        \n",
        "\n",
        "```\n",
        "# Chart visualization code\n",
        "```\n",
        "            \n",
        "\n",
        "*   Why did you pick the specific chart?\n",
        "*   What is/are the insight(s) found from the chart?\n",
        "* Will the gained insights help creating a positive business impact? \n",
        "Are there any insights that lead to negative growth? Justify with specific reason.\n",
        "\n",
        "5. You have to create at least 15 logical & meaningful charts having important insights.\n",
        "\n",
        "\n",
        "[ Hints : - Do the Vizualization in  a structured way while following \"UBM\" Rule. \n",
        "\n",
        "U - Univariate Analysis,\n",
        "\n",
        "B - Bivariate Analysis (Numerical - Categorical, Numerical - Numerical, Categorical - Categorical)\n",
        "\n",
        "M - Multivariate Analysis\n",
        " ]\n",
        "\n",
        "\n",
        "\n",
        "\n",
        "\n",
        "6. You may add more ml algorithms for model creation. Make sure for each and every algorithm, the following format should be answered.\n",
        "\n",
        "\n",
        "*   Explain the ML Model used and it's performance using Evaluation metric Score Chart.\n",
        "\n",
        "\n",
        "*   Cross- Validation & Hyperparameter Tuning\n",
        "\n",
        "*   Have you seen any improvement? Note down the improvement with updates Evaluation metric Score Chart.\n",
        "\n",
        "*   Explain each evaluation metric's indication towards business and the business impact pf the ML model used.\n",
        "\n",
        "\n",
        "\n",
        "\n",
        "\n",
        "\n",
        "\n",
        "\n",
        "\n",
        "\n",
        "\n",
        "\n",
        "\n",
        "\n",
        "\n",
        "\n",
        "\n",
        "\n"
      ]
    },
    {
      "cell_type": "markdown",
      "metadata": {
        "id": "O_i_v8NEhb9l"
      },
      "source": [
        "# ***Let's Begin !***"
      ]
    },
    {
      "cell_type": "markdown",
      "metadata": {
        "id": "id3oRuhCw2uW"
      },
      "source": [
        "## ***1. Know Your Data***"
      ]
    },
    {
      "cell_type": "markdown",
      "metadata": {
        "id": "cATrm8YHw2uW"
      },
      "source": [
        "### Import Libraries"
      ]
    },
    {
      "cell_type": "code",
      "execution_count": 1,
      "metadata": {
        "colab": {
          "base_uri": "https://localhost:8080/"
        },
        "id": "GEZUwB6Tut6D",
        "outputId": "8bb6f26c-bf86-42d7-d4c7-04f53da9930e",
        "scrolled": true
      },
      "outputs": [
        {
          "output_type": "stream",
          "name": "stdout",
          "text": [
            "Looking in indexes: https://pypi.org/simple, https://us-python.pkg.dev/colab-wheels/public/simple/\n",
            "Requirement already satisfied: lightgbm in /usr/local/lib/python3.10/dist-packages (3.3.5)\n",
            "Requirement already satisfied: scipy in /usr/local/lib/python3.10/dist-packages (from lightgbm) (1.10.1)\n",
            "Requirement already satisfied: scikit-learn!=0.22.0 in /usr/local/lib/python3.10/dist-packages (from lightgbm) (1.2.2)\n",
            "Requirement already satisfied: numpy in /usr/local/lib/python3.10/dist-packages (from lightgbm) (1.22.4)\n",
            "Requirement already satisfied: wheel in /usr/local/lib/python3.10/dist-packages (from lightgbm) (0.40.0)\n",
            "Requirement already satisfied: threadpoolctl>=2.0.0 in /usr/local/lib/python3.10/dist-packages (from scikit-learn!=0.22.0->lightgbm) (3.1.0)\n",
            "Requirement already satisfied: joblib>=1.1.1 in /usr/local/lib/python3.10/dist-packages (from scikit-learn!=0.22.0->lightgbm) (1.2.0)\n",
            "Looking in indexes: https://pypi.org/simple, https://us-python.pkg.dev/colab-wheels/public/simple/\n",
            "Requirement already satisfied: xgboost in /usr/local/lib/python3.10/dist-packages (1.7.5)\n",
            "Requirement already satisfied: numpy in /usr/local/lib/python3.10/dist-packages (from xgboost) (1.22.4)\n",
            "Requirement already satisfied: scipy in /usr/local/lib/python3.10/dist-packages (from xgboost) (1.10.1)\n",
            "Looking in indexes: https://pypi.org/simple, https://us-python.pkg.dev/colab-wheels/public/simple/\n",
            "Collecting SHAP\n",
            "  Downloading shap-0.41.0-cp310-cp310-manylinux_2_12_x86_64.manylinux2010_x86_64.whl (572 kB)\n",
            "\u001b[2K     \u001b[90m━━━━━━━━━━━━━━━━━━━━━━━━━━━━━━━━━━━━━━\u001b[0m \u001b[32m572.6/572.6 kB\u001b[0m \u001b[31m31.7 MB/s\u001b[0m eta \u001b[36m0:00:00\u001b[0m\n",
            "\u001b[?25hRequirement already satisfied: pandas in /usr/local/lib/python3.10/dist-packages (from SHAP) (1.5.3)\n",
            "Requirement already satisfied: scipy in /usr/local/lib/python3.10/dist-packages (from SHAP) (1.10.1)\n",
            "Collecting slicer==0.0.7\n",
            "  Downloading slicer-0.0.7-py3-none-any.whl (14 kB)\n",
            "Requirement already satisfied: packaging>20.9 in /usr/local/lib/python3.10/dist-packages (from SHAP) (23.1)\n",
            "Requirement already satisfied: numba in /usr/local/lib/python3.10/dist-packages (from SHAP) (0.56.4)\n",
            "Requirement already satisfied: scikit-learn in /usr/local/lib/python3.10/dist-packages (from SHAP) (1.2.2)\n",
            "Requirement already satisfied: cloudpickle in /usr/local/lib/python3.10/dist-packages (from SHAP) (2.2.1)\n",
            "Requirement already satisfied: tqdm>4.25.0 in /usr/local/lib/python3.10/dist-packages (from SHAP) (4.65.0)\n",
            "Requirement already satisfied: numpy in /usr/local/lib/python3.10/dist-packages (from SHAP) (1.22.4)\n",
            "Requirement already satisfied: llvmlite<0.40,>=0.39.0dev0 in /usr/local/lib/python3.10/dist-packages (from numba->SHAP) (0.39.1)\n",
            "Requirement already satisfied: setuptools in /usr/local/lib/python3.10/dist-packages (from numba->SHAP) (67.7.2)\n",
            "Requirement already satisfied: python-dateutil>=2.8.1 in /usr/local/lib/python3.10/dist-packages (from pandas->SHAP) (2.8.2)\n",
            "Requirement already satisfied: pytz>=2020.1 in /usr/local/lib/python3.10/dist-packages (from pandas->SHAP) (2022.7.1)\n",
            "Requirement already satisfied: joblib>=1.1.1 in /usr/local/lib/python3.10/dist-packages (from scikit-learn->SHAP) (1.2.0)\n",
            "Requirement already satisfied: threadpoolctl>=2.0.0 in /usr/local/lib/python3.10/dist-packages (from scikit-learn->SHAP) (3.1.0)\n",
            "Requirement already satisfied: six>=1.5 in /usr/local/lib/python3.10/dist-packages (from python-dateutil>=2.8.1->pandas->SHAP) (1.16.0)\n",
            "Installing collected packages: slicer, SHAP\n",
            "Successfully installed SHAP-0.41.0 slicer-0.0.7\n"
          ]
        }
      ],
      "source": [
        "# Importing basic libraries for data processing\n",
        "import numpy as np\n",
        "import pandas as pd\n",
        "import math\n",
        "from datetime import datetime\n",
        "\n",
        "# Importing libraries for data visualization\n",
        "import matplotlib.pyplot as plt\n",
        "%matplotlib inline\n",
        "import seaborn as sns\n",
        "\n",
        "# importing missingo library which helps us to visualize the missing values\n",
        "import missingno as msno\n",
        "\n",
        "# Adding this to ignore future warnings\n",
        "import warnings\n",
        "warnings.filterwarnings(\"ignore\")\n",
        "\n",
        "# Importing pearson corelation library for hypothesis testing\n",
        "from scipy.stats import pearsonr\n",
        "\n",
        "#Importing lightGBM and xgboost\n",
        "!pip install lightgbm\n",
        "!pip install xgboost\n",
        "\n",
        "# Importing libraries for model implimentation\n",
        "from sklearn.linear_model import LinearRegression\n",
        "from sklearn.linear_model import Ridge\n",
        "from sklearn.linear_model import Lasso\n",
        "from sklearn.linear_model import ElasticNet\n",
        "from sklearn.tree import DecisionTreeRegressor\n",
        "from sklearn.ensemble import RandomForestRegressor \n",
        "from lightgbm import LGBMRegressor\n",
        "from xgboost import XGBRegressor\n",
        "\n",
        "# Importing libraries for hyperparameter tuning\n",
        "from sklearn.model_selection import GridSearchCV\n",
        "from sklearn.model_selection import RandomizedSearchCV\n",
        "\n",
        "# Importing libraries for visualizing decison tree\n",
        "from sklearn.tree import DecisionTreeClassifier, export_graphviz\n",
        "from sklearn import tree\n",
        "from IPython.display import SVG\n",
        "from graphviz import Source\n",
        "from IPython.display import display\n",
        "\n",
        "# Importing regression metrics to check the model performance\n",
        "from sklearn.metrics import mean_absolute_error\n",
        "from sklearn.metrics import mean_squared_error\n",
        "from sklearn.metrics import r2_score\n",
        "from sklearn.metrics import mean_absolute_percentage_error\n",
        "\n",
        "# Improting library for saving model as pickle file\n",
        "import pickle\n",
        "\n",
        "# Importing SHAP for model explainability\n",
        "!pip install SHAP"
      ]
    },
    {
      "cell_type": "markdown",
      "metadata": {
        "id": "54kDRYszw2uX"
      },
      "source": [
        "### Dataset Loading"
      ]
    },
    {
      "cell_type": "code",
      "execution_count": 2,
      "metadata": {
        "colab": {
          "base_uri": "https://localhost:8080/"
        },
        "id": "uCld-gzcjqdA",
        "outputId": "831e3da7-52a9-438e-9d20-1e0702db38c5"
      },
      "outputs": [
        {
          "output_type": "stream",
          "name": "stdout",
          "text": [
            "Mounted at /content/drive\n"
          ]
        }
      ],
      "source": [
        "from google.colab import drive\n",
        "drive.mount('/content/drive')"
      ]
    },
    {
      "cell_type": "code",
      "execution_count": 3,
      "metadata": {
        "id": "GAVI4tcgw2uX"
      },
      "outputs": [],
      "source": [
        "# Load Dataset\n",
        "\n",
        "Rossmann_Data= pd.read_csv(\"/content/drive/My Drive/dataset/Rossmann Stores Data.csv\")\n",
        "Store_Data= pd.read_csv(\"/content/drive/My Drive/dataset/store.csv\")"
      ]
    },
    {
      "cell_type": "markdown",
      "metadata": {
        "id": "XGi210kGw2uX"
      },
      "source": [
        "### Dataset First View"
      ]
    },
    {
      "cell_type": "code",
      "execution_count": 4,
      "metadata": {
        "colab": {
          "base_uri": "https://localhost:8080/",
          "height": 0
        },
        "id": "LEQlHjDDw2uX",
        "outputId": "43d8b3e1-5eb9-4435-8014-1da0ec3738d4"
      },
      "outputs": [
        {
          "output_type": "execute_result",
          "data": {
            "text/plain": [
              "   Store  DayOfWeek        Date  Sales  Customers  Open  Promo StateHoliday  \\\n",
              "0      1          5  2015-07-31   5263        555     1      1            0   \n",
              "1      2          5  2015-07-31   6064        625     1      1            0   \n",
              "2      3          5  2015-07-31   8314        821     1      1            0   \n",
              "3      4          5  2015-07-31  13995       1498     1      1            0   \n",
              "4      5          5  2015-07-31   4822        559     1      1            0   \n",
              "\n",
              "   SchoolHoliday  \n",
              "0              1  \n",
              "1              1  \n",
              "2              1  \n",
              "3              1  \n",
              "4              1  "
            ],
            "text/html": [
              "\n",
              "  <div id=\"df-1241bf3c-02ea-4d74-b382-1b6337dd0838\">\n",
              "    <div class=\"colab-df-container\">\n",
              "      <div>\n",
              "<style scoped>\n",
              "    .dataframe tbody tr th:only-of-type {\n",
              "        vertical-align: middle;\n",
              "    }\n",
              "\n",
              "    .dataframe tbody tr th {\n",
              "        vertical-align: top;\n",
              "    }\n",
              "\n",
              "    .dataframe thead th {\n",
              "        text-align: right;\n",
              "    }\n",
              "</style>\n",
              "<table border=\"1\" class=\"dataframe\">\n",
              "  <thead>\n",
              "    <tr style=\"text-align: right;\">\n",
              "      <th></th>\n",
              "      <th>Store</th>\n",
              "      <th>DayOfWeek</th>\n",
              "      <th>Date</th>\n",
              "      <th>Sales</th>\n",
              "      <th>Customers</th>\n",
              "      <th>Open</th>\n",
              "      <th>Promo</th>\n",
              "      <th>StateHoliday</th>\n",
              "      <th>SchoolHoliday</th>\n",
              "    </tr>\n",
              "  </thead>\n",
              "  <tbody>\n",
              "    <tr>\n",
              "      <th>0</th>\n",
              "      <td>1</td>\n",
              "      <td>5</td>\n",
              "      <td>2015-07-31</td>\n",
              "      <td>5263</td>\n",
              "      <td>555</td>\n",
              "      <td>1</td>\n",
              "      <td>1</td>\n",
              "      <td>0</td>\n",
              "      <td>1</td>\n",
              "    </tr>\n",
              "    <tr>\n",
              "      <th>1</th>\n",
              "      <td>2</td>\n",
              "      <td>5</td>\n",
              "      <td>2015-07-31</td>\n",
              "      <td>6064</td>\n",
              "      <td>625</td>\n",
              "      <td>1</td>\n",
              "      <td>1</td>\n",
              "      <td>0</td>\n",
              "      <td>1</td>\n",
              "    </tr>\n",
              "    <tr>\n",
              "      <th>2</th>\n",
              "      <td>3</td>\n",
              "      <td>5</td>\n",
              "      <td>2015-07-31</td>\n",
              "      <td>8314</td>\n",
              "      <td>821</td>\n",
              "      <td>1</td>\n",
              "      <td>1</td>\n",
              "      <td>0</td>\n",
              "      <td>1</td>\n",
              "    </tr>\n",
              "    <tr>\n",
              "      <th>3</th>\n",
              "      <td>4</td>\n",
              "      <td>5</td>\n",
              "      <td>2015-07-31</td>\n",
              "      <td>13995</td>\n",
              "      <td>1498</td>\n",
              "      <td>1</td>\n",
              "      <td>1</td>\n",
              "      <td>0</td>\n",
              "      <td>1</td>\n",
              "    </tr>\n",
              "    <tr>\n",
              "      <th>4</th>\n",
              "      <td>5</td>\n",
              "      <td>5</td>\n",
              "      <td>2015-07-31</td>\n",
              "      <td>4822</td>\n",
              "      <td>559</td>\n",
              "      <td>1</td>\n",
              "      <td>1</td>\n",
              "      <td>0</td>\n",
              "      <td>1</td>\n",
              "    </tr>\n",
              "  </tbody>\n",
              "</table>\n",
              "</div>\n",
              "      <button class=\"colab-df-convert\" onclick=\"convertToInteractive('df-1241bf3c-02ea-4d74-b382-1b6337dd0838')\"\n",
              "              title=\"Convert this dataframe to an interactive table.\"\n",
              "              style=\"display:none;\">\n",
              "        \n",
              "  <svg xmlns=\"http://www.w3.org/2000/svg\" height=\"24px\"viewBox=\"0 0 24 24\"\n",
              "       width=\"24px\">\n",
              "    <path d=\"M0 0h24v24H0V0z\" fill=\"none\"/>\n",
              "    <path d=\"M18.56 5.44l.94 2.06.94-2.06 2.06-.94-2.06-.94-.94-2.06-.94 2.06-2.06.94zm-11 1L8.5 8.5l.94-2.06 2.06-.94-2.06-.94L8.5 2.5l-.94 2.06-2.06.94zm10 10l.94 2.06.94-2.06 2.06-.94-2.06-.94-.94-2.06-.94 2.06-2.06.94z\"/><path d=\"M17.41 7.96l-1.37-1.37c-.4-.4-.92-.59-1.43-.59-.52 0-1.04.2-1.43.59L10.3 9.45l-7.72 7.72c-.78.78-.78 2.05 0 2.83L4 21.41c.39.39.9.59 1.41.59.51 0 1.02-.2 1.41-.59l7.78-7.78 2.81-2.81c.8-.78.8-2.07 0-2.86zM5.41 20L4 18.59l7.72-7.72 1.47 1.35L5.41 20z\"/>\n",
              "  </svg>\n",
              "      </button>\n",
              "      \n",
              "  <style>\n",
              "    .colab-df-container {\n",
              "      display:flex;\n",
              "      flex-wrap:wrap;\n",
              "      gap: 12px;\n",
              "    }\n",
              "\n",
              "    .colab-df-convert {\n",
              "      background-color: #E8F0FE;\n",
              "      border: none;\n",
              "      border-radius: 50%;\n",
              "      cursor: pointer;\n",
              "      display: none;\n",
              "      fill: #1967D2;\n",
              "      height: 32px;\n",
              "      padding: 0 0 0 0;\n",
              "      width: 32px;\n",
              "    }\n",
              "\n",
              "    .colab-df-convert:hover {\n",
              "      background-color: #E2EBFA;\n",
              "      box-shadow: 0px 1px 2px rgba(60, 64, 67, 0.3), 0px 1px 3px 1px rgba(60, 64, 67, 0.15);\n",
              "      fill: #174EA6;\n",
              "    }\n",
              "\n",
              "    [theme=dark] .colab-df-convert {\n",
              "      background-color: #3B4455;\n",
              "      fill: #D2E3FC;\n",
              "    }\n",
              "\n",
              "    [theme=dark] .colab-df-convert:hover {\n",
              "      background-color: #434B5C;\n",
              "      box-shadow: 0px 1px 3px 1px rgba(0, 0, 0, 0.15);\n",
              "      filter: drop-shadow(0px 1px 2px rgba(0, 0, 0, 0.3));\n",
              "      fill: #FFFFFF;\n",
              "    }\n",
              "  </style>\n",
              "\n",
              "      <script>\n",
              "        const buttonEl =\n",
              "          document.querySelector('#df-1241bf3c-02ea-4d74-b382-1b6337dd0838 button.colab-df-convert');\n",
              "        buttonEl.style.display =\n",
              "          google.colab.kernel.accessAllowed ? 'block' : 'none';\n",
              "\n",
              "        async function convertToInteractive(key) {\n",
              "          const element = document.querySelector('#df-1241bf3c-02ea-4d74-b382-1b6337dd0838');\n",
              "          const dataTable =\n",
              "            await google.colab.kernel.invokeFunction('convertToInteractive',\n",
              "                                                     [key], {});\n",
              "          if (!dataTable) return;\n",
              "\n",
              "          const docLinkHtml = 'Like what you see? Visit the ' +\n",
              "            '<a target=\"_blank\" href=https://colab.research.google.com/notebooks/data_table.ipynb>data table notebook</a>'\n",
              "            + ' to learn more about interactive tables.';\n",
              "          element.innerHTML = '';\n",
              "          dataTable['output_type'] = 'display_data';\n",
              "          await google.colab.output.renderOutput(dataTable, element);\n",
              "          const docLink = document.createElement('div');\n",
              "          docLink.innerHTML = docLinkHtml;\n",
              "          element.appendChild(docLink);\n",
              "        }\n",
              "      </script>\n",
              "    </div>\n",
              "  </div>\n",
              "  "
            ]
          },
          "metadata": {},
          "execution_count": 4
        }
      ],
      "source": [
        "# Dataset First Look of rossmann dataset\n",
        "Rossmann_Data.head()"
      ]
    },
    {
      "cell_type": "code",
      "execution_count": 5,
      "metadata": {
        "colab": {
          "base_uri": "https://localhost:8080/",
          "height": 0
        },
        "id": "nJjnpQjNkvDa",
        "outputId": "3df7d0c1-7191-4687-c775-9da33824e4ae"
      },
      "outputs": [
        {
          "output_type": "execute_result",
          "data": {
            "text/plain": [
              "   Store StoreType Assortment  CompetitionDistance  CompetitionOpenSinceMonth  \\\n",
              "0      1         c          a               1270.0                        9.0   \n",
              "1      2         a          a                570.0                       11.0   \n",
              "2      3         a          a              14130.0                       12.0   \n",
              "3      4         c          c                620.0                        9.0   \n",
              "4      5         a          a              29910.0                        4.0   \n",
              "\n",
              "   CompetitionOpenSinceYear  Promo2  Promo2SinceWeek  Promo2SinceYear  \\\n",
              "0                    2008.0       0              NaN              NaN   \n",
              "1                    2007.0       1             13.0           2010.0   \n",
              "2                    2006.0       1             14.0           2011.0   \n",
              "3                    2009.0       0              NaN              NaN   \n",
              "4                    2015.0       0              NaN              NaN   \n",
              "\n",
              "     PromoInterval  \n",
              "0              NaN  \n",
              "1  Jan,Apr,Jul,Oct  \n",
              "2  Jan,Apr,Jul,Oct  \n",
              "3              NaN  \n",
              "4              NaN  "
            ],
            "text/html": [
              "\n",
              "  <div id=\"df-b92a6369-bc5e-4555-8ff6-1c3aee62c67d\">\n",
              "    <div class=\"colab-df-container\">\n",
              "      <div>\n",
              "<style scoped>\n",
              "    .dataframe tbody tr th:only-of-type {\n",
              "        vertical-align: middle;\n",
              "    }\n",
              "\n",
              "    .dataframe tbody tr th {\n",
              "        vertical-align: top;\n",
              "    }\n",
              "\n",
              "    .dataframe thead th {\n",
              "        text-align: right;\n",
              "    }\n",
              "</style>\n",
              "<table border=\"1\" class=\"dataframe\">\n",
              "  <thead>\n",
              "    <tr style=\"text-align: right;\">\n",
              "      <th></th>\n",
              "      <th>Store</th>\n",
              "      <th>StoreType</th>\n",
              "      <th>Assortment</th>\n",
              "      <th>CompetitionDistance</th>\n",
              "      <th>CompetitionOpenSinceMonth</th>\n",
              "      <th>CompetitionOpenSinceYear</th>\n",
              "      <th>Promo2</th>\n",
              "      <th>Promo2SinceWeek</th>\n",
              "      <th>Promo2SinceYear</th>\n",
              "      <th>PromoInterval</th>\n",
              "    </tr>\n",
              "  </thead>\n",
              "  <tbody>\n",
              "    <tr>\n",
              "      <th>0</th>\n",
              "      <td>1</td>\n",
              "      <td>c</td>\n",
              "      <td>a</td>\n",
              "      <td>1270.0</td>\n",
              "      <td>9.0</td>\n",
              "      <td>2008.0</td>\n",
              "      <td>0</td>\n",
              "      <td>NaN</td>\n",
              "      <td>NaN</td>\n",
              "      <td>NaN</td>\n",
              "    </tr>\n",
              "    <tr>\n",
              "      <th>1</th>\n",
              "      <td>2</td>\n",
              "      <td>a</td>\n",
              "      <td>a</td>\n",
              "      <td>570.0</td>\n",
              "      <td>11.0</td>\n",
              "      <td>2007.0</td>\n",
              "      <td>1</td>\n",
              "      <td>13.0</td>\n",
              "      <td>2010.0</td>\n",
              "      <td>Jan,Apr,Jul,Oct</td>\n",
              "    </tr>\n",
              "    <tr>\n",
              "      <th>2</th>\n",
              "      <td>3</td>\n",
              "      <td>a</td>\n",
              "      <td>a</td>\n",
              "      <td>14130.0</td>\n",
              "      <td>12.0</td>\n",
              "      <td>2006.0</td>\n",
              "      <td>1</td>\n",
              "      <td>14.0</td>\n",
              "      <td>2011.0</td>\n",
              "      <td>Jan,Apr,Jul,Oct</td>\n",
              "    </tr>\n",
              "    <tr>\n",
              "      <th>3</th>\n",
              "      <td>4</td>\n",
              "      <td>c</td>\n",
              "      <td>c</td>\n",
              "      <td>620.0</td>\n",
              "      <td>9.0</td>\n",
              "      <td>2009.0</td>\n",
              "      <td>0</td>\n",
              "      <td>NaN</td>\n",
              "      <td>NaN</td>\n",
              "      <td>NaN</td>\n",
              "    </tr>\n",
              "    <tr>\n",
              "      <th>4</th>\n",
              "      <td>5</td>\n",
              "      <td>a</td>\n",
              "      <td>a</td>\n",
              "      <td>29910.0</td>\n",
              "      <td>4.0</td>\n",
              "      <td>2015.0</td>\n",
              "      <td>0</td>\n",
              "      <td>NaN</td>\n",
              "      <td>NaN</td>\n",
              "      <td>NaN</td>\n",
              "    </tr>\n",
              "  </tbody>\n",
              "</table>\n",
              "</div>\n",
              "      <button class=\"colab-df-convert\" onclick=\"convertToInteractive('df-b92a6369-bc5e-4555-8ff6-1c3aee62c67d')\"\n",
              "              title=\"Convert this dataframe to an interactive table.\"\n",
              "              style=\"display:none;\">\n",
              "        \n",
              "  <svg xmlns=\"http://www.w3.org/2000/svg\" height=\"24px\"viewBox=\"0 0 24 24\"\n",
              "       width=\"24px\">\n",
              "    <path d=\"M0 0h24v24H0V0z\" fill=\"none\"/>\n",
              "    <path d=\"M18.56 5.44l.94 2.06.94-2.06 2.06-.94-2.06-.94-.94-2.06-.94 2.06-2.06.94zm-11 1L8.5 8.5l.94-2.06 2.06-.94-2.06-.94L8.5 2.5l-.94 2.06-2.06.94zm10 10l.94 2.06.94-2.06 2.06-.94-2.06-.94-.94-2.06-.94 2.06-2.06.94z\"/><path d=\"M17.41 7.96l-1.37-1.37c-.4-.4-.92-.59-1.43-.59-.52 0-1.04.2-1.43.59L10.3 9.45l-7.72 7.72c-.78.78-.78 2.05 0 2.83L4 21.41c.39.39.9.59 1.41.59.51 0 1.02-.2 1.41-.59l7.78-7.78 2.81-2.81c.8-.78.8-2.07 0-2.86zM5.41 20L4 18.59l7.72-7.72 1.47 1.35L5.41 20z\"/>\n",
              "  </svg>\n",
              "      </button>\n",
              "      \n",
              "  <style>\n",
              "    .colab-df-container {\n",
              "      display:flex;\n",
              "      flex-wrap:wrap;\n",
              "      gap: 12px;\n",
              "    }\n",
              "\n",
              "    .colab-df-convert {\n",
              "      background-color: #E8F0FE;\n",
              "      border: none;\n",
              "      border-radius: 50%;\n",
              "      cursor: pointer;\n",
              "      display: none;\n",
              "      fill: #1967D2;\n",
              "      height: 32px;\n",
              "      padding: 0 0 0 0;\n",
              "      width: 32px;\n",
              "    }\n",
              "\n",
              "    .colab-df-convert:hover {\n",
              "      background-color: #E2EBFA;\n",
              "      box-shadow: 0px 1px 2px rgba(60, 64, 67, 0.3), 0px 1px 3px 1px rgba(60, 64, 67, 0.15);\n",
              "      fill: #174EA6;\n",
              "    }\n",
              "\n",
              "    [theme=dark] .colab-df-convert {\n",
              "      background-color: #3B4455;\n",
              "      fill: #D2E3FC;\n",
              "    }\n",
              "\n",
              "    [theme=dark] .colab-df-convert:hover {\n",
              "      background-color: #434B5C;\n",
              "      box-shadow: 0px 1px 3px 1px rgba(0, 0, 0, 0.15);\n",
              "      filter: drop-shadow(0px 1px 2px rgba(0, 0, 0, 0.3));\n",
              "      fill: #FFFFFF;\n",
              "    }\n",
              "  </style>\n",
              "\n",
              "      <script>\n",
              "        const buttonEl =\n",
              "          document.querySelector('#df-b92a6369-bc5e-4555-8ff6-1c3aee62c67d button.colab-df-convert');\n",
              "        buttonEl.style.display =\n",
              "          google.colab.kernel.accessAllowed ? 'block' : 'none';\n",
              "\n",
              "        async function convertToInteractive(key) {\n",
              "          const element = document.querySelector('#df-b92a6369-bc5e-4555-8ff6-1c3aee62c67d');\n",
              "          const dataTable =\n",
              "            await google.colab.kernel.invokeFunction('convertToInteractive',\n",
              "                                                     [key], {});\n",
              "          if (!dataTable) return;\n",
              "\n",
              "          const docLinkHtml = 'Like what you see? Visit the ' +\n",
              "            '<a target=\"_blank\" href=https://colab.research.google.com/notebooks/data_table.ipynb>data table notebook</a>'\n",
              "            + ' to learn more about interactive tables.';\n",
              "          element.innerHTML = '';\n",
              "          dataTable['output_type'] = 'display_data';\n",
              "          await google.colab.output.renderOutput(dataTable, element);\n",
              "          const docLink = document.createElement('div');\n",
              "          docLink.innerHTML = docLinkHtml;\n",
              "          element.appendChild(docLink);\n",
              "        }\n",
              "      </script>\n",
              "    </div>\n",
              "  </div>\n",
              "  "
            ]
          },
          "metadata": {},
          "execution_count": 5
        }
      ],
      "source": [
        "# Dataset First Look of store dataset\n",
        "Store_Data.head()"
      ]
    },
    {
      "cell_type": "markdown",
      "metadata": {
        "id": "CxeYxZQ2w2uY"
      },
      "source": [
        "### Dataset Rows & Columns count"
      ]
    },
    {
      "cell_type": "code",
      "execution_count": 6,
      "metadata": {
        "colab": {
          "base_uri": "https://localhost:8080/"
        },
        "id": "JUVcRqpFw2uY",
        "outputId": "e47020c4-3fd1-4578-d462-a026a1d9fee8"
      },
      "outputs": [
        {
          "output_type": "execute_result",
          "data": {
            "text/plain": [
              "(1017209, 9)"
            ]
          },
          "metadata": {},
          "execution_count": 6
        }
      ],
      "source": [
        "# Rossmann Dataset Rows & Columns count\n",
        "Rossmann_Data.shape"
      ]
    },
    {
      "cell_type": "code",
      "source": [
        "#Store Dataset Rows & Columns count\n",
        "Store_Data.shape"
      ],
      "metadata": {
        "colab": {
          "base_uri": "https://localhost:8080/"
        },
        "id": "v5LyKtvnCARq",
        "outputId": "7bbc3a81-b3c6-41ee-f4ac-ebf86d750042"
      },
      "execution_count": 7,
      "outputs": [
        {
          "output_type": "execute_result",
          "data": {
            "text/plain": [
              "(1115, 10)"
            ]
          },
          "metadata": {},
          "execution_count": 7
        }
      ]
    },
    {
      "cell_type": "markdown",
      "metadata": {
        "id": "13Qk_AJgw2uY"
      },
      "source": [
        "### Dataset Information"
      ]
    },
    {
      "cell_type": "code",
      "execution_count": 8,
      "metadata": {
        "colab": {
          "base_uri": "https://localhost:8080/"
        },
        "id": "e9hRXRi6meOf",
        "outputId": "ea67cc73-a56c-4291-cb83-012fe20417d5"
      },
      "outputs": [
        {
          "output_type": "stream",
          "name": "stdout",
          "text": [
            "<class 'pandas.core.frame.DataFrame'>\n",
            "RangeIndex: 1017209 entries, 0 to 1017208\n",
            "Data columns (total 9 columns):\n",
            " #   Column         Non-Null Count    Dtype \n",
            "---  ------         --------------    ----- \n",
            " 0   Store          1017209 non-null  int64 \n",
            " 1   DayOfWeek      1017209 non-null  int64 \n",
            " 2   Date           1017209 non-null  object\n",
            " 3   Sales          1017209 non-null  int64 \n",
            " 4   Customers      1017209 non-null  int64 \n",
            " 5   Open           1017209 non-null  int64 \n",
            " 6   Promo          1017209 non-null  int64 \n",
            " 7   StateHoliday   1017209 non-null  object\n",
            " 8   SchoolHoliday  1017209 non-null  int64 \n",
            "dtypes: int64(7), object(2)\n",
            "memory usage: 69.8+ MB\n"
          ]
        }
      ],
      "source": [
        "# Rossmann Dataset Info\n",
        "Rossmann_Data.info()"
      ]
    },
    {
      "cell_type": "code",
      "execution_count": 9,
      "metadata": {
        "colab": {
          "base_uri": "https://localhost:8080/"
        },
        "id": "Vgz0L-6SnY12",
        "outputId": "1f841ca0-57d9-4d33-bfbb-f44d4ed25981"
      },
      "outputs": [
        {
          "output_type": "stream",
          "name": "stdout",
          "text": [
            "<class 'pandas.core.frame.DataFrame'>\n",
            "RangeIndex: 1115 entries, 0 to 1114\n",
            "Data columns (total 10 columns):\n",
            " #   Column                     Non-Null Count  Dtype  \n",
            "---  ------                     --------------  -----  \n",
            " 0   Store                      1115 non-null   int64  \n",
            " 1   StoreType                  1115 non-null   object \n",
            " 2   Assortment                 1115 non-null   object \n",
            " 3   CompetitionDistance        1112 non-null   float64\n",
            " 4   CompetitionOpenSinceMonth  761 non-null    float64\n",
            " 5   CompetitionOpenSinceYear   761 non-null    float64\n",
            " 6   Promo2                     1115 non-null   int64  \n",
            " 7   Promo2SinceWeek            571 non-null    float64\n",
            " 8   Promo2SinceYear            571 non-null    float64\n",
            " 9   PromoInterval              571 non-null    object \n",
            "dtypes: float64(5), int64(2), object(3)\n",
            "memory usage: 87.2+ KB\n"
          ]
        }
      ],
      "source": [
        "# Store Dataset Info\n",
        "Store_Data.info()"
      ]
    },
    {
      "cell_type": "markdown",
      "metadata": {
        "id": "ODaXyvW2w2uZ"
      },
      "source": [
        "#### Duplicate Values"
      ]
    },
    {
      "cell_type": "code",
      "execution_count": 10,
      "metadata": {
        "colab": {
          "base_uri": "https://localhost:8080/"
        },
        "id": "1sLdpKYkmox0",
        "outputId": "67675b4b-05b7-4c26-fd12-6c33deda78b0"
      },
      "outputs": [
        {
          "output_type": "execute_result",
          "data": {
            "text/plain": [
              "0"
            ]
          },
          "metadata": {},
          "execution_count": 10
        }
      ],
      "source": [
        "# Duplicate Value Count of Rossmann Data\n",
        "len(Rossmann_Data[Rossmann_Data.duplicated()])"
      ]
    },
    {
      "cell_type": "code",
      "source": [
        "# Duplicate Value Count of Store Data\n",
        "len(Store_Data[Rossmann_Data.duplicated()])"
      ],
      "metadata": {
        "colab": {
          "base_uri": "https://localhost:8080/"
        },
        "id": "qFEZor5LDw-B",
        "outputId": "06dbdbea-8517-4110-bcf9-623561db1bb8"
      },
      "execution_count": 11,
      "outputs": [
        {
          "output_type": "execute_result",
          "data": {
            "text/plain": [
              "0"
            ]
          },
          "metadata": {},
          "execution_count": 11
        }
      ]
    },
    {
      "cell_type": "markdown",
      "metadata": {
        "id": "0igBJLeQ7Njd"
      },
      "source": [
        "As we can see that there is no duplicate values present in the both dataset."
      ]
    },
    {
      "cell_type": "markdown",
      "metadata": {
        "id": "fFeesttDw2uZ"
      },
      "source": [
        "#### Missing Values/Null Values"
      ]
    },
    {
      "cell_type": "code",
      "execution_count": 12,
      "metadata": {
        "colab": {
          "base_uri": "https://localhost:8080/"
        },
        "id": "GgHWkxvamxVg",
        "outputId": "c21f7da5-caf1-44f6-8efb-de33f96c14c3"
      },
      "outputs": [
        {
          "output_type": "stream",
          "name": "stdout",
          "text": [
            "Store            0\n",
            "DayOfWeek        0\n",
            "Date             0\n",
            "Sales            0\n",
            "Customers        0\n",
            "Open             0\n",
            "Promo            0\n",
            "StateHoliday     0\n",
            "SchoolHoliday    0\n",
            "dtype: int64\n"
          ]
        }
      ],
      "source": [
        "# Missing Values/Null Values Count in Rossmann Data\n",
        "print(Rossmann_Data.isnull().sum())"
      ]
    },
    {
      "cell_type": "code",
      "source": [
        "# Missing Values/Null Values Count in Store Data\n",
        "print(Store_Data.isnull().sum())"
      ],
      "metadata": {
        "colab": {
          "base_uri": "https://localhost:8080/"
        },
        "id": "3gCPFv7IEJds",
        "outputId": "e79eab3d-db5d-4452-d5b6-e36f450eab28"
      },
      "execution_count": 13,
      "outputs": [
        {
          "output_type": "stream",
          "name": "stdout",
          "text": [
            "Store                          0\n",
            "StoreType                      0\n",
            "Assortment                     0\n",
            "CompetitionDistance            3\n",
            "CompetitionOpenSinceMonth    354\n",
            "CompetitionOpenSinceYear     354\n",
            "Promo2                         0\n",
            "Promo2SinceWeek              544\n",
            "Promo2SinceYear              544\n",
            "PromoInterval                544\n",
            "dtype: int64\n"
          ]
        }
      ]
    },
    {
      "cell_type": "markdown",
      "metadata": {
        "id": "shzhPzjAJcV9"
      },
      "source": [
        "We don't have null or infinite values Rossmann's dataset but have some null values in Store dataset and we have to deal with it in future."
      ]
    },
    {
      "cell_type": "code",
      "execution_count": 14,
      "metadata": {
        "colab": {
          "base_uri": "https://localhost:8080/",
          "height": 0
        },
        "id": "lcRAVBJHw2uc",
        "outputId": "534a2ed8-6fca-4886-91ea-ae7a8bdd8215"
      },
      "outputs": [
        {
          "output_type": "execute_result",
          "data": {
            "text/plain": [
              "<Axes: >"
            ]
          },
          "metadata": {},
          "execution_count": 14
        },
        {
          "output_type": "display_data",
          "data": {
            "text/plain": [
              "<Figure size 640x480 with 1 Axes>"
            ],
            "image/png": "[encoded data removed]"
          },
          "metadata": {}
        }
      ],
      "source": [
        "# Visualizing the missing values in Rossmann dataset\n",
        "sns.heatmap(Rossmann_Data.isnull(), cbar=False)"
      ]
    },
    {
      "cell_type": "code",
      "execution_count": 15,
      "metadata": {
        "colab": {
          "base_uri": "https://localhost:8080/",
          "height": 0
        },
        "id": "N3qLBUaeMbbV",
        "outputId": "545c86ea-4ee0-4317-df2f-80d9668a01cb"
      },
      "outputs": [
        {
          "output_type": "execute_result",
          "data": {
            "text/plain": [
              "<Axes: >"
            ]
          },
          "metadata": {},
          "execution_count": 15
        },
        {
          "output_type": "display_data",
          "data": {
            "text/plain": [
              "<Figure size 640x480 with 1 Axes>"
            ],
            "image/png": "[encoded data removed]"
          },
          "metadata": {}
        }
      ],
      "source": [
        "# Visualizing the missing values in Store dataset\n",
        "sns.heatmap(Store_Data.isnull(), cbar=False)"
      ]
    },
    {
      "cell_type": "markdown",
      "metadata": {
        "id": "WqnHH9aAw2uc"
      },
      "source": [
        "### What did you know about your dataset?"
      ]
    },
    {
      "cell_type": "markdown",
      "metadata": {
        "id": "IDLuAdzkw2uc"
      },
      "source": [
        "Till now we get to know the following points about our dataset:\n",
        "1. **'Rossmann dataset'** is having **1017209 rows and 9 columns** and does not have any null value.\n",
        "2. **'Stores dataset'** is having **1115 rows and 10 columns**. It contains null values in total six features viz. CompetitionDistance,CompetitionOpenSinceMonth, CompetitionOpenSinceYear, Promo2SinceWeek,Promo2SinceYear and PromoInterval. \n",
        "3. There are **no duplicate** values present in both the datasets.\n",
        "4. There are total 4 **categorical features** in 'Rossmann' dataset namely Open, Promo, StateHoliday and SchoolHoliday and 'Stores' contain categorical features namely StoreType, Assortment, Promo2, PromoInterval.\n",
        "\n",
        "\n"
      ]
    },
    {
      "cell_type": "markdown",
      "metadata": {
        "id": "mqtLGGnvxJIR"
      },
      "source": [
        "## ***2. Understanding Your Variables***"
      ]
    },
    {
      "cell_type": "code",
      "execution_count": 16,
      "metadata": {
        "colab": {
          "base_uri": "https://localhost:8080/"
        },
        "id": "j7xfkqrt5Ag5",
        "outputId": "baa395fd-767a-4949-bfc7-849a08018b69"
      },
      "outputs": [
        {
          "output_type": "execute_result",
          "data": {
            "text/plain": [
              "Index(['Store', 'DayOfWeek', 'Date', 'Sales', 'Customers', 'Open', 'Promo',\n",
              "       'StateHoliday', 'SchoolHoliday'],\n",
              "      dtype='object')"
            ]
          },
          "metadata": {},
          "execution_count": 16
        }
      ],
      "source": [
        "# Columns of Rossmann Dataset\n",
        "Rossmann_Data.columns"
      ]
    },
    {
      "cell_type": "code",
      "source": [
        "# Columns of Store Dataset\n",
        "Store_Data.columns"
      ],
      "metadata": {
        "colab": {
          "base_uri": "https://localhost:8080/"
        },
        "id": "RcpVnVmeE9Rv",
        "outputId": "a6fbd301-392e-4780-bb6d-8fdff647000a"
      },
      "execution_count": 17,
      "outputs": [
        {
          "output_type": "execute_result",
          "data": {
            "text/plain": [
              "Index(['Store', 'StoreType', 'Assortment', 'CompetitionDistance',\n",
              "       'CompetitionOpenSinceMonth', 'CompetitionOpenSinceYear', 'Promo2',\n",
              "       'Promo2SinceWeek', 'Promo2SinceYear', 'PromoInterval'],\n",
              "      dtype='object')"
            ]
          },
          "metadata": {},
          "execution_count": 17
        }
      ]
    },
    {
      "cell_type": "code",
      "execution_count": 18,
      "metadata": {
        "colab": {
          "base_uri": "https://localhost:8080/",
          "height": 394
        },
        "id": "DnOaZdaE5Q5t",
        "outputId": "28d6942a-2cc5-4e56-a386-c8ec3533ef84"
      },
      "outputs": [
        {
          "output_type": "execute_result",
          "data": {
            "text/plain": [
              "               Store     DayOfWeek        Date         Sales     Customers  \\\n",
              "count   1.017209e+06  1.017209e+06     1017209  1.017209e+06  1.017209e+06   \n",
              "unique           NaN           NaN         942           NaN           NaN   \n",
              "top              NaN           NaN  2015-07-31           NaN           NaN   \n",
              "freq             NaN           NaN        1115           NaN           NaN   \n",
              "mean    5.584297e+02  3.998341e+00         NaN  5.773819e+03  6.331459e+02   \n",
              "std     3.219087e+02  1.997391e+00         NaN  3.849926e+03  4.644117e+02   \n",
              "min     1.000000e+00  1.000000e+00         NaN  0.000000e+00  0.000000e+00   \n",
              "25%     2.800000e+02  2.000000e+00         NaN  3.727000e+03  4.050000e+02   \n",
              "50%     5.580000e+02  4.000000e+00         NaN  5.744000e+03  6.090000e+02   \n",
              "75%     8.380000e+02  6.000000e+00         NaN  7.856000e+03  8.370000e+02   \n",
              "max     1.115000e+03  7.000000e+00         NaN  4.155100e+04  7.388000e+03   \n",
              "\n",
              "                Open         Promo StateHoliday  SchoolHoliday  \n",
              "count   1.017209e+06  1.017209e+06      1017209   1.017209e+06  \n",
              "unique           NaN           NaN            5            NaN  \n",
              "top              NaN           NaN            0            NaN  \n",
              "freq             NaN           NaN       855087            NaN  \n",
              "mean    8.301067e-01  3.815145e-01          NaN   1.786467e-01  \n",
              "std     3.755392e-01  4.857586e-01          NaN   3.830564e-01  \n",
              "min     0.000000e+00  0.000000e+00          NaN   0.000000e+00  \n",
              "25%     1.000000e+00  0.000000e+00          NaN   0.000000e+00  \n",
              "50%     1.000000e+00  0.000000e+00          NaN   0.000000e+00  \n",
              "75%     1.000000e+00  1.000000e+00          NaN   0.000000e+00  \n",
              "max     1.000000e+00  1.000000e+00          NaN   1.000000e+00  "
            ],
            "text/html": [
              "\n",
              "  <div id=\"df-489bcc49-e7a6-4b83-8415-9e43977b4fcb\">\n",
              "    <div class=\"colab-df-container\">\n",
              "      <div>\n",
              "<style scoped>\n",
              "    .dataframe tbody tr th:only-of-type {\n",
              "        vertical-align: middle;\n",
              "    }\n",
              "\n",
              "    .dataframe tbody tr th {\n",
              "        vertical-align: top;\n",
              "    }\n",
              "\n",
              "    .dataframe thead th {\n",
              "        text-align: right;\n",
              "    }\n",
              "</style>\n",
              "<table border=\"1\" class=\"dataframe\">\n",
              "  <thead>\n",
              "    <tr style=\"text-align: right;\">\n",
              "      <th></th>\n",
              "      <th>Store</th>\n",
              "      <th>DayOfWeek</th>\n",
              "      <th>Date</th>\n",
              "      <th>Sales</th>\n",
              "      <th>Customers</th>\n",
              "      <th>Open</th>\n",
              "      <th>Promo</th>\n",
              "      <th>StateHoliday</th>\n",
              "      <th>SchoolHoliday</th>\n",
              "    </tr>\n",
              "  </thead>\n",
              "  <tbody>\n",
              "    <tr>\n",
              "      <th>count</th>\n",
              "      <td>1.017209e+06</td>\n",
              "      <td>1.017209e+06</td>\n",
              "      <td>1017209</td>\n",
              "      <td>1.017209e+06</td>\n",
              "      <td>1.017209e+06</td>\n",
              "      <td>1.017209e+06</td>\n",
              "      <td>1.017209e+06</td>\n",
              "      <td>1017209</td>\n",
              "      <td>1.017209e+06</td>\n",
              "    </tr>\n",
              "    <tr>\n",
              "      <th>unique</th>\n",
              "      <td>NaN</td>\n",
              "      <td>NaN</td>\n",
              "      <td>942</td>\n",
              "      <td>NaN</td>\n",
              "      <td>NaN</td>\n",
              "      <td>NaN</td>\n",
              "      <td>NaN</td>\n",
              "      <td>5</td>\n",
              "      <td>NaN</td>\n",
              "    </tr>\n",
              "    <tr>\n",
              "      <th>top</th>\n",
              "      <td>NaN</td>\n",
              "      <td>NaN</td>\n",
              "      <td>2015-07-31</td>\n",
              "      <td>NaN</td>\n",
              "      <td>NaN</td>\n",
              "      <td>NaN</td>\n",
              "      <td>NaN</td>\n",
              "      <td>0</td>\n",
              "      <td>NaN</td>\n",
              "    </tr>\n",
              "    <tr>\n",
              "      <th>freq</th>\n",
              "      <td>NaN</td>\n",
              "      <td>NaN</td>\n",
              "      <td>1115</td>\n",
              "      <td>NaN</td>\n",
              "      <td>NaN</td>\n",
              "      <td>NaN</td>\n",
              "      <td>NaN</td>\n",
              "      <td>855087</td>\n",
              "      <td>NaN</td>\n",
              "    </tr>\n",
              "    <tr>\n",
              "      <th>mean</th>\n",
              "      <td>5.584297e+02</td>\n",
              "      <td>3.998341e+00</td>\n",
              "      <td>NaN</td>\n",
              "      <td>5.773819e+03</td>\n",
              "      <td>6.331459e+02</td>\n",
              "      <td>8.301067e-01</td>\n",
              "      <td>3.815145e-01</td>\n",
              "      <td>NaN</td>\n",
              "      <td>1.786467e-01</td>\n",
              "    </tr>\n",
              "    <tr>\n",
              "      <th>std</th>\n",
              "      <td>3.219087e+02</td>\n",
              "      <td>1.997391e+00</td>\n",
              "      <td>NaN</td>\n",
              "      <td>3.849926e+03</td>\n",
              "      <td>4.644117e+02</td>\n",
              "      <td>3.755392e-01</td>\n",
              "      <td>4.857586e-01</td>\n",
              "      <td>NaN</td>\n",
              "      <td>3.830564e-01</td>\n",
              "    </tr>\n",
              "    <tr>\n",
              "      <th>min</th>\n",
              "      <td>1.000000e+00</td>\n",
              "      <td>1.000000e+00</td>\n",
              "      <td>NaN</td>\n",
              "      <td>0.000000e+00</td>\n",
              "      <td>0.000000e+00</td>\n",
              "      <td>0.000000e+00</td>\n",
              "      <td>0.000000e+00</td>\n",
              "      <td>NaN</td>\n",
              "      <td>0.000000e+00</td>\n",
              "    </tr>\n",
              "    <tr>\n",
              "      <th>25%</th>\n",
              "      <td>2.800000e+02</td>\n",
              "      <td>2.000000e+00</td>\n",
              "      <td>NaN</td>\n",
              "      <td>3.727000e+03</td>\n",
              "      <td>4.050000e+02</td>\n",
              "      <td>1.000000e+00</td>\n",
              "      <td>0.000000e+00</td>\n",
              "      <td>NaN</td>\n",
              "      <td>0.000000e+00</td>\n",
              "    </tr>\n",
              "    <tr>\n",
              "      <th>50%</th>\n",
              "      <td>5.580000e+02</td>\n",
              "      <td>4.000000e+00</td>\n",
              "      <td>NaN</td>\n",
              "      <td>5.744000e+03</td>\n",
              "      <td>6.090000e+02</td>\n",
              "      <td>1.000000e+00</td>\n",
              "      <td>0.000000e+00</td>\n",
              "      <td>NaN</td>\n",
              "      <td>0.000000e+00</td>\n",
              "    </tr>\n",
              "    <tr>\n",
              "      <th>75%</th>\n",
              "      <td>8.380000e+02</td>\n",
              "      <td>6.000000e+00</td>\n",
              "      <td>NaN</td>\n",
              "      <td>7.856000e+03</td>\n",
              "      <td>8.370000e+02</td>\n",
              "      <td>1.000000e+00</td>\n",
              "      <td>1.000000e+00</td>\n",
              "      <td>NaN</td>\n",
              "      <td>0.000000e+00</td>\n",
              "    </tr>\n",
              "    <tr>\n",
              "      <th>max</th>\n",
              "      <td>1.115000e+03</td>\n",
              "      <td>7.000000e+00</td>\n",
              "      <td>NaN</td>\n",
              "      <td>4.155100e+04</td>\n",
              "      <td>7.388000e+03</td>\n",
              "      <td>1.000000e+00</td>\n",
              "      <td>1.000000e+00</td>\n",
              "      <td>NaN</td>\n",
              "      <td>1.000000e+00</td>\n",
              "    </tr>\n",
              "  </tbody>\n",
              "</table>\n",
              "</div>\n",
              "      <button class=\"colab-df-convert\" onclick=\"convertToInteractive('df-489bcc49-e7a6-4b83-8415-9e43977b4fcb')\"\n",
              "              title=\"Convert this dataframe to an interactive table.\"\n",
              "              style=\"display:none;\">\n",
              "        \n",
              "  <svg xmlns=\"http://www.w3.org/2000/svg\" height=\"24px\"viewBox=\"0 0 24 24\"\n",
              "       width=\"24px\">\n",
              "    <path d=\"M0 0h24v24H0V0z\" fill=\"none\"/>\n",
              "    <path d=\"M18.56 5.44l.94 2.06.94-2.06 2.06-.94-2.06-.94-.94-2.06-.94 2.06-2.06.94zm-11 1L8.5 8.5l.94-2.06 2.06-.94-2.06-.94L8.5 2.5l-.94 2.06-2.06.94zm10 10l.94 2.06.94-2.06 2.06-.94-2.06-.94-.94-2.06-.94 2.06-2.06.94z\"/><path d=\"M17.41 7.96l-1.37-1.37c-.4-.4-.92-.59-1.43-.59-.52 0-1.04.2-1.43.59L10.3 9.45l-7.72 7.72c-.78.78-.78 2.05 0 2.83L4 21.41c.39.39.9.59 1.41.59.51 0 1.02-.2 1.41-.59l7.78-7.78 2.81-2.81c.8-.78.8-2.07 0-2.86zM5.41 20L4 18.59l7.72-7.72 1.47 1.35L5.41 20z\"/>\n",
              "  </svg>\n",
              "      </button>\n",
              "      \n",
              "  <style>\n",
              "    .colab-df-container {\n",
              "      display:flex;\n",
              "      flex-wrap:wrap;\n",
              "      gap: 12px;\n",
              "    }\n",
              "\n",
              "    .colab-df-convert {\n",
              "      background-color: #E8F0FE;\n",
              "      border: none;\n",
              "      border-radius: 50%;\n",
              "      cursor: pointer;\n",
              "      display: none;\n",
              "      fill: #1967D2;\n",
              "      height: 32px;\n",
              "      padding: 0 0 0 0;\n",
              "      width: 32px;\n",
              "    }\n",
              "\n",
              "    .colab-df-convert:hover {\n",
              "      background-color: #E2EBFA;\n",
              "      box-shadow: 0px 1px 2px rgba(60, 64, 67, 0.3), 0px 1px 3px 1px rgba(60, 64, 67, 0.15);\n",
              "      fill: #174EA6;\n",
              "    }\n",
              "\n",
              "    [theme=dark] .colab-df-convert {\n",
              "      background-color: #3B4455;\n",
              "      fill: #D2E3FC;\n",
              "    }\n",
              "\n",
              "    [theme=dark] .colab-df-convert:hover {\n",
              "      background-color: #434B5C;\n",
              "      box-shadow: 0px 1px 3px 1px rgba(0, 0, 0, 0.15);\n",
              "      filter: drop-shadow(0px 1px 2px rgba(0, 0, 0, 0.3));\n",
              "      fill: #FFFFFF;\n",
              "    }\n",
              "  </style>\n",
              "\n",
              "      <script>\n",
              "        const buttonEl =\n",
              "          document.querySelector('#df-489bcc49-e7a6-4b83-8415-9e43977b4fcb button.colab-df-convert');\n",
              "        buttonEl.style.display =\n",
              "          google.colab.kernel.accessAllowed ? 'block' : 'none';\n",
              "\n",
              "        async function convertToInteractive(key) {\n",
              "          const element = document.querySelector('#df-489bcc49-e7a6-4b83-8415-9e43977b4fcb');\n",
              "          const dataTable =\n",
              "            await google.colab.kernel.invokeFunction('convertToInteractive',\n",
              "                                                     [key], {});\n",
              "          if (!dataTable) return;\n",
              "\n",
              "          const docLinkHtml = 'Like what you see? Visit the ' +\n",
              "            '<a target=\"_blank\" href=https://colab.research.google.com/notebooks/data_table.ipynb>data table notebook</a>'\n",
              "            + ' to learn more about interactive tables.';\n",
              "          element.innerHTML = '';\n",
              "          dataTable['output_type'] = 'display_data';\n",
              "          await google.colab.output.renderOutput(dataTable, element);\n",
              "          const docLink = document.createElement('div');\n",
              "          docLink.innerHTML = docLinkHtml;\n",
              "          element.appendChild(docLink);\n",
              "        }\n",
              "      </script>\n",
              "    </div>\n",
              "  </div>\n",
              "  "
            ]
          },
          "metadata": {},
          "execution_count": 18
        }
      ],
      "source": [
        "#Rossmann Dataset Describe\n",
        "Rossmann_Data.describe(include=\"all\")"
      ]
    },
    {
      "cell_type": "code",
      "execution_count": 19,
      "metadata": {
        "colab": {
          "base_uri": "https://localhost:8080/",
          "height": 458
        },
        "id": "m5guS2Egp5Is",
        "outputId": "aacfc987-bc72-4531-dea5-43a19d7b6d16"
      },
      "outputs": [
        {
          "output_type": "execute_result",
          "data": {
            "text/plain": [
              "             Store StoreType Assortment  CompetitionDistance  \\\n",
              "count   1115.00000      1115       1115          1112.000000   \n",
              "unique         NaN         4          3                  NaN   \n",
              "top            NaN         a          a                  NaN   \n",
              "freq           NaN       602        593                  NaN   \n",
              "mean     558.00000       NaN        NaN          5404.901079   \n",
              "std      322.01708       NaN        NaN          7663.174720   \n",
              "min        1.00000       NaN        NaN            20.000000   \n",
              "25%      279.50000       NaN        NaN           717.500000   \n",
              "50%      558.00000       NaN        NaN          2325.000000   \n",
              "75%      836.50000       NaN        NaN          6882.500000   \n",
              "max     1115.00000       NaN        NaN         75860.000000   \n",
              "\n",
              "        CompetitionOpenSinceMonth  CompetitionOpenSinceYear       Promo2  \\\n",
              "count                  761.000000                761.000000  1115.000000   \n",
              "unique                        NaN                       NaN          NaN   \n",
              "top                           NaN                       NaN          NaN   \n",
              "freq                          NaN                       NaN          NaN   \n",
              "mean                     7.224704               2008.668857     0.512108   \n",
              "std                      3.212348                  6.195983     0.500078   \n",
              "min                      1.000000               1900.000000     0.000000   \n",
              "25%                      4.000000               2006.000000     0.000000   \n",
              "50%                      8.000000               2010.000000     1.000000   \n",
              "75%                     10.000000               2013.000000     1.000000   \n",
              "max                     12.000000               2015.000000     1.000000   \n",
              "\n",
              "        Promo2SinceWeek  Promo2SinceYear    PromoInterval  \n",
              "count        571.000000       571.000000              571  \n",
              "unique              NaN              NaN                3  \n",
              "top                 NaN              NaN  Jan,Apr,Jul,Oct  \n",
              "freq                NaN              NaN              335  \n",
              "mean          23.595447      2011.763573              NaN  \n",
              "std           14.141984         1.674935              NaN  \n",
              "min            1.000000      2009.000000              NaN  \n",
              "25%           13.000000      2011.000000              NaN  \n",
              "50%           22.000000      2012.000000              NaN  \n",
              "75%           37.000000      2013.000000              NaN  \n",
              "max           50.000000      2015.000000              NaN  "
            ],
            "text/html": [
              "\n",
              "  <div id=\"df-ab2386b3-b308-4188-b567-65ae21b6a037\">\n",
              "    <div class=\"colab-df-container\">\n",
              "      <div>\n",
              "<style scoped>\n",
              "    .dataframe tbody tr th:only-of-type {\n",
              "        vertical-align: middle;\n",
              "    }\n",
              "\n",
              "    .dataframe tbody tr th {\n",
              "        vertical-align: top;\n",
              "    }\n",
              "\n",
              "    .dataframe thead th {\n",
              "        text-align: right;\n",
              "    }\n",
              "</style>\n",
              "<table border=\"1\" class=\"dataframe\">\n",
              "  <thead>\n",
              "    <tr style=\"text-align: right;\">\n",
              "      <th></th>\n",
              "      <th>Store</th>\n",
              "      <th>StoreType</th>\n",
              "      <th>Assortment</th>\n",
              "      <th>CompetitionDistance</th>\n",
              "      <th>CompetitionOpenSinceMonth</th>\n",
              "      <th>CompetitionOpenSinceYear</th>\n",
              "      <th>Promo2</th>\n",
              "      <th>Promo2SinceWeek</th>\n",
              "      <th>Promo2SinceYear</th>\n",
              "      <th>PromoInterval</th>\n",
              "    </tr>\n",
              "  </thead>\n",
              "  <tbody>\n",
              "    <tr>\n",
              "      <th>count</th>\n",
              "      <td>1115.00000</td>\n",
              "      <td>1115</td>\n",
              "      <td>1115</td>\n",
              "      <td>1112.000000</td>\n",
              "      <td>761.000000</td>\n",
              "      <td>761.000000</td>\n",
              "      <td>1115.000000</td>\n",
              "      <td>571.000000</td>\n",
              "      <td>571.000000</td>\n",
              "      <td>571</td>\n",
              "    </tr>\n",
              "    <tr>\n",
              "      <th>unique</th>\n",
              "      <td>NaN</td>\n",
              "      <td>4</td>\n",
              "      <td>3</td>\n",
              "      <td>NaN</td>\n",
              "      <td>NaN</td>\n",
              "      <td>NaN</td>\n",
              "      <td>NaN</td>\n",
              "      <td>NaN</td>\n",
              "      <td>NaN</td>\n",
              "      <td>3</td>\n",
              "    </tr>\n",
              "    <tr>\n",
              "      <th>top</th>\n",
              "      <td>NaN</td>\n",
              "      <td>a</td>\n",
              "      <td>a</td>\n",
              "      <td>NaN</td>\n",
              "      <td>NaN</td>\n",
              "      <td>NaN</td>\n",
              "      <td>NaN</td>\n",
              "      <td>NaN</td>\n",
              "      <td>NaN</td>\n",
              "      <td>Jan,Apr,Jul,Oct</td>\n",
              "    </tr>\n",
              "    <tr>\n",
              "      <th>freq</th>\n",
              "      <td>NaN</td>\n",
              "      <td>602</td>\n",
              "      <td>593</td>\n",
              "      <td>NaN</td>\n",
              "      <td>NaN</td>\n",
              "      <td>NaN</td>\n",
              "      <td>NaN</td>\n",
              "      <td>NaN</td>\n",
              "      <td>NaN</td>\n",
              "      <td>335</td>\n",
              "    </tr>\n",
              "    <tr>\n",
              "      <th>mean</th>\n",
              "      <td>558.00000</td>\n",
              "      <td>NaN</td>\n",
              "      <td>NaN</td>\n",
              "      <td>5404.901079</td>\n",
              "      <td>7.224704</td>\n",
              "      <td>2008.668857</td>\n",
              "      <td>0.512108</td>\n",
              "      <td>23.595447</td>\n",
              "      <td>2011.763573</td>\n",
              "      <td>NaN</td>\n",
              "    </tr>\n",
              "    <tr>\n",
              "      <th>std</th>\n",
              "      <td>322.01708</td>\n",
              "      <td>NaN</td>\n",
              "      <td>NaN</td>\n",
              "      <td>7663.174720</td>\n",
              "      <td>3.212348</td>\n",
              "      <td>6.195983</td>\n",
              "      <td>0.500078</td>\n",
              "      <td>14.141984</td>\n",
              "      <td>1.674935</td>\n",
              "      <td>NaN</td>\n",
              "    </tr>\n",
              "    <tr>\n",
              "      <th>min</th>\n",
              "      <td>1.00000</td>\n",
              "      <td>NaN</td>\n",
              "      <td>NaN</td>\n",
              "      <td>20.000000</td>\n",
              "      <td>1.000000</td>\n",
              "      <td>1900.000000</td>\n",
              "      <td>0.000000</td>\n",
              "      <td>1.000000</td>\n",
              "      <td>2009.000000</td>\n",
              "      <td>NaN</td>\n",
              "    </tr>\n",
              "    <tr>\n",
              "      <th>25%</th>\n",
              "      <td>279.50000</td>\n",
              "      <td>NaN</td>\n",
              "      <td>NaN</td>\n",
              "      <td>717.500000</td>\n",
              "      <td>4.000000</td>\n",
              "      <td>2006.000000</td>\n",
              "      <td>0.000000</td>\n",
              "      <td>13.000000</td>\n",
              "      <td>2011.000000</td>\n",
              "      <td>NaN</td>\n",
              "    </tr>\n",
              "    <tr>\n",
              "      <th>50%</th>\n",
              "      <td>558.00000</td>\n",
              "      <td>NaN</td>\n",
              "      <td>NaN</td>\n",
              "      <td>2325.000000</td>\n",
              "      <td>8.000000</td>\n",
              "      <td>2010.000000</td>\n",
              "      <td>1.000000</td>\n",
              "      <td>22.000000</td>\n",
              "      <td>2012.000000</td>\n",
              "      <td>NaN</td>\n",
              "    </tr>\n",
              "    <tr>\n",
              "      <th>75%</th>\n",
              "      <td>836.50000</td>\n",
              "      <td>NaN</td>\n",
              "      <td>NaN</td>\n",
              "      <td>6882.500000</td>\n",
              "      <td>10.000000</td>\n",
              "      <td>2013.000000</td>\n",
              "      <td>1.000000</td>\n",
              "      <td>37.000000</td>\n",
              "      <td>2013.000000</td>\n",
              "      <td>NaN</td>\n",
              "    </tr>\n",
              "    <tr>\n",
              "      <th>max</th>\n",
              "      <td>1115.00000</td>\n",
              "      <td>NaN</td>\n",
              "      <td>NaN</td>\n",
              "      <td>75860.000000</td>\n",
              "      <td>12.000000</td>\n",
              "      <td>2015.000000</td>\n",
              "      <td>1.000000</td>\n",
              "      <td>50.000000</td>\n",
              "      <td>2015.000000</td>\n",
              "      <td>NaN</td>\n",
              "    </tr>\n",
              "  </tbody>\n",
              "</table>\n",
              "</div>\n",
              "      <button class=\"colab-df-convert\" onclick=\"convertToInteractive('df-ab2386b3-b308-4188-b567-65ae21b6a037')\"\n",
              "              title=\"Convert this dataframe to an interactive table.\"\n",
              "              style=\"display:none;\">\n",
              "        \n",
              "  <svg xmlns=\"http://www.w3.org/2000/svg\" height=\"24px\"viewBox=\"0 0 24 24\"\n",
              "       width=\"24px\">\n",
              "    <path d=\"M0 0h24v24H0V0z\" fill=\"none\"/>\n",
              "    <path d=\"M18.56 5.44l.94 2.06.94-2.06 2.06-.94-2.06-.94-.94-2.06-.94 2.06-2.06.94zm-11 1L8.5 8.5l.94-2.06 2.06-.94-2.06-.94L8.5 2.5l-.94 2.06-2.06.94zm10 10l.94 2.06.94-2.06 2.06-.94-2.06-.94-.94-2.06-.94 2.06-2.06.94z\"/><path d=\"M17.41 7.96l-1.37-1.37c-.4-.4-.92-.59-1.43-.59-.52 0-1.04.2-1.43.59L10.3 9.45l-7.72 7.72c-.78.78-.78 2.05 0 2.83L4 21.41c.39.39.9.59 1.41.59.51 0 1.02-.2 1.41-.59l7.78-7.78 2.81-2.81c.8-.78.8-2.07 0-2.86zM5.41 20L4 18.59l7.72-7.72 1.47 1.35L5.41 20z\"/>\n",
              "  </svg>\n",
              "      </button>\n",
              "      \n",
              "  <style>\n",
              "    .colab-df-container {\n",
              "      display:flex;\n",
              "      flex-wrap:wrap;\n",
              "      gap: 12px;\n",
              "    }\n",
              "\n",
              "    .colab-df-convert {\n",
              "      background-color: #E8F0FE;\n",
              "      border: none;\n",
              "      border-radius: 50%;\n",
              "      cursor: pointer;\n",
              "      display: none;\n",
              "      fill: #1967D2;\n",
              "      height: 32px;\n",
              "      padding: 0 0 0 0;\n",
              "      width: 32px;\n",
              "    }\n",
              "\n",
              "    .colab-df-convert:hover {\n",
              "      background-color: #E2EBFA;\n",
              "      box-shadow: 0px 1px 2px rgba(60, 64, 67, 0.3), 0px 1px 3px 1px rgba(60, 64, 67, 0.15);\n",
              "      fill: #174EA6;\n",
              "    }\n",
              "\n",
              "    [theme=dark] .colab-df-convert {\n",
              "      background-color: #3B4455;\n",
              "      fill: #D2E3FC;\n",
              "    }\n",
              "\n",
              "    [theme=dark] .colab-df-convert:hover {\n",
              "      background-color: #434B5C;\n",
              "      box-shadow: 0px 1px 3px 1px rgba(0, 0, 0, 0.15);\n",
              "      filter: drop-shadow(0px 1px 2px rgba(0, 0, 0, 0.3));\n",
              "      fill: #FFFFFF;\n",
              "    }\n",
              "  </style>\n",
              "\n",
              "      <script>\n",
              "        const buttonEl =\n",
              "          document.querySelector('#df-ab2386b3-b308-4188-b567-65ae21b6a037 button.colab-df-convert');\n",
              "        buttonEl.style.display =\n",
              "          google.colab.kernel.accessAllowed ? 'block' : 'none';\n",
              "\n",
              "        async function convertToInteractive(key) {\n",
              "          const element = document.querySelector('#df-ab2386b3-b308-4188-b567-65ae21b6a037');\n",
              "          const dataTable =\n",
              "            await google.colab.kernel.invokeFunction('convertToInteractive',\n",
              "                                                     [key], {});\n",
              "          if (!dataTable) return;\n",
              "\n",
              "          const docLinkHtml = 'Like what you see? Visit the ' +\n",
              "            '<a target=\"_blank\" href=https://colab.research.google.com/notebooks/data_table.ipynb>data table notebook</a>'\n",
              "            + ' to learn more about interactive tables.';\n",
              "          element.innerHTML = '';\n",
              "          dataTable['output_type'] = 'display_data';\n",
              "          await google.colab.output.renderOutput(dataTable, element);\n",
              "          const docLink = document.createElement('div');\n",
              "          docLink.innerHTML = docLinkHtml;\n",
              "          element.appendChild(docLink);\n",
              "        }\n",
              "      </script>\n",
              "    </div>\n",
              "  </div>\n",
              "  "
            ]
          },
          "metadata": {},
          "execution_count": 19
        }
      ],
      "source": [
        "# Store dataset describe\n",
        "Store_Data.describe(include=\"all\")"
      ]
    },
    {
      "cell_type": "markdown",
      "metadata": {
        "id": "L-cb8fRxxJIT"
      },
      "source": [
        "### Variables Description "
      ]
    },
    {
      "cell_type": "markdown",
      "metadata": {
        "id": "1x7UHkeHxJIT"
      },
      "source": [
        "**Rossmann Stores Data.csv** - historical data including Sales\n",
        "\n",
        "**Store.csv** - supplemental information about the stores\n",
        "\n",
        "**Data fields**\n",
        "\n",
        "Most of the fields are self-explanatory. The following are descriptions for those that aren't.\n",
        "\n",
        "**Store** - a unique Id for each store\n",
        "\n",
        "**Sales** - the turnover for any given day (this is what you are predicting)\n",
        "\n",
        "**Customers** - the number of customers on a given day\n",
        "\n",
        "**Open** - an indicator for whether the store was open: 0 = closed, 1 = open\n",
        "\n",
        "**StateHoliday** - indicates a state holiday.\n",
        "\n",
        "**SchoolHoliday** - indicates if the (Store, Date) was affected by the closure of public schools\n",
        "\n",
        "**StoreType** - differentiates between 4 different store models: a, b, c, d\n",
        "\n",
        "**Assortment** - describes an assortment level: a = basic, b = extra, c = extended\n",
        "\n",
        "**CompetitionDistance** - distance in meters to the nearest competitor store\n",
        "\n",
        "**CompetitionOpenSince[Month/Year]** - gives the approximate year and month of the time the nearest competitor was opened\n",
        "\n",
        "**Promo** - indicates whether a store is running a promo on that day\n",
        "\n",
        "**Promo2** - Promo2 is a continuing and consecutive promotion for some stores: 0 = store is not participating, 1 = store is participating\n",
        "\n",
        "**Promo2Since[Year/Week]** - describes the year and calendar week when the store started participating in Promo2\n",
        "\n",
        "**PromoInterval** - describes the consecutive intervals Promo2 is started, naming the months the promotion is started a new. E.g. \"Feb,May,Aug,Nov\" means each round starts in February, May, August, November of any given year for that store."
      ]
    },
    {
      "cell_type": "markdown",
      "metadata": {
        "id": "AxxtIOQXxJIT"
      },
      "source": [
        "### Check Unique Values for each variable."
      ]
    },
    {
      "cell_type": "code",
      "execution_count": 20,
      "metadata": {
        "id": "zms12Yq5n-jE"
      },
      "outputs": [],
      "source": [
        "# Check Unique Values for each variable in Rossmann Dataset.\n",
        "def rossmann_Details():\n",
        "  rossmann_content = pd.DataFrame(index=Rossmann_Data.columns)\n",
        "  rossmann_content['Data Type'] = Rossmann_Data.dtypes\n",
        "  rossmann_content['Not Null Values']=Rossmann_Data.count()\n",
        "  rossmann_content['Number of Null Values'] = Rossmann_Data.isnull().sum()\n",
        "  rossmann_content[\"% of the null value\"]=Rossmann_Data.isnull().mean().round(4)*100\n",
        "  rossmann_content['Unique Values'] = Rossmann_Data.nunique()\n",
        "  return rossmann_content "
      ]
    },
    {
      "cell_type": "code",
      "source": [
        "rossmann_Details()"
      ],
      "metadata": {
        "colab": {
          "base_uri": "https://localhost:8080/",
          "height": 332
        },
        "id": "JKtYxeLCF9iU",
        "outputId": "03d1eee8-32fa-4631-cb6d-1383619654ea"
      },
      "execution_count": 21,
      "outputs": [
        {
          "output_type": "execute_result",
          "data": {
            "text/plain": [
              "              Data Type  Not Null Values  Number of Null Values  \\\n",
              "Store             int64          1017209                      0   \n",
              "DayOfWeek         int64          1017209                      0   \n",
              "Date             object          1017209                      0   \n",
              "Sales             int64          1017209                      0   \n",
              "Customers         int64          1017209                      0   \n",
              "Open              int64          1017209                      0   \n",
              "Promo             int64          1017209                      0   \n",
              "StateHoliday     object          1017209                      0   \n",
              "SchoolHoliday     int64          1017209                      0   \n",
              "\n",
              "               % of the null value  Unique Values  \n",
              "Store                          0.0           1115  \n",
              "DayOfWeek                      0.0              7  \n",
              "Date                           0.0            942  \n",
              "Sales                          0.0          21734  \n",
              "Customers                      0.0           4086  \n",
              "Open                           0.0              2  \n",
              "Promo                          0.0              2  \n",
              "StateHoliday                   0.0              5  \n",
              "SchoolHoliday                  0.0              2  "
            ],
            "text/html": [
              "\n",
              "  <div id=\"df-33c27e7b-ca9f-4217-9c9a-137e853889e5\">\n",
              "    <div class=\"colab-df-container\">\n",
              "      <div>\n",
              "<style scoped>\n",
              "    .dataframe tbody tr th:only-of-type {\n",
              "        vertical-align: middle;\n",
              "    }\n",
              "\n",
              "    .dataframe tbody tr th {\n",
              "        vertical-align: top;\n",
              "    }\n",
              "\n",
              "    .dataframe thead th {\n",
              "        text-align: right;\n",
              "    }\n",
              "</style>\n",
              "<table border=\"1\" class=\"dataframe\">\n",
              "  <thead>\n",
              "    <tr style=\"text-align: right;\">\n",
              "      <th></th>\n",
              "      <th>Data Type</th>\n",
              "      <th>Not Null Values</th>\n",
              "      <th>Number of Null Values</th>\n",
              "      <th>% of the null value</th>\n",
              "      <th>Unique Values</th>\n",
              "    </tr>\n",
              "  </thead>\n",
              "  <tbody>\n",
              "    <tr>\n",
              "      <th>Store</th>\n",
              "      <td>int64</td>\n",
              "      <td>1017209</td>\n",
              "      <td>0</td>\n",
              "      <td>0.0</td>\n",
              "      <td>1115</td>\n",
              "    </tr>\n",
              "    <tr>\n",
              "      <th>DayOfWeek</th>\n",
              "      <td>int64</td>\n",
              "      <td>1017209</td>\n",
              "      <td>0</td>\n",
              "      <td>0.0</td>\n",
              "      <td>7</td>\n",
              "    </tr>\n",
              "    <tr>\n",
              "      <th>Date</th>\n",
              "      <td>object</td>\n",
              "      <td>1017209</td>\n",
              "      <td>0</td>\n",
              "      <td>0.0</td>\n",
              "      <td>942</td>\n",
              "    </tr>\n",
              "    <tr>\n",
              "      <th>Sales</th>\n",
              "      <td>int64</td>\n",
              "      <td>1017209</td>\n",
              "      <td>0</td>\n",
              "      <td>0.0</td>\n",
              "      <td>21734</td>\n",
              "    </tr>\n",
              "    <tr>\n",
              "      <th>Customers</th>\n",
              "      <td>int64</td>\n",
              "      <td>1017209</td>\n",
              "      <td>0</td>\n",
              "      <td>0.0</td>\n",
              "      <td>4086</td>\n",
              "    </tr>\n",
              "    <tr>\n",
              "      <th>Open</th>\n",
              "      <td>int64</td>\n",
              "      <td>1017209</td>\n",
              "      <td>0</td>\n",
              "      <td>0.0</td>\n",
              "      <td>2</td>\n",
              "    </tr>\n",
              "    <tr>\n",
              "      <th>Promo</th>\n",
              "      <td>int64</td>\n",
              "      <td>1017209</td>\n",
              "      <td>0</td>\n",
              "      <td>0.0</td>\n",
              "      <td>2</td>\n",
              "    </tr>\n",
              "    <tr>\n",
              "      <th>StateHoliday</th>\n",
              "      <td>object</td>\n",
              "      <td>1017209</td>\n",
              "      <td>0</td>\n",
              "      <td>0.0</td>\n",
              "      <td>5</td>\n",
              "    </tr>\n",
              "    <tr>\n",
              "      <th>SchoolHoliday</th>\n",
              "      <td>int64</td>\n",
              "      <td>1017209</td>\n",
              "      <td>0</td>\n",
              "      <td>0.0</td>\n",
              "      <td>2</td>\n",
              "    </tr>\n",
              "  </tbody>\n",
              "</table>\n",
              "</div>\n",
              "      <button class=\"colab-df-convert\" onclick=\"convertToInteractive('df-33c27e7b-ca9f-4217-9c9a-137e853889e5')\"\n",
              "              title=\"Convert this dataframe to an interactive table.\"\n",
              "              style=\"display:none;\">\n",
              "        \n",
              "  <svg xmlns=\"http://www.w3.org/2000/svg\" height=\"24px\"viewBox=\"0 0 24 24\"\n",
              "       width=\"24px\">\n",
              "    <path d=\"M0 0h24v24H0V0z\" fill=\"none\"/>\n",
              "    <path d=\"M18.56 5.44l.94 2.06.94-2.06 2.06-.94-2.06-.94-.94-2.06-.94 2.06-2.06.94zm-11 1L8.5 8.5l.94-2.06 2.06-.94-2.06-.94L8.5 2.5l-.94 2.06-2.06.94zm10 10l.94 2.06.94-2.06 2.06-.94-2.06-.94-.94-2.06-.94 2.06-2.06.94z\"/><path d=\"M17.41 7.96l-1.37-1.37c-.4-.4-.92-.59-1.43-.59-.52 0-1.04.2-1.43.59L10.3 9.45l-7.72 7.72c-.78.78-.78 2.05 0 2.83L4 21.41c.39.39.9.59 1.41.59.51 0 1.02-.2 1.41-.59l7.78-7.78 2.81-2.81c.8-.78.8-2.07 0-2.86zM5.41 20L4 18.59l7.72-7.72 1.47 1.35L5.41 20z\"/>\n",
              "  </svg>\n",
              "      </button>\n",
              "      \n",
              "  <style>\n",
              "    .colab-df-container {\n",
              "      display:flex;\n",
              "      flex-wrap:wrap;\n",
              "      gap: 12px;\n",
              "    }\n",
              "\n",
              "    .colab-df-convert {\n",
              "      background-color: #E8F0FE;\n",
              "      border: none;\n",
              "      border-radius: 50%;\n",
              "      cursor: pointer;\n",
              "      display: none;\n",
              "      fill: #1967D2;\n",
              "      height: 32px;\n",
              "      padding: 0 0 0 0;\n",
              "      width: 32px;\n",
              "    }\n",
              "\n",
              "    .colab-df-convert:hover {\n",
              "      background-color: #E2EBFA;\n",
              "      box-shadow: 0px 1px 2px rgba(60, 64, 67, 0.3), 0px 1px 3px 1px rgba(60, 64, 67, 0.15);\n",
              "      fill: #174EA6;\n",
              "    }\n",
              "\n",
              "    [theme=dark] .colab-df-convert {\n",
              "      background-color: #3B4455;\n",
              "      fill: #D2E3FC;\n",
              "    }\n",
              "\n",
              "    [theme=dark] .colab-df-convert:hover {\n",
              "      background-color: #434B5C;\n",
              "      box-shadow: 0px 1px 3px 1px rgba(0, 0, 0, 0.15);\n",
              "      filter: drop-shadow(0px 1px 2px rgba(0, 0, 0, 0.3));\n",
              "      fill: #FFFFFF;\n",
              "    }\n",
              "  </style>\n",
              "\n",
              "      <script>\n",
              "        const buttonEl =\n",
              "          document.querySelector('#df-33c27e7b-ca9f-4217-9c9a-137e853889e5 button.colab-df-convert');\n",
              "        buttonEl.style.display =\n",
              "          google.colab.kernel.accessAllowed ? 'block' : 'none';\n",
              "\n",
              "        async function convertToInteractive(key) {\n",
              "          const element = document.querySelector('#df-33c27e7b-ca9f-4217-9c9a-137e853889e5');\n",
              "          const dataTable =\n",
              "            await google.colab.kernel.invokeFunction('convertToInteractive',\n",
              "                                                     [key], {});\n",
              "          if (!dataTable) return;\n",
              "\n",
              "          const docLinkHtml = 'Like what you see? Visit the ' +\n",
              "            '<a target=\"_blank\" href=https://colab.research.google.com/notebooks/data_table.ipynb>data table notebook</a>'\n",
              "            + ' to learn more about interactive tables.';\n",
              "          element.innerHTML = '';\n",
              "          dataTable['output_type'] = 'display_data';\n",
              "          await google.colab.output.renderOutput(dataTable, element);\n",
              "          const docLink = document.createElement('div');\n",
              "          docLink.innerHTML = docLinkHtml;\n",
              "          element.appendChild(docLink);\n",
              "        }\n",
              "      </script>\n",
              "    </div>\n",
              "  </div>\n",
              "  "
            ]
          },
          "metadata": {},
          "execution_count": 21
        }
      ]
    },
    {
      "cell_type": "code",
      "execution_count": 22,
      "metadata": {
        "id": "daYWniiMr4iJ"
      },
      "outputs": [],
      "source": [
        "# Check Unique Values for each variable in Rossmann Dataset.\n",
        "def store_Details():\n",
        "  store_content = pd.DataFrame(index=Store_Data.columns)\n",
        "  store_content['Data Type'] = Store_Data.dtypes\n",
        "  store_content['Not Null Values']=Store_Data.count()\n",
        "  store_content['Number of Null Values'] = Store_Data.isnull().sum()\n",
        "  store_content[\"% of the null value\"]=Store_Data.isnull().mean().round(4)*100\n",
        "  store_content['Unique Values'] = Store_Data.nunique()\n",
        "  return store_content "
      ]
    },
    {
      "cell_type": "code",
      "execution_count": 23,
      "metadata": {
        "id": "cPFTkSV3xcEi",
        "colab": {
          "base_uri": "https://localhost:8080/",
          "height": 363
        },
        "outputId": "91d40e90-b7c0-41b6-bd2f-f1e1070257f3"
      },
      "outputs": [
        {
          "output_type": "execute_result",
          "data": {
            "text/plain": [
              "                          Data Type  Not Null Values  Number of Null Values  \\\n",
              "Store                         int64             1115                      0   \n",
              "StoreType                    object             1115                      0   \n",
              "Assortment                   object             1115                      0   \n",
              "CompetitionDistance         float64             1112                      3   \n",
              "CompetitionOpenSinceMonth   float64              761                    354   \n",
              "CompetitionOpenSinceYear    float64              761                    354   \n",
              "Promo2                        int64             1115                      0   \n",
              "Promo2SinceWeek             float64              571                    544   \n",
              "Promo2SinceYear             float64              571                    544   \n",
              "PromoInterval                object              571                    544   \n",
              "\n",
              "                           % of the null value  Unique Values  \n",
              "Store                                     0.00           1115  \n",
              "StoreType                                 0.00              4  \n",
              "Assortment                                0.00              3  \n",
              "CompetitionDistance                       0.27            654  \n",
              "CompetitionOpenSinceMonth                31.75             12  \n",
              "CompetitionOpenSinceYear                 31.75             23  \n",
              "Promo2                                    0.00              2  \n",
              "Promo2SinceWeek                          48.79             24  \n",
              "Promo2SinceYear                          48.79              7  \n",
              "PromoInterval                            48.79              3  "
            ],
            "text/html": [
              "\n",
              "  <div id=\"df-635cb9a8-96d3-4203-b982-466ae412952a\">\n",
              "    <div class=\"colab-df-container\">\n",
              "      <div>\n",
              "<style scoped>\n",
              "    .dataframe tbody tr th:only-of-type {\n",
              "        vertical-align: middle;\n",
              "    }\n",
              "\n",
              "    .dataframe tbody tr th {\n",
              "        vertical-align: top;\n",
              "    }\n",
              "\n",
              "    .dataframe thead th {\n",
              "        text-align: right;\n",
              "    }\n",
              "</style>\n",
              "<table border=\"1\" class=\"dataframe\">\n",
              "  <thead>\n",
              "    <tr style=\"text-align: right;\">\n",
              "      <th></th>\n",
              "      <th>Data Type</th>\n",
              "      <th>Not Null Values</th>\n",
              "      <th>Number of Null Values</th>\n",
              "      <th>% of the null value</th>\n",
              "      <th>Unique Values</th>\n",
              "    </tr>\n",
              "  </thead>\n",
              "  <tbody>\n",
              "    <tr>\n",
              "      <th>Store</th>\n",
              "      <td>int64</td>\n",
              "      <td>1115</td>\n",
              "      <td>0</td>\n",
              "      <td>0.00</td>\n",
              "      <td>1115</td>\n",
              "    </tr>\n",
              "    <tr>\n",
              "      <th>StoreType</th>\n",
              "      <td>object</td>\n",
              "      <td>1115</td>\n",
              "      <td>0</td>\n",
              "      <td>0.00</td>\n",
              "      <td>4</td>\n",
              "    </tr>\n",
              "    <tr>\n",
              "      <th>Assortment</th>\n",
              "      <td>object</td>\n",
              "      <td>1115</td>\n",
              "      <td>0</td>\n",
              "      <td>0.00</td>\n",
              "      <td>3</td>\n",
              "    </tr>\n",
              "    <tr>\n",
              "      <th>CompetitionDistance</th>\n",
              "      <td>float64</td>\n",
              "      <td>1112</td>\n",
              "      <td>3</td>\n",
              "      <td>0.27</td>\n",
              "      <td>654</td>\n",
              "    </tr>\n",
              "    <tr>\n",
              "      <th>CompetitionOpenSinceMonth</th>\n",
              "      <td>float64</td>\n",
              "      <td>761</td>\n",
              "      <td>354</td>\n",
              "      <td>31.75</td>\n",
              "      <td>12</td>\n",
              "    </tr>\n",
              "    <tr>\n",
              "      <th>CompetitionOpenSinceYear</th>\n",
              "      <td>float64</td>\n",
              "      <td>761</td>\n",
              "      <td>354</td>\n",
              "      <td>31.75</td>\n",
              "      <td>23</td>\n",
              "    </tr>\n",
              "    <tr>\n",
              "      <th>Promo2</th>\n",
              "      <td>int64</td>\n",
              "      <td>1115</td>\n",
              "      <td>0</td>\n",
              "      <td>0.00</td>\n",
              "      <td>2</td>\n",
              "    </tr>\n",
              "    <tr>\n",
              "      <th>Promo2SinceWeek</th>\n",
              "      <td>float64</td>\n",
              "      <td>571</td>\n",
              "      <td>544</td>\n",
              "      <td>48.79</td>\n",
              "      <td>24</td>\n",
              "    </tr>\n",
              "    <tr>\n",
              "      <th>Promo2SinceYear</th>\n",
              "      <td>float64</td>\n",
              "      <td>571</td>\n",
              "      <td>544</td>\n",
              "      <td>48.79</td>\n",
              "      <td>7</td>\n",
              "    </tr>\n",
              "    <tr>\n",
              "      <th>PromoInterval</th>\n",
              "      <td>object</td>\n",
              "      <td>571</td>\n",
              "      <td>544</td>\n",
              "      <td>48.79</td>\n",
              "      <td>3</td>\n",
              "    </tr>\n",
              "  </tbody>\n",
              "</table>\n",
              "</div>\n",
              "      <button class=\"colab-df-convert\" onclick=\"convertToInteractive('df-635cb9a8-96d3-4203-b982-466ae412952a')\"\n",
              "              title=\"Convert this dataframe to an interactive table.\"\n",
              "              style=\"display:none;\">\n",
              "        \n",
              "  <svg xmlns=\"http://www.w3.org/2000/svg\" height=\"24px\"viewBox=\"0 0 24 24\"\n",
              "       width=\"24px\">\n",
              "    <path d=\"M0 0h24v24H0V0z\" fill=\"none\"/>\n",
              "    <path d=\"M18.56 5.44l.94 2.06.94-2.06 2.06-.94-2.06-.94-.94-2.06-.94 2.06-2.06.94zm-11 1L8.5 8.5l.94-2.06 2.06-.94-2.06-.94L8.5 2.5l-.94 2.06-2.06.94zm10 10l.94 2.06.94-2.06 2.06-.94-2.06-.94-.94-2.06-.94 2.06-2.06.94z\"/><path d=\"M17.41 7.96l-1.37-1.37c-.4-.4-.92-.59-1.43-.59-.52 0-1.04.2-1.43.59L10.3 9.45l-7.72 7.72c-.78.78-.78 2.05 0 2.83L4 21.41c.39.39.9.59 1.41.59.51 0 1.02-.2 1.41-.59l7.78-7.78 2.81-2.81c.8-.78.8-2.07 0-2.86zM5.41 20L4 18.59l7.72-7.72 1.47 1.35L5.41 20z\"/>\n",
              "  </svg>\n",
              "      </button>\n",
              "      \n",
              "  <style>\n",
              "    .colab-df-container {\n",
              "      display:flex;\n",
              "      flex-wrap:wrap;\n",
              "      gap: 12px;\n",
              "    }\n",
              "\n",
              "    .colab-df-convert {\n",
              "      background-color: #E8F0FE;\n",
              "      border: none;\n",
              "      border-radius: 50%;\n",
              "      cursor: pointer;\n",
              "      display: none;\n",
              "      fill: #1967D2;\n",
              "      height: 32px;\n",
              "      padding: 0 0 0 0;\n",
              "      width: 32px;\n",
              "    }\n",
              "\n",
              "    .colab-df-convert:hover {\n",
              "      background-color: #E2EBFA;\n",
              "      box-shadow: 0px 1px 2px rgba(60, 64, 67, 0.3), 0px 1px 3px 1px rgba(60, 64, 67, 0.15);\n",
              "      fill: #174EA6;\n",
              "    }\n",
              "\n",
              "    [theme=dark] .colab-df-convert {\n",
              "      background-color: #3B4455;\n",
              "      fill: #D2E3FC;\n",
              "    }\n",
              "\n",
              "    [theme=dark] .colab-df-convert:hover {\n",
              "      background-color: #434B5C;\n",
              "      box-shadow: 0px 1px 3px 1px rgba(0, 0, 0, 0.15);\n",
              "      filter: drop-shadow(0px 1px 2px rgba(0, 0, 0, 0.3));\n",
              "      fill: #FFFFFF;\n",
              "    }\n",
              "  </style>\n",
              "\n",
              "      <script>\n",
              "        const buttonEl =\n",
              "          document.querySelector('#df-635cb9a8-96d3-4203-b982-466ae412952a button.colab-df-convert');\n",
              "        buttonEl.style.display =\n",
              "          google.colab.kernel.accessAllowed ? 'block' : 'none';\n",
              "\n",
              "        async function convertToInteractive(key) {\n",
              "          const element = document.querySelector('#df-635cb9a8-96d3-4203-b982-466ae412952a');\n",
              "          const dataTable =\n",
              "            await google.colab.kernel.invokeFunction('convertToInteractive',\n",
              "                                                     [key], {});\n",
              "          if (!dataTable) return;\n",
              "\n",
              "          const docLinkHtml = 'Like what you see? Visit the ' +\n",
              "            '<a target=\"_blank\" href=https://colab.research.google.com/notebooks/data_table.ipynb>data table notebook</a>'\n",
              "            + ' to learn more about interactive tables.';\n",
              "          element.innerHTML = '';\n",
              "          dataTable['output_type'] = 'display_data';\n",
              "          await google.colab.output.renderOutput(dataTable, element);\n",
              "          const docLink = document.createElement('div');\n",
              "          docLink.innerHTML = docLinkHtml;\n",
              "          element.appendChild(docLink);\n",
              "        }\n",
              "      </script>\n",
              "    </div>\n",
              "  </div>\n",
              "  "
            ]
          },
          "metadata": {},
          "execution_count": 23
        }
      ],
      "source": [
        "store_Details()"
      ]
    },
    {
      "cell_type": "markdown",
      "source": [
        "CompetitionDistance has 3 null values which contributes 0.27% of the data. CompetitionOpenSinceMonth has 354 null value which contributes 31.75% of the data. CompetitionOpenSinceYear has 354 null value which contributes 31.75% of the data. Promo2SinceWeek, Promo2SinceYear and PromoInterval has 544 null values which contributes 48.79% of the data."
      ],
      "metadata": {
        "id": "NAuFX5HUGbp7"
      }
    },
    {
      "cell_type": "markdown",
      "metadata": {
        "id": "noaCz9dIxcVG"
      },
      "source": [
        "## 3. ***Data Wrangling***"
      ]
    },
    {
      "cell_type": "markdown",
      "metadata": {
        "id": "zE85lk6D0ovp"
      },
      "source": [
        "####1. Null values treatment"
      ]
    },
    {
      "cell_type": "markdown",
      "metadata": {
        "id": "XH3N5txl5UEU"
      },
      "source": [
        " ##### a). Handling null values from **CompetitionDistance** feature."
      ]
    },
    {
      "cell_type": "code",
      "execution_count": 24,
      "metadata": {
        "id": "QVipWsay01KO",
        "colab": {
          "base_uri": "https://localhost:8080/",
          "height": 0
        },
        "outputId": "ea50da4b-e990-4d47-926a-e58a55dd7936"
      },
      "outputs": [
        {
          "output_type": "execute_result",
          "data": {
            "text/plain": [
              "     Store StoreType Assortment  CompetitionDistance  \\\n",
              "290    291         d          a                  NaN   \n",
              "621    622         a          c                  NaN   \n",
              "878    879         d          a                  NaN   \n",
              "\n",
              "     CompetitionOpenSinceMonth  CompetitionOpenSinceYear  Promo2  \\\n",
              "290                        NaN                       NaN       0   \n",
              "621                        NaN                       NaN       0   \n",
              "878                        NaN                       NaN       1   \n",
              "\n",
              "     Promo2SinceWeek  Promo2SinceYear    PromoInterval  \n",
              "290              NaN              NaN              NaN  \n",
              "621              NaN              NaN              NaN  \n",
              "878              5.0           2013.0  Feb,May,Aug,Nov  "
            ],
            "text/html": [
              "\n",
              "  <div id=\"df-52367b04-2933-439c-a9ff-d9b7f2de47fa\">\n",
              "    <div class=\"colab-df-container\">\n",
              "      <div>\n",
              "<style scoped>\n",
              "    .dataframe tbody tr th:only-of-type {\n",
              "        vertical-align: middle;\n",
              "    }\n",
              "\n",
              "    .dataframe tbody tr th {\n",
              "        vertical-align: top;\n",
              "    }\n",
              "\n",
              "    .dataframe thead th {\n",
              "        text-align: right;\n",
              "    }\n",
              "</style>\n",
              "<table border=\"1\" class=\"dataframe\">\n",
              "  <thead>\n",
              "    <tr style=\"text-align: right;\">\n",
              "      <th></th>\n",
              "      <th>Store</th>\n",
              "      <th>StoreType</th>\n",
              "      <th>Assortment</th>\n",
              "      <th>CompetitionDistance</th>\n",
              "      <th>CompetitionOpenSinceMonth</th>\n",
              "      <th>CompetitionOpenSinceYear</th>\n",
              "      <th>Promo2</th>\n",
              "      <th>Promo2SinceWeek</th>\n",
              "      <th>Promo2SinceYear</th>\n",
              "      <th>PromoInterval</th>\n",
              "    </tr>\n",
              "  </thead>\n",
              "  <tbody>\n",
              "    <tr>\n",
              "      <th>290</th>\n",
              "      <td>291</td>\n",
              "      <td>d</td>\n",
              "      <td>a</td>\n",
              "      <td>NaN</td>\n",
              "      <td>NaN</td>\n",
              "      <td>NaN</td>\n",
              "      <td>0</td>\n",
              "      <td>NaN</td>\n",
              "      <td>NaN</td>\n",
              "      <td>NaN</td>\n",
              "    </tr>\n",
              "    <tr>\n",
              "      <th>621</th>\n",
              "      <td>622</td>\n",
              "      <td>a</td>\n",
              "      <td>c</td>\n",
              "      <td>NaN</td>\n",
              "      <td>NaN</td>\n",
              "      <td>NaN</td>\n",
              "      <td>0</td>\n",
              "      <td>NaN</td>\n",
              "      <td>NaN</td>\n",
              "      <td>NaN</td>\n",
              "    </tr>\n",
              "    <tr>\n",
              "      <th>878</th>\n",
              "      <td>879</td>\n",
              "      <td>d</td>\n",
              "      <td>a</td>\n",
              "      <td>NaN</td>\n",
              "      <td>NaN</td>\n",
              "      <td>NaN</td>\n",
              "      <td>1</td>\n",
              "      <td>5.0</td>\n",
              "      <td>2013.0</td>\n",
              "      <td>Feb,May,Aug,Nov</td>\n",
              "    </tr>\n",
              "  </tbody>\n",
              "</table>\n",
              "</div>\n",
              "      <button class=\"colab-df-convert\" onclick=\"convertToInteractive('df-52367b04-2933-439c-a9ff-d9b7f2de47fa')\"\n",
              "              title=\"Convert this dataframe to an interactive table.\"\n",
              "              style=\"display:none;\">\n",
              "        \n",
              "  <svg xmlns=\"http://www.w3.org/2000/svg\" height=\"24px\"viewBox=\"0 0 24 24\"\n",
              "       width=\"24px\">\n",
              "    <path d=\"M0 0h24v24H0V0z\" fill=\"none\"/>\n",
              "    <path d=\"M18.56 5.44l.94 2.06.94-2.06 2.06-.94-2.06-.94-.94-2.06-.94 2.06-2.06.94zm-11 1L8.5 8.5l.94-2.06 2.06-.94-2.06-.94L8.5 2.5l-.94 2.06-2.06.94zm10 10l.94 2.06.94-2.06 2.06-.94-2.06-.94-.94-2.06-.94 2.06-2.06.94z\"/><path d=\"M17.41 7.96l-1.37-1.37c-.4-.4-.92-.59-1.43-.59-.52 0-1.04.2-1.43.59L10.3 9.45l-7.72 7.72c-.78.78-.78 2.05 0 2.83L4 21.41c.39.39.9.59 1.41.59.51 0 1.02-.2 1.41-.59l7.78-7.78 2.81-2.81c.8-.78.8-2.07 0-2.86zM5.41 20L4 18.59l7.72-7.72 1.47 1.35L5.41 20z\"/>\n",
              "  </svg>\n",
              "      </button>\n",
              "      \n",
              "  <style>\n",
              "    .colab-df-container {\n",
              "      display:flex;\n",
              "      flex-wrap:wrap;\n",
              "      gap: 12px;\n",
              "    }\n",
              "\n",
              "    .colab-df-convert {\n",
              "      background-color: #E8F0FE;\n",
              "      border: none;\n",
              "      border-radius: 50%;\n",
              "      cursor: pointer;\n",
              "      display: none;\n",
              "      fill: #1967D2;\n",
              "      height: 32px;\n",
              "      padding: 0 0 0 0;\n",
              "      width: 32px;\n",
              "    }\n",
              "\n",
              "    .colab-df-convert:hover {\n",
              "      background-color: #E2EBFA;\n",
              "      box-shadow: 0px 1px 2px rgba(60, 64, 67, 0.3), 0px 1px 3px 1px rgba(60, 64, 67, 0.15);\n",
              "      fill: #174EA6;\n",
              "    }\n",
              "\n",
              "    [theme=dark] .colab-df-convert {\n",
              "      background-color: #3B4455;\n",
              "      fill: #D2E3FC;\n",
              "    }\n",
              "\n",
              "    [theme=dark] .colab-df-convert:hover {\n",
              "      background-color: #434B5C;\n",
              "      box-shadow: 0px 1px 3px 1px rgba(0, 0, 0, 0.15);\n",
              "      filter: drop-shadow(0px 1px 2px rgba(0, 0, 0, 0.3));\n",
              "      fill: #FFFFFF;\n",
              "    }\n",
              "  </style>\n",
              "\n",
              "      <script>\n",
              "        const buttonEl =\n",
              "          document.querySelector('#df-52367b04-2933-439c-a9ff-d9b7f2de47fa button.colab-df-convert');\n",
              "        buttonEl.style.display =\n",
              "          google.colab.kernel.accessAllowed ? 'block' : 'none';\n",
              "\n",
              "        async function convertToInteractive(key) {\n",
              "          const element = document.querySelector('#df-52367b04-2933-439c-a9ff-d9b7f2de47fa');\n",
              "          const dataTable =\n",
              "            await google.colab.kernel.invokeFunction('convertToInteractive',\n",
              "                                                     [key], {});\n",
              "          if (!dataTable) return;\n",
              "\n",
              "          const docLinkHtml = 'Like what you see? Visit the ' +\n",
              "            '<a target=\"_blank\" href=https://colab.research.google.com/notebooks/data_table.ipynb>data table notebook</a>'\n",
              "            + ' to learn more about interactive tables.';\n",
              "          element.innerHTML = '';\n",
              "          dataTable['output_type'] = 'display_data';\n",
              "          await google.colab.output.renderOutput(dataTable, element);\n",
              "          const docLink = document.createElement('div');\n",
              "          docLink.innerHTML = docLinkHtml;\n",
              "          element.appendChild(docLink);\n",
              "        }\n",
              "      </script>\n",
              "    </div>\n",
              "  </div>\n",
              "  "
            ]
          },
          "metadata": {},
          "execution_count": 24
        }
      ],
      "source": [
        "# fetching the observations which contains null values in CompetitionDistance feature\n",
        "Store_Data[Store_Data[\"CompetitionDistance\"].isnull()]"
      ]
    },
    {
      "cell_type": "code",
      "execution_count": 25,
      "metadata": {
        "id": "LePPa_fb1AMk",
        "colab": {
          "base_uri": "https://localhost:8080/",
          "height": 0
        },
        "outputId": "6476a852-b888-4dc9-d119-9e920b3b9e45"
      },
      "outputs": [
        {
          "output_type": "execute_result",
          "data": {
            "text/plain": [
              "<Axes: xlabel='CompetitionDistance'>"
            ]
          },
          "metadata": {},
          "execution_count": 25
        },
        {
          "output_type": "display_data",
          "data": {
            "text/plain": [
              "<Figure size 1500x500 with 1 Axes>"
            ],
            "image/png": "[encoded data removed]"
          },
          "metadata": {}
        }
      ],
      "source": [
        "# plotting seaborn box plot to check the outliers in CompetitionDistance features\n",
        "plt.figure(figsize=(15,5))\n",
        "sns.boxplot(x= Store_Data[\"CompetitionDistance\"])"
      ]
    },
    {
      "cell_type": "markdown",
      "metadata": {
        "id": "FZY2JHWN1KhQ"
      },
      "source": [
        "From the above box plot, we can see that there are outliers in the column CompetitionDistance and the mean is effected by the outliers, so here we have two options either we can drop the null values or fill them with median. We will fill the values with median."
      ]
    },
    {
      "cell_type": "code",
      "execution_count": 26,
      "metadata": {
        "id": "CZ84EkV01R-l"
      },
      "outputs": [],
      "source": [
        "# filling null values\n",
        "Store_Data[\"CompetitionDistance\"].fillna(Store_Data[\"CompetitionDistance\"].median(), inplace=True)"
      ]
    },
    {
      "cell_type": "code",
      "execution_count": 27,
      "metadata": {
        "id": "w_8wdZU91cUT",
        "colab": {
          "base_uri": "https://localhost:8080/"
        },
        "outputId": "35e0b51c-9c5e-434f-ea58-ffa2ff3bff99"
      },
      "outputs": [
        {
          "output_type": "stream",
          "name": "stdout",
          "text": [
            "<class 'pandas.core.frame.DataFrame'>\n",
            "RangeIndex: 1115 entries, 0 to 1114\n",
            "Data columns (total 10 columns):\n",
            " #   Column                     Non-Null Count  Dtype  \n",
            "---  ------                     --------------  -----  \n",
            " 0   Store                      1115 non-null   int64  \n",
            " 1   StoreType                  1115 non-null   object \n",
            " 2   Assortment                 1115 non-null   object \n",
            " 3   CompetitionDistance        1115 non-null   float64\n",
            " 4   CompetitionOpenSinceMonth  761 non-null    float64\n",
            " 5   CompetitionOpenSinceYear   761 non-null    float64\n",
            " 6   Promo2                     1115 non-null   int64  \n",
            " 7   Promo2SinceWeek            571 non-null    float64\n",
            " 8   Promo2SinceYear            571 non-null    float64\n",
            " 9   PromoInterval              571 non-null    object \n",
            "dtypes: float64(5), int64(2), object(3)\n",
            "memory usage: 87.2+ KB\n"
          ]
        }
      ],
      "source": [
        "# rechecking if we have any null values\n",
        "Store_Data.info()"
      ]
    },
    {
      "cell_type": "markdown",
      "metadata": {
        "id": "LLy4zF9L1oat"
      },
      "source": [
        "From the above info we can clearly see that the null values in CompetitionDistance has been handled successfully."
      ]
    },
    {
      "cell_type": "markdown",
      "metadata": {
        "id": "r7T-q-Fg5lLH"
      },
      "source": [
        "##### b). Handling null values from **CompetitionOpenSinceMonth and CompetitionOpenSinceYear** feature."
      ]
    },
    {
      "cell_type": "code",
      "execution_count": 28,
      "metadata": {
        "id": "dPUglWpB51Yc",
        "colab": {
          "base_uri": "https://localhost:8080/",
          "height": 0
        },
        "outputId": "ac3c0f18-5092-4f88-aeb8-1571a8c11133"
      },
      "outputs": [
        {
          "output_type": "execute_result",
          "data": {
            "text/plain": [
              "      Store StoreType Assortment  CompetitionDistance  \\\n",
              "11       12         a          c               1070.0   \n",
              "12       13         d          a                310.0   \n",
              "15       16         a          c               3270.0   \n",
              "18       19         a          c               3240.0   \n",
              "21       22         a          a               1040.0   \n",
              "...     ...       ...        ...                  ...   \n",
              "1095   1096         a          c               1130.0   \n",
              "1099   1100         a          a                540.0   \n",
              "1112   1113         a          c               9260.0   \n",
              "1113   1114         a          c                870.0   \n",
              "1114   1115         d          c               5350.0   \n",
              "\n",
              "      CompetitionOpenSinceMonth  CompetitionOpenSinceYear  Promo2  \\\n",
              "11                          NaN                       NaN       1   \n",
              "12                          NaN                       NaN       1   \n",
              "15                          NaN                       NaN       0   \n",
              "18                          NaN                       NaN       1   \n",
              "21                          NaN                       NaN       1   \n",
              "...                         ...                       ...     ...   \n",
              "1095                        NaN                       NaN       1   \n",
              "1099                        NaN                       NaN       1   \n",
              "1112                        NaN                       NaN       0   \n",
              "1113                        NaN                       NaN       0   \n",
              "1114                        NaN                       NaN       1   \n",
              "\n",
              "      Promo2SinceWeek  Promo2SinceYear     PromoInterval  \n",
              "11               13.0           2010.0   Jan,Apr,Jul,Oct  \n",
              "12               45.0           2009.0   Feb,May,Aug,Nov  \n",
              "15                NaN              NaN               NaN  \n",
              "18               22.0           2011.0  Mar,Jun,Sept,Dec  \n",
              "21               22.0           2012.0   Jan,Apr,Jul,Oct  \n",
              "...               ...              ...               ...  \n",
              "1095             10.0           2014.0  Mar,Jun,Sept,Dec  \n",
              "1099             14.0           2011.0   Jan,Apr,Jul,Oct  \n",
              "1112              NaN              NaN               NaN  \n",
              "1113              NaN              NaN               NaN  \n",
              "1114             22.0           2012.0  Mar,Jun,Sept,Dec  \n",
              "\n",
              "[354 rows x 10 columns]"
            ],
            "text/html": [
              "\n",
              "  <div id=\"df-486ff6e6-83ab-45c6-a562-2aaa198a243f\">\n",
              "    <div class=\"colab-df-container\">\n",
              "      <div>\n",
              "<style scoped>\n",
              "    .dataframe tbody tr th:only-of-type {\n",
              "        vertical-align: middle;\n",
              "    }\n",
              "\n",
              "    .dataframe tbody tr th {\n",
              "        vertical-align: top;\n",
              "    }\n",
              "\n",
              "    .dataframe thead th {\n",
              "        text-align: right;\n",
              "    }\n",
              "</style>\n",
              "<table border=\"1\" class=\"dataframe\">\n",
              "  <thead>\n",
              "    <tr style=\"text-align: right;\">\n",
              "      <th></th>\n",
              "      <th>Store</th>\n",
              "      <th>StoreType</th>\n",
              "      <th>Assortment</th>\n",
              "      <th>CompetitionDistance</th>\n",
              "      <th>CompetitionOpenSinceMonth</th>\n",
              "      <th>CompetitionOpenSinceYear</th>\n",
              "      <th>Promo2</th>\n",
              "      <th>Promo2SinceWeek</th>\n",
              "      <th>Promo2SinceYear</th>\n",
              "      <th>PromoInterval</th>\n",
              "    </tr>\n",
              "  </thead>\n",
              "  <tbody>\n",
              "    <tr>\n",
              "      <th>11</th>\n",
              "      <td>12</td>\n",
              "      <td>a</td>\n",
              "      <td>c</td>\n",
              "      <td>1070.0</td>\n",
              "      <td>NaN</td>\n",
              "      <td>NaN</td>\n",
              "      <td>1</td>\n",
              "      <td>13.0</td>\n",
              "      <td>2010.0</td>\n",
              "      <td>Jan,Apr,Jul,Oct</td>\n",
              "    </tr>\n",
              "    <tr>\n",
              "      <th>12</th>\n",
              "      <td>13</td>\n",
              "      <td>d</td>\n",
              "      <td>a</td>\n",
              "      <td>310.0</td>\n",
              "      <td>NaN</td>\n",
              "      <td>NaN</td>\n",
              "      <td>1</td>\n",
              "      <td>45.0</td>\n",
              "      <td>2009.0</td>\n",
              "      <td>Feb,May,Aug,Nov</td>\n",
              "    </tr>\n",
              "    <tr>\n",
              "      <th>15</th>\n",
              "      <td>16</td>\n",
              "      <td>a</td>\n",
              "      <td>c</td>\n",
              "      <td>3270.0</td>\n",
              "      <td>NaN</td>\n",
              "      <td>NaN</td>\n",
              "      <td>0</td>\n",
              "      <td>NaN</td>\n",
              "      <td>NaN</td>\n",
              "      <td>NaN</td>\n",
              "    </tr>\n",
              "    <tr>\n",
              "      <th>18</th>\n",
              "      <td>19</td>\n",
              "      <td>a</td>\n",
              "      <td>c</td>\n",
              "      <td>3240.0</td>\n",
              "      <td>NaN</td>\n",
              "      <td>NaN</td>\n",
              "      <td>1</td>\n",
              "      <td>22.0</td>\n",
              "      <td>2011.0</td>\n",
              "      <td>Mar,Jun,Sept,Dec</td>\n",
              "    </tr>\n",
              "    <tr>\n",
              "      <th>21</th>\n",
              "      <td>22</td>\n",
              "      <td>a</td>\n",
              "      <td>a</td>\n",
              "      <td>1040.0</td>\n",
              "      <td>NaN</td>\n",
              "      <td>NaN</td>\n",
              "      <td>1</td>\n",
              "      <td>22.0</td>\n",
              "      <td>2012.0</td>\n",
              "      <td>Jan,Apr,Jul,Oct</td>\n",
              "    </tr>\n",
              "    <tr>\n",
              "      <th>...</th>\n",
              "      <td>...</td>\n",
              "      <td>...</td>\n",
              "      <td>...</td>\n",
              "      <td>...</td>\n",
              "      <td>...</td>\n",
              "      <td>...</td>\n",
              "      <td>...</td>\n",
              "      <td>...</td>\n",
              "      <td>...</td>\n",
              "      <td>...</td>\n",
              "    </tr>\n",
              "    <tr>\n",
              "      <th>1095</th>\n",
              "      <td>1096</td>\n",
              "      <td>a</td>\n",
              "      <td>c</td>\n",
              "      <td>1130.0</td>\n",
              "      <td>NaN</td>\n",
              "      <td>NaN</td>\n",
              "      <td>1</td>\n",
              "      <td>10.0</td>\n",
              "      <td>2014.0</td>\n",
              "      <td>Mar,Jun,Sept,Dec</td>\n",
              "    </tr>\n",
              "    <tr>\n",
              "      <th>1099</th>\n",
              "      <td>1100</td>\n",
              "      <td>a</td>\n",
              "      <td>a</td>\n",
              "      <td>540.0</td>\n",
              "      <td>NaN</td>\n",
              "      <td>NaN</td>\n",
              "      <td>1</td>\n",
              "      <td>14.0</td>\n",
              "      <td>2011.0</td>\n",
              "      <td>Jan,Apr,Jul,Oct</td>\n",
              "    </tr>\n",
              "    <tr>\n",
              "      <th>1112</th>\n",
              "      <td>1113</td>\n",
              "      <td>a</td>\n",
              "      <td>c</td>\n",
              "      <td>9260.0</td>\n",
              "      <td>NaN</td>\n",
              "      <td>NaN</td>\n",
              "      <td>0</td>\n",
              "      <td>NaN</td>\n",
              "      <td>NaN</td>\n",
              "      <td>NaN</td>\n",
              "    </tr>\n",
              "    <tr>\n",
              "      <th>1113</th>\n",
              "      <td>1114</td>\n",
              "      <td>a</td>\n",
              "      <td>c</td>\n",
              "      <td>870.0</td>\n",
              "      <td>NaN</td>\n",
              "      <td>NaN</td>\n",
              "      <td>0</td>\n",
              "      <td>NaN</td>\n",
              "      <td>NaN</td>\n",
              "      <td>NaN</td>\n",
              "    </tr>\n",
              "    <tr>\n",
              "      <th>1114</th>\n",
              "      <td>1115</td>\n",
              "      <td>d</td>\n",
              "      <td>c</td>\n",
              "      <td>5350.0</td>\n",
              "      <td>NaN</td>\n",
              "      <td>NaN</td>\n",
              "      <td>1</td>\n",
              "      <td>22.0</td>\n",
              "      <td>2012.0</td>\n",
              "      <td>Mar,Jun,Sept,Dec</td>\n",
              "    </tr>\n",
              "  </tbody>\n",
              "</table>\n",
              "<p>354 rows × 10 columns</p>\n",
              "</div>\n",
              "      <button class=\"colab-df-convert\" onclick=\"convertToInteractive('df-486ff6e6-83ab-45c6-a562-2aaa198a243f')\"\n",
              "              title=\"Convert this dataframe to an interactive table.\"\n",
              "              style=\"display:none;\">\n",
              "        \n",
              "  <svg xmlns=\"http://www.w3.org/2000/svg\" height=\"24px\"viewBox=\"0 0 24 24\"\n",
              "       width=\"24px\">\n",
              "    <path d=\"M0 0h24v24H0V0z\" fill=\"none\"/>\n",
              "    <path d=\"M18.56 5.44l.94 2.06.94-2.06 2.06-.94-2.06-.94-.94-2.06-.94 2.06-2.06.94zm-11 1L8.5 8.5l.94-2.06 2.06-.94-2.06-.94L8.5 2.5l-.94 2.06-2.06.94zm10 10l.94 2.06.94-2.06 2.06-.94-2.06-.94-.94-2.06-.94 2.06-2.06.94z\"/><path d=\"M17.41 7.96l-1.37-1.37c-.4-.4-.92-.59-1.43-.59-.52 0-1.04.2-1.43.59L10.3 9.45l-7.72 7.72c-.78.78-.78 2.05 0 2.83L4 21.41c.39.39.9.59 1.41.59.51 0 1.02-.2 1.41-.59l7.78-7.78 2.81-2.81c.8-.78.8-2.07 0-2.86zM5.41 20L4 18.59l7.72-7.72 1.47 1.35L5.41 20z\"/>\n",
              "  </svg>\n",
              "      </button>\n",
              "      \n",
              "  <style>\n",
              "    .colab-df-container {\n",
              "      display:flex;\n",
              "      flex-wrap:wrap;\n",
              "      gap: 12px;\n",
              "    }\n",
              "\n",
              "    .colab-df-convert {\n",
              "      background-color: #E8F0FE;\n",
              "      border: none;\n",
              "      border-radius: 50%;\n",
              "      cursor: pointer;\n",
              "      display: none;\n",
              "      fill: #1967D2;\n",
              "      height: 32px;\n",
              "      padding: 0 0 0 0;\n",
              "      width: 32px;\n",
              "    }\n",
              "\n",
              "    .colab-df-convert:hover {\n",
              "      background-color: #E2EBFA;\n",
              "      box-shadow: 0px 1px 2px rgba(60, 64, 67, 0.3), 0px 1px 3px 1px rgba(60, 64, 67, 0.15);\n",
              "      fill: #174EA6;\n",
              "    }\n",
              "\n",
              "    [theme=dark] .colab-df-convert {\n",
              "      background-color: #3B4455;\n",
              "      fill: #D2E3FC;\n",
              "    }\n",
              "\n",
              "    [theme=dark] .colab-df-convert:hover {\n",
              "      background-color: #434B5C;\n",
              "      box-shadow: 0px 1px 3px 1px rgba(0, 0, 0, 0.15);\n",
              "      filter: drop-shadow(0px 1px 2px rgba(0, 0, 0, 0.3));\n",
              "      fill: #FFFFFF;\n",
              "    }\n",
              "  </style>\n",
              "\n",
              "      <script>\n",
              "        const buttonEl =\n",
              "          document.querySelector('#df-486ff6e6-83ab-45c6-a562-2aaa198a243f button.colab-df-convert');\n",
              "        buttonEl.style.display =\n",
              "          google.colab.kernel.accessAllowed ? 'block' : 'none';\n",
              "\n",
              "        async function convertToInteractive(key) {\n",
              "          const element = document.querySelector('#df-486ff6e6-83ab-45c6-a562-2aaa198a243f');\n",
              "          const dataTable =\n",
              "            await google.colab.kernel.invokeFunction('convertToInteractive',\n",
              "                                                     [key], {});\n",
              "          if (!dataTable) return;\n",
              "\n",
              "          const docLinkHtml = 'Like what you see? Visit the ' +\n",
              "            '<a target=\"_blank\" href=https://colab.research.google.com/notebooks/data_table.ipynb>data table notebook</a>'\n",
              "            + ' to learn more about interactive tables.';\n",
              "          element.innerHTML = '';\n",
              "          dataTable['output_type'] = 'display_data';\n",
              "          await google.colab.output.renderOutput(dataTable, element);\n",
              "          const docLink = document.createElement('div');\n",
              "          docLink.innerHTML = docLinkHtml;\n",
              "          element.appendChild(docLink);\n",
              "        }\n",
              "      </script>\n",
              "    </div>\n",
              "  </div>\n",
              "  "
            ]
          },
          "metadata": {},
          "execution_count": 28
        }
      ],
      "source": [
        "# fetching the observations which contains null values in CompetitionOpenSinceMonth and CompetitionOpenSinceYear feature\n",
        "Store_Data[Store_Data[\"CompetitionOpenSinceMonth\"].isnull()]"
      ]
    },
    {
      "cell_type": "code",
      "execution_count": 29,
      "metadata": {
        "id": "slbJNskd70BD",
        "colab": {
          "base_uri": "https://localhost:8080/",
          "height": 0
        },
        "outputId": "3048adeb-d645-403e-eda4-9dd40b38f0e7"
      },
      "outputs": [
        {
          "output_type": "execute_result",
          "data": {
            "text/plain": [
              "<Axes: >"
            ]
          },
          "metadata": {},
          "execution_count": 29
        },
        {
          "output_type": "display_data",
          "data": {
            "text/plain": [
              "<Figure size 1500x500 with 1 Axes>"
            ],
            "image/png": "[encoded data removed]"
          },
          "metadata": {}
        }
      ],
      "source": [
        "# plotting seaborn box plot to check the outliers in CompetitionOpenSinceMonth and CompetitionOpenSinceYear features\n",
        "plt.figure(figsize=(15,5))\n",
        "sns.boxplot(Store_Data[\"CompetitionOpenSinceMonth\"])"
      ]
    },
    {
      "cell_type": "code",
      "execution_count": 30,
      "metadata": {
        "id": "b1Dx1c4QCn0H",
        "colab": {
          "base_uri": "https://localhost:8080/",
          "height": 0
        },
        "outputId": "ba144858-0378-43fb-ee0b-086e2d60cbe5"
      },
      "outputs": [
        {
          "output_type": "execute_result",
          "data": {
            "text/plain": [
              "<Axes: >"
            ]
          },
          "metadata": {},
          "execution_count": 30
        },
        {
          "output_type": "display_data",
          "data": {
            "text/plain": [
              "<Figure size 1500x500 with 1 Axes>"
            ],
            "image/png": "[encoded data removed]"
          },
          "metadata": {}
        }
      ],
      "source": [
        "# plotting seaborn box plot to check the outliers in CompetitionOpenSinceMonth and CompetitionOpenSinceYear features\n",
        "plt.figure(figsize=(15,5))\n",
        "sns.boxplot(Store_Data[\"CompetitionOpenSinceYear\"])"
      ]
    },
    {
      "cell_type": "markdown",
      "metadata": {
        "id": "Wofo21mdb1xt"
      },
      "source": [
        "Filling null values of CompetitionOpenSinceMonth and CompetitionOpenSinceYear with Mode."
      ]
    },
    {
      "cell_type": "code",
      "execution_count": 31,
      "metadata": {
        "id": "yGJ83HELLQ-N"
      },
      "outputs": [],
      "source": [
        "# filling null values of CompetitionOpenSinceMonth\n",
        "Store_Data[\"CompetitionOpenSinceMonth\"].fillna(Store_Data[\"CompetitionOpenSinceMonth\"].mode()[0], inplace=True)"
      ]
    },
    {
      "cell_type": "code",
      "execution_count": 32,
      "metadata": {
        "id": "-lfR0rOHNgAK"
      },
      "outputs": [],
      "source": [
        "# filling null values of CompetitionOpenSinceYear\n",
        "Store_Data[\"CompetitionOpenSinceYear\"].fillna(Store_Data[\"CompetitionOpenSinceYear\"].mode()[0], inplace=True)"
      ]
    },
    {
      "cell_type": "code",
      "execution_count": 33,
      "metadata": {
        "id": "2F74I_KwNzRp",
        "colab": {
          "base_uri": "https://localhost:8080/"
        },
        "outputId": "3382ffe7-f012-49c8-c21b-66fa958e2ec0"
      },
      "outputs": [
        {
          "output_type": "stream",
          "name": "stdout",
          "text": [
            "<class 'pandas.core.frame.DataFrame'>\n",
            "RangeIndex: 1115 entries, 0 to 1114\n",
            "Data columns (total 10 columns):\n",
            " #   Column                     Non-Null Count  Dtype  \n",
            "---  ------                     --------------  -----  \n",
            " 0   Store                      1115 non-null   int64  \n",
            " 1   StoreType                  1115 non-null   object \n",
            " 2   Assortment                 1115 non-null   object \n",
            " 3   CompetitionDistance        1115 non-null   float64\n",
            " 4   CompetitionOpenSinceMonth  1115 non-null   float64\n",
            " 5   CompetitionOpenSinceYear   1115 non-null   float64\n",
            " 6   Promo2                     1115 non-null   int64  \n",
            " 7   Promo2SinceWeek            571 non-null    float64\n",
            " 8   Promo2SinceYear            571 non-null    float64\n",
            " 9   PromoInterval              571 non-null    object \n",
            "dtypes: float64(5), int64(2), object(3)\n",
            "memory usage: 87.2+ KB\n"
          ]
        }
      ],
      "source": [
        "# rechecking if we have any null values in CompetitionOpenSinceMonth and CompetitionOpenSinceYear\n",
        "Store_Data.info()"
      ]
    },
    {
      "cell_type": "markdown",
      "metadata": {
        "id": "p3z7ntI_O9Nq"
      },
      "source": [
        "##### c). Handling null values from **Promo2SinceWeek, Promo2SinceYear and PromoInterval** feature."
      ]
    },
    {
      "cell_type": "markdown",
      "metadata": {
        "id": "SYbr8QvxwE-x"
      },
      "source": [
        "Since corresponding value where Promo2 is 0 for features Promo2SinceWeek, Promo2SinceYear and PromoInterval having null values. So, we are replacing null values with 0."
      ]
    },
    {
      "cell_type": "code",
      "execution_count": 34,
      "metadata": {
        "id": "kSGbHNL-PLng"
      },
      "outputs": [],
      "source": [
        "# Replacing all the null values of Promo2SinceWeek, Promo2SinceYear and PromoInterval with 0. \n",
        "Store_Data[\"Promo2SinceWeek\"].fillna(0, inplace=True)\n",
        "Store_Data[\"Promo2SinceYear\"].fillna(0, inplace=True)\n",
        "Store_Data[\"PromoInterval\"].fillna(0, inplace=True)"
      ]
    },
    {
      "cell_type": "code",
      "execution_count": 35,
      "metadata": {
        "id": "lIDcI-nbyufB",
        "colab": {
          "base_uri": "https://localhost:8080/"
        },
        "outputId": "d17fa86e-c82e-478b-a045-d6007251eba4"
      },
      "outputs": [
        {
          "output_type": "stream",
          "name": "stdout",
          "text": [
            "<class 'pandas.core.frame.DataFrame'>\n",
            "RangeIndex: 1115 entries, 0 to 1114\n",
            "Data columns (total 10 columns):\n",
            " #   Column                     Non-Null Count  Dtype  \n",
            "---  ------                     --------------  -----  \n",
            " 0   Store                      1115 non-null   int64  \n",
            " 1   StoreType                  1115 non-null   object \n",
            " 2   Assortment                 1115 non-null   object \n",
            " 3   CompetitionDistance        1115 non-null   float64\n",
            " 4   CompetitionOpenSinceMonth  1115 non-null   float64\n",
            " 5   CompetitionOpenSinceYear   1115 non-null   float64\n",
            " 6   Promo2                     1115 non-null   int64  \n",
            " 7   Promo2SinceWeek            1115 non-null   float64\n",
            " 8   Promo2SinceYear            1115 non-null   float64\n",
            " 9   PromoInterval              1115 non-null   object \n",
            "dtypes: float64(5), int64(2), object(3)\n",
            "memory usage: 87.2+ KB\n"
          ]
        }
      ],
      "source": [
        "# rechecking if our features contains more null values\n",
        "Store_Data.info()"
      ]
    },
    {
      "cell_type": "markdown",
      "metadata": {
        "id": "sbO9aYn69dmh"
      },
      "source": [
        "All the missing values in the store dataset has been successfully handled."
      ]
    },
    {
      "cell_type": "markdown",
      "metadata": {
        "id": "2fO49BByrjPF"
      },
      "source": [
        "#### 2. Merging datasets"
      ]
    },
    {
      "cell_type": "code",
      "execution_count": 36,
      "metadata": {
        "id": "FV4CIjZjCW39",
        "colab": {
          "base_uri": "https://localhost:8080/"
        },
        "outputId": "2e61f1c5-8dce-428a-fe10-39961b18bd64"
      },
      "outputs": [
        {
          "output_type": "stream",
          "name": "stdout",
          "text": [
            "(1017209, 18)\n"
          ]
        }
      ],
      "source": [
        "# Merging the rossmann and store dataset by using inner join\n",
        "Merged_Data= pd.merge(Rossmann_Data, Store_Data, on=\"Store\", how= \"inner\")\n",
        "print(Merged_Data.shape)"
      ]
    },
    {
      "cell_type": "code",
      "execution_count": 37,
      "metadata": {
        "id": "eeTHW9zcCok0",
        "colab": {
          "base_uri": "https://localhost:8080/"
        },
        "outputId": "6dd20c2a-10c8-48f9-cce4-dd965148db6e"
      },
      "outputs": [
        {
          "output_type": "stream",
          "name": "stdout",
          "text": [
            "<class 'pandas.core.frame.DataFrame'>\n",
            "Int64Index: 1017209 entries, 0 to 1017208\n",
            "Data columns (total 18 columns):\n",
            " #   Column                     Non-Null Count    Dtype  \n",
            "---  ------                     --------------    -----  \n",
            " 0   Store                      1017209 non-null  int64  \n",
            " 1   DayOfWeek                  1017209 non-null  int64  \n",
            " 2   Date                       1017209 non-null  object \n",
            " 3   Sales                      1017209 non-null  int64  \n",
            " 4   Customers                  1017209 non-null  int64  \n",
            " 5   Open                       1017209 non-null  int64  \n",
            " 6   Promo                      1017209 non-null  int64  \n",
            " 7   StateHoliday               1017209 non-null  object \n",
            " 8   SchoolHoliday              1017209 non-null  int64  \n",
            " 9   StoreType                  1017209 non-null  object \n",
            " 10  Assortment                 1017209 non-null  object \n",
            " 11  CompetitionDistance        1017209 non-null  float64\n",
            " 12  CompetitionOpenSinceMonth  1017209 non-null  float64\n",
            " 13  CompetitionOpenSinceYear   1017209 non-null  float64\n",
            " 14  Promo2                     1017209 non-null  int64  \n",
            " 15  Promo2SinceWeek            1017209 non-null  float64\n",
            " 16  Promo2SinceYear            1017209 non-null  float64\n",
            " 17  PromoInterval              1017209 non-null  object \n",
            "dtypes: float64(5), int64(8), object(5)\n",
            "memory usage: 147.5+ MB\n"
          ]
        }
      ],
      "source": [
        "#checking info of our final merged dataset\n",
        "Merged_Data.info()"
      ]
    },
    {
      "cell_type": "markdown",
      "metadata": {
        "id": "_GKLYLoV4IkG"
      },
      "source": [
        "#### 3. Typecasting"
      ]
    },
    {
      "cell_type": "code",
      "execution_count": 38,
      "metadata": {
        "id": "AixJQtINKuLC",
        "colab": {
          "base_uri": "https://localhost:8080/"
        },
        "outputId": "d6736559-87af-48a3-cf52-990d5b7e5658"
      },
      "outputs": [
        {
          "output_type": "stream",
          "name": "stdout",
          "text": [
            "<class 'pandas.core.frame.DataFrame'>\n",
            "Int64Index: 1017209 entries, 0 to 1017208\n",
            "Data columns (total 18 columns):\n",
            " #   Column                     Non-Null Count    Dtype  \n",
            "---  ------                     --------------    -----  \n",
            " 0   Store                      1017209 non-null  int64  \n",
            " 1   DayOfWeek                  1017209 non-null  int64  \n",
            " 2   Date                       1017209 non-null  object \n",
            " 3   Sales                      1017209 non-null  int64  \n",
            " 4   Customers                  1017209 non-null  int64  \n",
            " 5   Open                       1017209 non-null  int64  \n",
            " 6   Promo                      1017209 non-null  int64  \n",
            " 7   StateHoliday               1017209 non-null  object \n",
            " 8   SchoolHoliday              1017209 non-null  int64  \n",
            " 9   StoreType                  1017209 non-null  object \n",
            " 10  Assortment                 1017209 non-null  object \n",
            " 11  CompetitionDistance        1017209 non-null  float64\n",
            " 12  CompetitionOpenSinceMonth  1017209 non-null  float64\n",
            " 13  CompetitionOpenSinceYear   1017209 non-null  float64\n",
            " 14  Promo2                     1017209 non-null  int64  \n",
            " 15  Promo2SinceWeek            1017209 non-null  float64\n",
            " 16  Promo2SinceYear            1017209 non-null  float64\n",
            " 17  PromoInterval              1017209 non-null  object \n",
            "dtypes: float64(5), int64(8), object(5)\n",
            "memory usage: 147.5+ MB\n"
          ]
        }
      ],
      "source": [
        "# Checking dtypes of all the variables of the dataframe\n",
        "Merged_Data.info()"
      ]
    },
    {
      "cell_type": "code",
      "execution_count": 39,
      "metadata": {
        "id": "SXummRfXtqXf"
      },
      "outputs": [],
      "source": [
        "# changing dtype into required format from both the datasets\n",
        "Merged_Data[\"Date\"]= pd.to_datetime(Merged_Data[\"Date\"],format=\"%Y/%m/%d\")\n",
        "Merged_Data[\"CompetitionDistance\"]= Merged_Data[\"CompetitionDistance\"].astype(int)\n",
        "Merged_Data[\"CompetitionOpenSinceMonth\"]= Merged_Data[\"CompetitionOpenSinceMonth\"].astype(int)\n",
        "Merged_Data[\"CompetitionOpenSinceYear\"]= Merged_Data[\"CompetitionOpenSinceYear\"].astype(int)\n",
        "Merged_Data[\"Promo2SinceWeek\"]= Merged_Data[\"Promo2SinceWeek\"].astype(int)\n",
        "Merged_Data[\"Promo2SinceYear\"]= Merged_Data[\"Promo2SinceYear\"].astype(int)"
      ]
    },
    {
      "cell_type": "code",
      "execution_count": 40,
      "metadata": {
        "id": "Jbah_FW7LI3n",
        "colab": {
          "base_uri": "https://localhost:8080/"
        },
        "outputId": "97263710-0ce1-4237-c9b8-4968f58a0ec7"
      },
      "outputs": [
        {
          "output_type": "stream",
          "name": "stdout",
          "text": [
            "<class 'pandas.core.frame.DataFrame'>\n",
            "Int64Index: 1017209 entries, 0 to 1017208\n",
            "Data columns (total 18 columns):\n",
            " #   Column                     Non-Null Count    Dtype         \n",
            "---  ------                     --------------    -----         \n",
            " 0   Store                      1017209 non-null  int64         \n",
            " 1   DayOfWeek                  1017209 non-null  int64         \n",
            " 2   Date                       1017209 non-null  datetime64[ns]\n",
            " 3   Sales                      1017209 non-null  int64         \n",
            " 4   Customers                  1017209 non-null  int64         \n",
            " 5   Open                       1017209 non-null  int64         \n",
            " 6   Promo                      1017209 non-null  int64         \n",
            " 7   StateHoliday               1017209 non-null  object        \n",
            " 8   SchoolHoliday              1017209 non-null  int64         \n",
            " 9   StoreType                  1017209 non-null  object        \n",
            " 10  Assortment                 1017209 non-null  object        \n",
            " 11  CompetitionDistance        1017209 non-null  int64         \n",
            " 12  CompetitionOpenSinceMonth  1017209 non-null  int64         \n",
            " 13  CompetitionOpenSinceYear   1017209 non-null  int64         \n",
            " 14  Promo2                     1017209 non-null  int64         \n",
            " 15  Promo2SinceWeek            1017209 non-null  int64         \n",
            " 16  Promo2SinceYear            1017209 non-null  int64         \n",
            " 17  PromoInterval              1017209 non-null  object        \n",
            "dtypes: datetime64[ns](1), int64(13), object(4)\n",
            "memory usage: 147.5+ MB\n"
          ]
        }
      ],
      "source": [
        "# Verifying the dtypes\n",
        "Merged_Data.info()"
      ]
    },
    {
      "cell_type": "markdown",
      "metadata": {
        "id": "NzsSigdzxcVQ"
      },
      "source": [
        "### What all manipulations have you done and insights you found?"
      ]
    },
    {
      "cell_type": "markdown",
      "metadata": {
        "id": "RfnSL__NxcVQ"
      },
      "source": [
        "In data wrangling we have divided it into three sections:\n",
        "\n",
        "\n",
        "1.   **Null values treatment**: In this section we have treated all the null values from both the datasets. We did the following replacements:\n",
        "\n",
        "\n",
        "> a. Replaced null values of CompetitionDistance with MEDIAN.\n",
        "\n",
        "> b. Replaced null values of CompetitionOpenSinceMonth and with MODE.\n",
        "\n",
        "> c. Replaced null values of CompetitionOpenSinceYear and with MODE.\n",
        "\n",
        "> d. Replaced null values of Promo2SinceWeek and with 0. \n",
        "\n",
        "> e. Replaced null values of Promo2SinceYear and with 0.\n",
        "\n",
        "> f. Replaced null values of PromoInterval and with 0.\n",
        "\n",
        "\n",
        "2.   **Merging datasets**: We don't want to compromise with quality and quantity of our dataset in order to get the best accuracy in ML model implementation. So, we were wondering to use the best join for the good results and we got to know with our R&D that every join is giving the same shape of our merged dataset with 0 null values. So, we have decided to go with the inner join.\n",
        "\n",
        "3.   **Typecasting**: In typecasting section we have typecasted the following features in order to visualize it properly and can feed them as input of ML model:\n",
        "\n",
        "\n",
        "> a. Typecasted the Date feature to Datetime format.\n",
        "\n",
        "> b. Typecasted the CompetitionDistance, CompetitionOpenSinceMonth, CompetitionOpenSinceYear, Promo2SinceWeek, Promo2SinceYear feature to Integer.\n",
        "\n",
        "\n",
        "\n",
        "\n",
        "\n",
        "\n",
        "\n",
        "\n",
        "\n",
        "\n"
      ]
    },
    {
      "cell_type": "markdown",
      "metadata": {
        "id": "9w9Ak1FbU5sM"
      },
      "source": [
        "## ***4. Data Vizualization, Storytelling & Experimenting with charts : Understand the relationships between variables***"
      ]
    },
    {
      "cell_type": "markdown",
      "metadata": {
        "id": "l5DtCI4BU5sN"
      },
      "source": [
        "As some stores in the dataset were temporarily closed due to refurbishment and they won't provide us any information , so we will not consider those store which were closed . We will remove those rows where stores were closed ."
      ]
    },
    {
      "cell_type": "code",
      "execution_count": 42,
      "metadata": {
        "id": "die2EC8GU5sN"
      },
      "outputs": [],
      "source": [
        "# Considering those rows where stores are open and sales are not zero. \n",
        "Merged_Data = Merged_Data[(Merged_Data['Open']==1)]            \n",
        "\n",
        "# Now since every store in our dataset are opened , we don't need 'Open' column and we will drop this column\n",
        "Merged_Data.drop(['Open'],axis=1,inplace=True)"
      ]
    },
    {
      "cell_type": "code",
      "execution_count": 43,
      "metadata": {
        "id": "64k2eURbdEmV",
        "colab": {
          "base_uri": "https://localhost:8080/"
        },
        "outputId": "7ac1bfa4-6d3e-4bb5-a6ad-9bc649afd8d8"
      },
      "outputs": [
        {
          "output_type": "stream",
          "name": "stdout",
          "text": [
            "<class 'pandas.core.frame.DataFrame'>\n",
            "Int64Index: 844392 entries, 0 to 1017207\n",
            "Data columns (total 17 columns):\n",
            " #   Column                     Non-Null Count   Dtype         \n",
            "---  ------                     --------------   -----         \n",
            " 0   Store                      844392 non-null  int64         \n",
            " 1   DayOfWeek                  844392 non-null  int64         \n",
            " 2   Date                       844392 non-null  datetime64[ns]\n",
            " 3   Sales                      844392 non-null  int64         \n",
            " 4   Customers                  844392 non-null  int64         \n",
            " 5   Promo                      844392 non-null  int64         \n",
            " 6   StateHoliday               844392 non-null  object        \n",
            " 7   SchoolHoliday              844392 non-null  int64         \n",
            " 8   StoreType                  844392 non-null  object        \n",
            " 9   Assortment                 844392 non-null  object        \n",
            " 10  CompetitionDistance        844392 non-null  int64         \n",
            " 11  CompetitionOpenSinceMonth  844392 non-null  int64         \n",
            " 12  CompetitionOpenSinceYear   844392 non-null  int64         \n",
            " 13  Promo2                     844392 non-null  int64         \n",
            " 14  Promo2SinceWeek            844392 non-null  int64         \n",
            " 15  Promo2SinceYear            844392 non-null  int64         \n",
            " 16  PromoInterval              844392 non-null  object        \n",
            "dtypes: datetime64[ns](1), int64(12), object(4)\n",
            "memory usage: 116.0+ MB\n"
          ]
        }
      ],
      "source": [
        "Merged_Data.info()"
      ]
    },
    {
      "cell_type": "markdown",
      "metadata": {
        "id": "R_TnkoB576eC"
      },
      "source": [
        "###**Univariate Analysis**"
      ]
    },
    {
      "cell_type": "markdown",
      "metadata": {
        "id": "mVpp6PMe70Ko"
      },
      "source": [
        "####**Chart-1: Checking frequency distribution of continous features-Sales, CompetitionDistance, Customers:**"
      ]
    },
    {
      "cell_type": "code",
      "execution_count": 44,
      "metadata": {
        "id": "0NeI7B7Wlq-C",
        "colab": {
          "base_uri": "https://localhost:8080/",
          "height": 1000
        },
        "outputId": "9b1284e9-3607-4228-f664-5240bfc6a3ed"
      },
      "outputs": [
        {
          "output_type": "display_data",
          "data": {
            "text/plain": [
              "<Figure size 1000x1500 with 3 Axes>"
            ],
            "image/png": "[encoded data removed]"
          },
          "metadata": {}
        }
      ],
      "source": [
        "# create a figure with 3 subplots\n",
        "fig, axes = plt.subplots(nrows=3, ncols=1, figsize=(10, 15))\n",
        "\n",
        "# plot the first subplot (Sales vs Frequency)\n",
        "sns.kdeplot(x=Merged_Data[\"Sales\"], color=\"Pink\", shade=True, ax=axes[0])\n",
        "axes[0].set_xlabel(\"Sales\")\n",
        "axes[0].set_ylabel(\"Frequency\")\n",
        "axes[0].set_title('Density distribution of Sales', size=15)\n",
        "\n",
        "# plot the second subplot (CompetitionDistance vs Frequency)\n",
        "sns.kdeplot(x=Merged_Data[\"CompetitionDistance\"], color=\"Orange\", shade=True, ax=axes[1])\n",
        "axes[1].set_xlabel(\"CompetitionDistance\")\n",
        "axes[1].set_ylabel(\"Frequency\")\n",
        "axes[1].set_title('Density distribution of CompetitionDistance', size=15)\n",
        "\n",
        "# plot the third subplot (Customers vs Frequency)\n",
        "sns.kdeplot(x=Merged_Data[\"Customers\"], color=\"Yellow\", shade=True, ax=axes[2])\n",
        "axes[2].set_xlabel(\"Customers\")\n",
        "axes[2].set_ylabel(\"Frequency\")\n",
        "axes[2].set_title('Density distribution of Customers', size=15)\n",
        "\n",
        "# adjust spacing between subplots\n",
        "plt.tight_layout()\n",
        "\n",
        "# display the figure\n",
        "plt.show()\n",
        "\n"
      ]
    },
    {
      "cell_type": "markdown",
      "metadata": {
        "id": "ttEO4E339YNU"
      },
      "source": [
        "##### 1. Why did you pick the specific chart?"
      ]
    },
    {
      "cell_type": "markdown",
      "metadata": {
        "id": "XQbvQrKs9YNV"
      },
      "source": [
        "We picked this chart as it shows whether the observations are high or low and also whether they are concentrated in one area or spread out across the entire scale for continous features only."
      ]
    },
    {
      "cell_type": "markdown",
      "metadata": {
        "id": "51ABtV_59YNV"
      },
      "source": [
        "##### 2. What is/are the insight(s) found from the chart?"
      ]
    },
    {
      "cell_type": "markdown",
      "metadata": {
        "id": "OMYlN3369YNV"
      },
      "source": [
        "1. Avarage Sales value is under 5000 and graph is rightly skewed, which shows most of the stores are open where the middle class resides.\n",
        "\n",
        "2. We can clearly observe that most of the stores have their competition within \n",
        "   5Km range which indicates mostly competiting stores are located nearby to   each other.\n",
        "\n",
        "3. Avarage number of customer visiting stores is 700."
      ]
    },
    {
      "cell_type": "markdown",
      "metadata": {
        "id": "Ngf-Oxcw9YNV"
      },
      "source": [
        "##### 3. Will the gained insights help creating a positive business impact? \n",
        "Are there any insights that lead to negative growth? Justify with specific reason."
      ]
    },
    {
      "cell_type": "markdown",
      "metadata": {
        "id": "8EGuQaNM9YNW"
      },
      "source": [
        "1. As we can see most of the sales are under 1000, to expand their business and sales they should **open their stores in posh area** or where the upper class lives.\n",
        "\n",
        "2. We plotted frequency distribution graph for sales, customer and competition distance with the help of which we came to know that many competiting stores are densly located. so, business should **plan different strategies** to sustain in the competitive market."
      ]
    },
    {
      "cell_type": "markdown",
      "metadata": {
        "id": "xfxs6IUL-Ftx"
      },
      "source": [
        "####**Chart-2: Checking frequency distribution of continous features-SchoolHoliday, Promo, Promo2:**"
      ]
    },
    {
      "cell_type": "code",
      "execution_count": 45,
      "metadata": {
        "id": "gfJ3SMk38Mcf",
        "colab": {
          "base_uri": "https://localhost:8080/",
          "height": 1000
        },
        "outputId": "a0e0c80e-4c8b-4228-dd97-114405d31ee3"
      },
      "outputs": [
        {
          "output_type": "display_data",
          "data": {
            "text/plain": [
              "<Figure size 600x600 with 1 Axes>"
            ],
            "image/png": "[encoded data removed]"
          },
          "metadata": {}
        },
        {
          "output_type": "display_data",
          "data": {
            "text/plain": [
              "<Figure size 800x600 with 1 Axes>"
            ],
            "image/png": "[encoded data removed]"
          },
          "metadata": {}
        },
        {
          "output_type": "display_data",
          "data": {
            "text/plain": [
              "<Figure size 800x600 with 1 Axes>"
            ],
            "image/png": "[encoded data removed]"
          },
          "metadata": {}
        }
      ],
      "source": [
        "# Check distribution for some discrete features (SchoolHoliday, Promo, Promo2)\n",
        "\n",
        "# Plot a bar chart for SchoolHoliday\n",
        "plt.figure(figsize=(6,6))\n",
        "labels = ['Not SchoolHoliday', 'SchoolHoliday']\n",
        "sizes = Merged_Data.SchoolHoliday.value_counts()\n",
        "colors = ['Red', \"Orange\"]\n",
        "explode = (0.2, 0.0)\n",
        "plt.pie(sizes, explode=explode, labels=labels, colors=colors,\n",
        "        autopct='%1.1f%%', shadow=True)\n",
        "plt.axis('equal')\n",
        "plt.title('Percentage of School Holiday', fontsize=20)\n",
        "plt.legend(labels, loc='best')\n",
        "plt.show()\n",
        "\n",
        "# Plot a pie chart for Promo\n",
        "promo_count = Merged_Data.Promo.value_counts()\n",
        "promo_labels = ['Promo', 'No Promo']\n",
        "promo_colors = ['#ff6666','#99ff99']\n",
        "plt.figure(figsize=(8,6))\n",
        "plt.pie(promo_count, labels=promo_labels, colors=promo_colors, autopct='%1.1f%%', startangle=90)\n",
        "plt.axis('equal')\n",
        "plt.title('Percentage of Promoted Stores')\n",
        "plt.show()\n",
        "\n",
        "# Plot a pie chart for Promo2\n",
        "promo2_count = Merged_Data.Promo2.value_counts()\n",
        "promo2_labels = ['Promo2', 'No Promo2']\n",
        "promo2_colors = ['#66b3ff','#99ff99']\n",
        "plt.figure(figsize=(8,6))\n",
        "plt.pie(promo2_count, labels=promo2_labels, colors=promo2_colors, autopct='%1.1f%%', startangle=90)\n",
        "plt.axis('equal')\n",
        "plt.title('Percentage of Stores with Continuous Promotion')\n",
        "plt.show()"
      ]
    },
    {
      "cell_type": "markdown",
      "metadata": {
        "id": "n88AcaZf_MyC"
      },
      "source": [
        "##### 1. Why did you pick the specific chart?"
      ]
    },
    {
      "cell_type": "markdown",
      "metadata": {
        "id": "0B3UL_tr_MyD"
      },
      "source": [
        "We choose the pie chart as it represents the contribution of each part of the data to a whole where the arc size of each slice is directly proportional to the contribution of that part. "
      ]
    },
    {
      "cell_type": "markdown",
      "metadata": {
        "id": "LTCxqIGj_MyD"
      },
      "source": [
        "##### 2. What is/are the insight(s) found from the chart?"
      ]
    },
    {
      "cell_type": "markdown",
      "metadata": {
        "id": "vf6HBiX__MyD"
      },
      "source": [
        "1.From first pie chart We can say that market will observe approx 20% of school Holidays.\n",
        "\n",
        "2.We see that 44.6% of stores are into promotions and 55.4% of stores are not into promotions .The reason that more stores are not into promotions may be they don't have the enough budget or they may not see enough need for promotions.\n",
        "\n",
        "3.From Third chart we can infer that there is almost equal percentage of stores getting promoted and the one which are not getting promoted."
      ]
    },
    {
      "cell_type": "markdown",
      "metadata": {
        "id": "TlgNpj-C_MyD"
      },
      "source": [
        "##### 3. Will the gained insights help creating a positive business impact? \n",
        "Are there any insights that lead to negative growth? Justify with specific reason."
      ]
    },
    {
      "cell_type": "markdown",
      "metadata": {
        "id": "bNepAll3_MyD"
      },
      "source": [
        "1. From above pie chart we understood that percentage of stores getting promoted is more than non promoting stores but sales are positively correlated to promo meaning **if stores are getting promoted sale is increasing**. So, business should try promoting the stores to increase the revenue.\n",
        "2. Later we will see if their is any impact of School holiday on sale on sale."
      ]
    },
    {
      "cell_type": "markdown",
      "metadata": {
        "id": "qj8NkR31KMrR"
      },
      "source": [
        "####**Chart-3: Checking frequency distribution of Storetype, Assortment, Stateholiday and Promointervals:**"
      ]
    },
    {
      "cell_type": "code",
      "execution_count": 46,
      "metadata": {
        "id": "x4ytEC423KKZ",
        "colab": {
          "base_uri": "https://localhost:8080/",
          "height": 850
        },
        "outputId": "44bc5bea-7fcb-4050-a903-d4aacdb49137"
      },
      "outputs": [
        {
          "output_type": "display_data",
          "data": {
            "text/plain": [
              "<Figure size 1300x1000 with 4 Axes>"
            ],
            "image/png": "[encoded data removed]"
          },
          "metadata": {}
        }
      ],
      "source": [
        "# Store type and assortment \n",
        "plt.figure(figsize=(13,10))\n",
        "\n",
        "plt.subplot(2,2,1)\n",
        "ax = sns.countplot(x='StoreType', data=Merged_Data)\n",
        "ax.bar_label(ax.containers[0])\n",
        "\n",
        "plt.subplot(2,2,2)\n",
        "ax = sns.countplot(x='Assortment', data=Merged_Data)\n",
        "ax.bar_label(ax.containers[0])\n",
        "\n",
        "plt.subplot(2,2,3)\n",
        "ax = sns.countplot(x='StateHoliday', data=Merged_Data)\n",
        "ax.bar_label(ax.containers[0])\n",
        "\n",
        "plt.subplot(2,2,4)\n",
        "ax = sns.countplot(x='PromoInterval', data=Merged_Data)\n",
        "ax.bar_label(ax.containers[0])\n",
        "\n",
        "plt.show()\n"
      ]
    },
    {
      "cell_type": "markdown",
      "metadata": {
        "id": "8xUi_doS9gkp"
      },
      "source": [
        "##### 1. Why did you pick the specific chart?"
      ]
    },
    {
      "cell_type": "markdown",
      "metadata": {
        "id": "6HVU9mW19gkq"
      },
      "source": [
        "We plotted above graph to know the distribution of different type of stores,assortment,state holiday and promointerval in the dataset."
      ]
    },
    {
      "cell_type": "markdown",
      "metadata": {
        "id": "gfPfcHHh9gkq"
      },
      "source": [
        "##### 2. What is/are the insight(s) found from the chart?"
      ]
    },
    {
      "cell_type": "markdown",
      "metadata": {
        "id": "_4hjI-e89gkq"
      },
      "source": [
        "1. Store **Type \"a\"** is most common and **Store Type \"b\"** is rare in the dataset . \n",
        "\n",
        "2. **Most of the stores have assortment \"a\" and assortment \"b\" is very rare** .\n",
        "Since there is significant diffference in the number of occurrence of different store types and assortments , it could indicate that certain store types and assortments are more successful or profitable than others .It could also suggest that **certain store types and assortments are more suited to certain types of stores or locations.**\n",
        "\n",
        "3. We can infer that many stores are planning to get prmoted in first quarter of promointerval while number of stores getting promoted in successive quartes is **decreasing gradually**."
      ]
    },
    {
      "cell_type": "markdown",
      "metadata": {
        "id": "IHt7zeVv9gkr"
      },
      "source": [
        "##### 3. Will the gained insights help creating a positive business impact? \n",
        "Are there any insights that lead to negative growth? Justify with specific reason."
      ]
    },
    {
      "cell_type": "markdown",
      "metadata": {
        "id": "HwNzkpE59gkr"
      },
      "source": [
        "<!-- Since store type 'a','c' and 'd' are generating similar sales and lower than store type 'b', they can follow the business strategies, marketing tactics of store type 'b'. -->\n",
        "\n",
        "As we can see that store type_a , assortment_a is highest and storetype_b , assortment_b is lowest in number. So it's quite intersting to see weather these assortments and stores will also get the **heighest sale in bivariate analysis also!!!**"
      ]
    },
    {
      "cell_type": "markdown",
      "metadata": {
        "id": "ZPrKcB-YX8u7"
      },
      "source": [
        "####**Chart-4: Checking frequency distribution of Promo2:**"
      ]
    },
    {
      "cell_type": "code",
      "execution_count": 47,
      "metadata": {
        "id": "s3w7JJ1K1B9g",
        "colab": {
          "base_uri": "https://localhost:8080/",
          "height": 684
        },
        "outputId": "1c2459bb-3661-4599-fb51-6ad00f7bd785"
      },
      "outputs": [
        {
          "output_type": "display_data",
          "data": {
            "text/plain": [
              "<Figure size 1600x800 with 1 Axes>"
            ],
            "image/png": "[encoded data removed]"
          },
          "metadata": {}
        }
      ],
      "source": [
        "# Promo 2 since weeks\n",
        "plt.figure(figsize=(16,8))\n",
        "\n",
        "ax = sns.countplot(x='Promo2SinceWeek', data=Merged_Data)\n",
        "ax.bar_label(ax.containers[0])\n",
        "\n",
        "plt.show()"
      ]
    },
    {
      "cell_type": "markdown",
      "metadata": {
        "id": "xHqazOjX9ibV"
      },
      "source": [
        "##### 1. Why did you pick the specific chart?"
      ]
    },
    {
      "cell_type": "markdown",
      "metadata": {
        "id": "qpcBBjAi9ibW"
      },
      "source": [
        "To see since how many weeks the stores have been praticipating in Promo2 ."
      ]
    },
    {
      "cell_type": "markdown",
      "metadata": {
        "id": "dfYaL-_Q9ibW"
      },
      "source": [
        "##### 2. What is/are the insight(s) found from the chart?"
      ]
    },
    {
      "cell_type": "markdown",
      "metadata": {
        "id": "ksHG6sW49ibW"
      },
      "source": [
        "\n",
        "In this countplot, we can see that 0 has the greatest count . 0 indicates the stores are not participating in promo2  and rest all count indicate the numbers of count of stores , since how many week they have been participating in promo 2.One possibility that stores are not continuing participating in the promo might be **customers are less responsive to a second promotion**, as they may have already taken advantage of a similar promotion earlier. Another possibility is that the store may not have invested enough in promoting the promotion to customers, resulting in lower awareness and fewer sales."
      ]
    },
    {
      "cell_type": "markdown",
      "metadata": {
        "id": "wTg5rBh-9ibW"
      },
      "source": [
        "##### 3. Will the gained insights help creating a positive business impact? \n",
        "Are there any insights that lead to negative growth? Justify with specific reason."
      ]
    },
    {
      "cell_type": "markdown",
      "metadata": {
        "id": "IooTm7ZP9ibW"
      },
      "source": [
        "From above graph we can infer that many stores are not continuing participating in the promo which indicates the **promotions are not meeting the required targets.**"
      ]
    },
    {
      "cell_type": "markdown",
      "metadata": {
        "id": "iJKglDfGlQXV"
      },
      "source": [
        "###**Bivariate Analysis**"
      ]
    },
    {
      "cell_type": "markdown",
      "metadata": {
        "id": "g_vsHadCNFyi"
      },
      "source": [
        "#### **Chart-1: Sales vs DayOfWeek**"
      ]
    },
    {
      "cell_type": "code",
      "execution_count": null,
      "metadata": {
        "id": "aiDzQgdj_quE"
      },
      "outputs": [],
      "source": [
        "# Sales Vs DayOfWeek\n",
        "plt.figure(figsize=(13,7))\n",
        "plots=sns.barplot(x=df['DayOfWeek'],y=df['Sales'],edgecolor='black')\n",
        "for bar in plots.patches:\n",
        "    plots.annotate(format(bar.get_height(), '.2f'),\n",
        "                   (bar.get_x() + bar.get_width() / 2,\n",
        "                    bar.get_height()), ha='center', va='center',\n",
        "                   size=15, xytext=(0, 8),\n",
        "                   textcoords='offset points')\n",
        "plt.show()"
      ]
    },
    {
      "cell_type": "markdown",
      "metadata": {
        "id": "PvRcWmYT9kpj"
      },
      "source": [
        "##### 1. Why did you pick the specific chart?"
      ]
    },
    {
      "cell_type": "markdown",
      "metadata": {
        "id": "OdTAYCLE9kpk"
      },
      "source": [
        "We used **bar plots** because they are a useful tool for visualizing and understanding **categorical data**, and can be an effective way to communicate information to the wide audience."
      ]
    },
    {
      "cell_type": "markdown",
      "metadata": {
        "id": "co0viltN9kpk"
      },
      "source": [
        "##### 2. What is/are the insight(s) found from the chart?"
      ]
    },
    {
      "cell_type": "markdown",
      "metadata": {
        "id": "xTrxS7jX9kpk"
      },
      "source": [
        "Day 1 and day 7 witness the highest sale indicating they are probably days falling on the weekend. Day 2 to day 6 generate medium to low sales indicating they are probably weekdays where customer footfall is low."
      ]
    },
    {
      "cell_type": "markdown",
      "metadata": {
        "id": "LTFHjxCT9kpk"
      },
      "source": [
        "##### 3. Will the gained insights help creating a positive business impact? \n",
        "Are there any insights that lead to negative growth? Justify with specific reason."
      ]
    },
    {
      "cell_type": "markdown",
      "metadata": {
        "id": "UBrchfjx9kpk"
      },
      "source": [
        "1. Day 1 and 7 have good number of sales so we can **hire more staff specially for these days** and delivery boys for more revenue.\n",
        "2. Since only 2 days are witnessing good sales, store can **target remaining 5 days in a week to milk more revenue**. It can run exciting offers and attract more customers on weekdays to generate more revenue."
      ]
    },
    {
      "cell_type": "markdown",
      "metadata": {
        "id": "_dcBSrgSLuja"
      },
      "source": [
        "#### **Chart-2: Sales vs Year**"
      ]
    },
    {
      "cell_type": "code",
      "execution_count": null,
      "metadata": {
        "id": "q9Yi0afIBJk5"
      },
      "outputs": [],
      "source": [
        "# Sales vs Year\n",
        "plt.figure(figsize=(7,7))\n",
        "plots=sns.barplot(x=df[\"Date\"].dt.year,y=df['Sales'],edgecolor='black')\n",
        "for bar in plots.patches:\n",
        "    plots.annotate(format(bar.get_height(), '.2f'),\n",
        "                   (bar.get_x() + bar.get_width() / 2,\n",
        "                    bar.get_height()), ha='center', va='center',\n",
        "                   size=15, xytext=(0, 8),\n",
        "                   textcoords='offset points')\n",
        "\n",
        "plt.show()"
      ]
    },
    {
      "cell_type": "markdown",
      "metadata": {
        "id": "2BcWmX6X9lmo"
      },
      "source": [
        "##### 1. Why did you pick the specific chart?"
      ]
    },
    {
      "cell_type": "markdown",
      "metadata": {
        "id": "c7dXc-qg9lmo"
      },
      "source": [
        "We used this plot to visualize the distribution of sales in 2013, 2014 and 2015. Count plots can help us understand how the values of a variable are distributed within the dataset. \n"
      ]
    },
    {
      "cell_type": "markdown",
      "metadata": {
        "id": "z4XSdbm09lmo"
      },
      "source": [
        "##### 2. What is/are the insight(s) found from the chart?"
      ]
    },
    {
      "cell_type": "markdown",
      "metadata": {
        "id": "hDhGBUoT9lmp"
      },
      "source": [
        "For any business, year-on-year sales growth is a good parameter to access the store growth. Here we can observe that even though sales are increasing year-on-year, **sales growth is not even 10%**. So the owners need to put extra efforts to increase the yearly sales.\n",
        "\n"
      ]
    },
    {
      "cell_type": "markdown",
      "metadata": {
        "id": "bnfviIHk9lmp"
      },
      "source": [
        "##### 3. Will the gained insights help creating a positive business impact? \n",
        "Are there any insights that lead to negative growth? Justify with specific reason."
      ]
    },
    {
      "cell_type": "markdown",
      "metadata": {
        "id": "5KNBFzBN9lmp"
      },
      "source": [
        "Yes. The insights from this graph are actually very important for the owners. Since the growth is not at very commendable pace, they need to **target more customers and bring some changes in the operations.**"
      ]
    },
    {
      "cell_type": "markdown",
      "metadata": {
        "id": "A_-l0tuqMDAa"
      },
      "source": [
        "#### **Chart-3: Sales vs Month**"
      ]
    },
    {
      "cell_type": "code",
      "execution_count": null,
      "metadata": {
        "id": "L5LdIVVfDbWB"
      },
      "outputs": [],
      "source": [
        "# Month vs sales\n",
        "plt.figure(figsize=(18,7))\n",
        "plots=sns.barplot(x=df['Date'].dt.month,y=df['Sales'],edgecolor='black')\n",
        "for bar in plots.patches:\n",
        "    plots.annotate(format(bar.get_height(), '.2f'),\n",
        "                   (bar.get_x() + bar.get_width() / 2,\n",
        "                    bar.get_height()), ha='center', va='center',\n",
        "                   size=15, xytext=(0, 8),\n",
        "                   textcoords='offset points')\n",
        "plt.xlabel(\"Month\")\n",
        "\n",
        "plt.show()"
      ]
    },
    {
      "cell_type": "markdown",
      "metadata": {
        "id": "knwWoXm89nCc"
      },
      "source": [
        "##### 1. Why did you pick the specific chart?"
      ]
    },
    {
      "cell_type": "markdown",
      "metadata": {
        "id": "SruAeTe09nCc"
      },
      "source": [
        "To know the patterns or trends in the data, such as a **peak in activity or sales during a particular month of the year.**"
      ]
    },
    {
      "cell_type": "markdown",
      "metadata": {
        "id": "XpeGd7lv9nCd"
      },
      "source": [
        "##### 2. What is/are the insight(s) found from the chart?"
      ]
    },
    {
      "cell_type": "markdown",
      "metadata": {
        "id": "1gueImTL9nCd"
      },
      "source": [
        "The countplot highlights that **December being a festive month** attracts more sale than the rest of the months. Also, November has slightly more sales than other months. This could be due to the **'Black Friday'** sale which is very popular across the globe. As Rossmann Stores deals in health and beauty products, it can be guessed that November and December sales are due to the celebratory nature of people who love to buy beauty/health products leading to the sudden increase in sales."
      ]
    },
    {
      "cell_type": "markdown",
      "metadata": {
        "id": "zP_2w-ok9nCd"
      },
      "source": [
        "##### 3. Will the gained insights help creating a positive business impact? \n",
        "Are there any insights that lead to negative growth? Justify with specific reason."
      ]
    },
    {
      "cell_type": "markdown",
      "metadata": {
        "id": "HAF0NeXq9nCd"
      },
      "source": [
        "Yes, definitely these insights create a positive business impact as business owners will try to **keep more goods to cater with the business needs** and also they can increase the revenue by keeping **stores open even on weekends or holidays** as customers are aiming to buy more in this period of month."
      ]
    },
    {
      "cell_type": "markdown",
      "metadata": {
        "id": "jEbSHOg-NlS6"
      },
      "source": [
        "#### **Chart-4: Sales vs Customer**"
      ]
    },
    {
      "cell_type": "code",
      "execution_count": null,
      "metadata": {
        "id": "F3RKQtieLWsa"
      },
      "outputs": [],
      "source": [
        "# Sale Vs Customer\n",
        "plt.figure(figsize=(7,7))\n",
        "sns.scatterplot(df['Customers'],df['Sales'])"
      ]
    },
    {
      "cell_type": "markdown",
      "metadata": {
        "id": "wEHiaYtL9out"
      },
      "source": [
        "##### 1. Why did you pick the specific chart?"
      ]
    },
    {
      "cell_type": "markdown",
      "metadata": {
        "id": "IEDhJ9hk9out"
      },
      "source": [
        "We chose scatter plot because we wanted to plot the relationship between the number of customers visiting the store and the total sales.They are useful for identifying outliers in the data, as well as to determine the correlation between two variables,and to verify the linear trend of our dataset."
      ]
    },
    {
      "cell_type": "markdown",
      "metadata": {
        "id": "DfNfVXD49out"
      },
      "source": [
        "##### 2. What is/are the insight(s) found from the chart?"
      ]
    },
    {
      "cell_type": "markdown",
      "metadata": {
        "id": "5IcdXmI29out"
      },
      "source": [
        "This above scatterplot show a **positive correlation between 'Sales' and 'Customers'**. As the number of customers increases, the sales also tend to increase. We understood from the above trend that our data shows linear trend between these two variables - customers and sales."
      ]
    },
    {
      "cell_type": "markdown",
      "metadata": {
        "id": "K3bni5wZ9ouu"
      },
      "source": [
        "##### 3. Will the gained insights help creating a positive business impact? \n",
        "Are there any insights that lead to negative growth? Justify with specific reason."
      ]
    },
    {
      "cell_type": "markdown",
      "metadata": {
        "id": "oj_9wVqS9ouu"
      },
      "source": [
        "Customers and sales are directly proportional to each other and are highly correlated. It can help businesses to promote their strategies using **marketing campaigns, advertisements** to attract more customers ultimately shooting up the sales."
      ]
    },
    {
      "cell_type": "markdown",
      "metadata": {
        "id": "G4J2LF_uNwkT"
      },
      "source": [
        "#### **Chart-5: Sales vs Promo**"
      ]
    },
    {
      "cell_type": "code",
      "execution_count": null,
      "metadata": {
        "id": "fzLuky_cNi0f"
      },
      "outputs": [],
      "source": [
        "# Sales vs Promo\n",
        "plt.figure(figsize=(7,7))\n",
        "plots=sns.barplot(x=df['Promo'],y=df['Sales'],edgecolor='black')\n",
        "for bar in plots.patches:\n",
        "    plots.annotate(format(bar.get_height(), '.2f'),\n",
        "                   (bar.get_x() + bar.get_width() / 2,\n",
        "                    bar.get_height()), ha='center', va='center',\n",
        "                   size=15, xytext=(0, 8),\n",
        "                   textcoords='offset points')\n",
        "plt.show()"
      ]
    },
    {
      "cell_type": "markdown",
      "metadata": {
        "id": "jOoiu2Vt9pnD"
      },
      "source": [
        "##### 1. Why did you pick the specific chart?"
      ]
    },
    {
      "cell_type": "markdown",
      "metadata": {
        "id": "Y-N9gJkE9pnE"
      },
      "source": [
        "To know the count of how many sales were made at stores that were running promotions and how many were made at stores that were not running promotions. We used bar plots because they are a useful tool for visualizing and understanding categorical data, and can be an effective way to communicate information to the wide audience."
      ]
    },
    {
      "cell_type": "markdown",
      "metadata": {
        "id": "_RuezODA9pnE"
      },
      "source": [
        "##### 2. What is/are the insight(s) found from the chart?"
      ]
    },
    {
      "cell_type": "markdown",
      "metadata": {
        "id": "W5HMmNku9pnE"
      },
      "source": [
        "From the above plot we see the **effectiveness of promotions on increasing sales**. So we can infer that as the stores are getting promoted, sales are increasing on large basis showing positive correlation between promo and sales."
      ]
    },
    {
      "cell_type": "markdown",
      "metadata": {
        "id": "rnXB5wAG9pnF"
      },
      "source": [
        "##### 3. Will the gained insights help creating a positive business impact? \n",
        "Are there any insights that lead to negative growth? Justify with specific reason."
      ]
    },
    {
      "cell_type": "markdown",
      "metadata": {
        "id": "uMH6wAGZ9pnF"
      },
      "source": [
        "Business owners should try to **promote the stores** to sustain in the market eventually resulting increment in the sales amount."
      ]
    },
    {
      "cell_type": "markdown",
      "metadata": {
        "id": "KVniuyyoN1pT"
      },
      "source": [
        "#### **Chart-6: Sales vs StateHoliday**"
      ]
    },
    {
      "cell_type": "code",
      "execution_count": null,
      "metadata": {
        "id": "F3fBcaWpPeOa"
      },
      "outputs": [],
      "source": [
        "# Sales vs StateHoliday\n",
        "plt.figure(figsize=(7,7))\n",
        "plots=sns.barplot(x=df['StateHoliday'],y=df['Sales'],edgecolor='black')\n",
        "for bar in plots.patches:\n",
        "    plots.annotate(format(bar.get_height(), '.2f'),\n",
        "                   (bar.get_x() + bar.get_width() / 2,\n",
        "                    bar.get_height()), ha='center', va='center',\n",
        "                   size=15, xytext=(0, 8),\n",
        "                   textcoords='offset points')\n",
        "plt.show()"
      ]
    },
    {
      "cell_type": "markdown",
      "metadata": {
        "id": "axGuPNzL9qSX"
      },
      "source": [
        "##### 1. Why did you pick the specific chart?"
      ]
    },
    {
      "cell_type": "markdown",
      "metadata": {
        "id": "91T0iKm09qSY"
      },
      "source": [
        "To know the number of sales for various State Holidays ."
      ]
    },
    {
      "cell_type": "markdown",
      "metadata": {
        "id": "jrEKVqdp9qSY"
      },
      "source": [
        "##### 2. What is/are the insight(s) found from the chart?"
      ]
    },
    {
      "cell_type": "markdown",
      "metadata": {
        "id": "1eNSd_NN9qSY"
      },
      "source": [
        "From the above plot, we observe that sales are highest for state holiday 'B' followed by state holiday 'C'. One interesting insight here is **sales are comparitively low during normal days**(i.e with no state holiday).The factors that contribute to higher sales on these holidays could be increased consumer spending, special promotions or events.\n"
      ]
    },
    {
      "cell_type": "markdown",
      "metadata": {
        "id": "QMGNCKL99qSY"
      },
      "source": [
        "##### 3. Will the gained insights help creating a positive business impact? \n",
        "Are there any insights that lead to negative growth? Justify with specific reason."
      ]
    },
    {
      "cell_type": "markdown",
      "metadata": {
        "id": "XEc8qa3H9qSY"
      },
      "source": [
        "The business can create special offers or bundle products to increase the sales during the religious festivals."
      ]
    },
    {
      "cell_type": "markdown",
      "metadata": {
        "id": "SmGL1RMWN5nz"
      },
      "source": [
        "#### **Chart-7: Sales vs SchoolHoliday**"
      ]
    },
    {
      "cell_type": "code",
      "execution_count": null,
      "metadata": {
        "id": "73R-QI74N4EP"
      },
      "outputs": [],
      "source": [
        "# Sales vs SchoolHoliday\n",
        "\n",
        "plt.figure(figsize=(7,7))\n",
        "\n",
        "plots=sns.barplot(x=df['SchoolHoliday'],y=df['Sales'],edgecolor='black')\n",
        "for bar in plots.patches:\n",
        "    plots.annotate(format(bar.get_height(), '.2f'),\n",
        "                   (bar.get_x() + bar.get_width() / 2,\n",
        "                    bar.get_height()), ha='center', va='center',\n",
        "                   size=15, xytext=(0, 8),\n",
        "                   textcoords='offset points')    \n",
        "plt.show()"
      ]
    },
    {
      "cell_type": "markdown",
      "metadata": {
        "id": "YRTUVPJG9rEH"
      },
      "source": [
        "##### 1. Why did you pick the specific chart?"
      ]
    },
    {
      "cell_type": "markdown",
      "metadata": {
        "id": "TZXxOf2h9rEI"
      },
      "source": [
        "To know the count of how many sales were made at stores on school holiday and on non-school holiday ."
      ]
    },
    {
      "cell_type": "markdown",
      "metadata": {
        "id": "5QykKAgV9rEI"
      },
      "source": [
        "##### 2. What is/are the insight(s) found from the chart?"
      ]
    },
    {
      "cell_type": "markdown",
      "metadata": {
        "id": "BQoHtn2G9rEI"
      },
      "source": [
        "We can see there is **not much difference in sales**. However,sales is more on school holidays . It is possible that school holidays are more likely to be associated with families going on vacation or parents taking time off work to spend with their children, which could lead to increase in consumer spendings. "
      ]
    },
    {
      "cell_type": "markdown",
      "metadata": {
        "id": "5rLAAgCT9rEI"
      },
      "source": [
        "##### 3. Will the gained insights help creating a positive business impact? \n",
        "Are there any insights that lead to negative growth? Justify with specific reason."
      ]
    },
    {
      "cell_type": "markdown",
      "metadata": {
        "id": "2HZroToIwoHT"
      },
      "source": [
        "As we can see from the graph, it is not making much difference whether there is school holiday or not. Still, businesses can target school holidays and run more promotional offers."
      ]
    },
    {
      "cell_type": "markdown",
      "metadata": {
        "id": "pJx8NhQ1N9Wq"
      },
      "source": [
        "#### **Chart-8: Sales vs StoreType**"
      ]
    },
    {
      "cell_type": "code",
      "execution_count": null,
      "metadata": {
        "id": "cTzZa-2mQDVT"
      },
      "outputs": [],
      "source": [
        "# Sales vs StoreType\n",
        "plt.figure(figsize=(7,7))\n",
        "plots=sns.barplot(x=df['StoreType'],y=df['Sales'],edgecolor='black')\n",
        "for bar in plots.patches:\n",
        "    plots.annotate(format(bar.get_height(), '.2f'),\n",
        "                   (bar.get_x() + bar.get_width() / 2,\n",
        "                    bar.get_height()), ha='center', va='center',\n",
        "                   size=15, xytext=(0, 8),\n",
        "                   textcoords='offset points')\n",
        "plt.show()"
      ]
    },
    {
      "cell_type": "markdown",
      "metadata": {
        "id": "rK9GhTEC9rwr"
      },
      "source": [
        "##### 1. Why did you pick the specific chart?"
      ]
    },
    {
      "cell_type": "markdown",
      "metadata": {
        "id": "cVxVyL1P9rwr"
      },
      "source": [
        "To know which kind of store is able to generate maximum profit."
      ]
    },
    {
      "cell_type": "markdown",
      "metadata": {
        "id": "YKl_kFh89rws"
      },
      "source": [
        "##### 2. What is/are the insight(s) found from the chart?"
      ]
    },
    {
      "cell_type": "markdown",
      "metadata": {
        "id": "Uv9e4Msr9rws"
      },
      "source": [
        "1. Sales for the store type b is the highest . **Store type B might be located in a more affluent or high-traffic area**, which would increase the number of potential customers. Store type B may have a more favorable layout, which makes it more attractive to customers and makes it easier for them to find the products they want, resulting in more sales.\n",
        "\n",
        "2. Earlier we have drawn the univeriate graph of Store type to know which type of store are more in numbers, and we found that store type a,c,d are more but this is not the case with the sales even though **storetype_b are less still they are making more profit**.\n",
        "\n",
        "3. It might be the case that store type_b contain **costly**, **luxerious items**."
      ]
    },
    {
      "cell_type": "markdown",
      "metadata": {
        "id": "IrcnaWDb9rws"
      },
      "source": [
        "##### 3. Will the gained insights help creating a positive business impact? \n",
        "Are there any insights that lead to negative growth? Justify with specific reason."
      ]
    },
    {
      "cell_type": "markdown",
      "metadata": {
        "id": "mhA0m4ck9rws"
      },
      "source": [
        "1. Since store type 'a','c' and 'd' are generating similar sales and lower than store type 'b', they can follow the business strategies, **marketing tactics of store type 'b'.**\n",
        "\n",
        "2. Company should **open stores of type_b** to gain more profit."
      ]
    },
    {
      "cell_type": "markdown",
      "metadata": {
        "id": "__YbND0KOA0R"
      },
      "source": [
        "#### **Chart-9: Sales vs Assortment**"
      ]
    },
    {
      "cell_type": "code",
      "execution_count": null,
      "metadata": {
        "id": "ypyJHCKCQam7"
      },
      "outputs": [],
      "source": [
        "# Sales vs Assortment\n",
        "plt.figure(figsize=(7,7))\n",
        "plots=sns.barplot(x=df['Assortment'],y=df['Sales'],edgecolor='black')\n",
        "for bar in plots.patches:\n",
        "    plots.annotate(format(bar.get_height(), '.2f'),\n",
        "                   (bar.get_x() + bar.get_width() / 2,\n",
        "                    bar.get_height()), ha='center', va='center',\n",
        "                   size=15, xytext=(0, 8),\n",
        "                   textcoords='offset points')\n",
        "plt.show()"
      ]
    },
    {
      "cell_type": "markdown",
      "metadata": {
        "id": "37Inlwy49sde"
      },
      "source": [
        "##### 1. Why did you pick the specific chart?"
      ]
    },
    {
      "cell_type": "markdown",
      "metadata": {
        "id": "__kRZVzS9sdf"
      },
      "source": [
        "To know the Sales for various Assortments or which assortment is beneficial for more profit."
      ]
    },
    {
      "cell_type": "markdown",
      "metadata": {
        "id": "Ay9-rgQ-9sdf"
      },
      "source": [
        "##### 2. What is/are the insight(s) found from the chart?"
      ]
    },
    {
      "cell_type": "markdown",
      "metadata": {
        "id": "xlYXqQb99sdf"
      },
      "source": [
        "1. Earlier we have seen that **assortment_B are less in numbers compared to a,b,c** but with the help of Bivariate graph we can see that assortment_B caters the maximum amount of sales.\n",
        "\n",
        "2. Sales are highest for the assortment b . This assortment may have a good mix of **products that are in high demand or that are unique to the store**, which would result in more sales.\n"
      ]
    },
    {
      "cell_type": "markdown",
      "metadata": {
        "id": "ttQwgfDa9sdf"
      },
      "source": [
        "##### 3. Will the gained insights help creating a positive business impact? \n",
        "Are there any insights that lead to negative growth? Justify with specific reason."
      ]
    },
    {
      "cell_type": "markdown",
      "metadata": {
        "id": "RdmAJe9m9sdf"
      },
      "source": [
        "Since sales are highest for assortment 'b', Rossman owners can **target more on this specific combination** and reduce the dependency on assortment 'a' and assortment 'c'. **This could surely be a cost effective move**."
      ]
    },
    {
      "cell_type": "markdown",
      "metadata": {
        "id": "gOEw_sjYOF2Z"
      },
      "source": [
        "#### **Chart-10: Sales vs CompetitionDistance**"
      ]
    },
    {
      "cell_type": "code",
      "execution_count": null,
      "metadata": {
        "id": "bUBbMmDMQ3r5"
      },
      "outputs": [],
      "source": [
        "# Sales Vs CompetitionDistance\n",
        "plt.figure(figsize=(7,7))\n",
        "sns.scatterplot(df['CompetitionDistance'],df['Sales'])"
      ]
    },
    {
      "cell_type": "markdown",
      "metadata": {
        "id": "nUkakYR79tiC"
      },
      "source": [
        "##### 1. Why did you pick the specific chart?"
      ]
    },
    {
      "cell_type": "markdown",
      "metadata": {
        "id": "YaJzuOj49tiC"
      },
      "source": [
        "To know the relationship between the sales and competition distance."
      ]
    },
    {
      "cell_type": "markdown",
      "metadata": {
        "id": "U8BdCLad9tiD"
      },
      "source": [
        "##### 2. What is/are the insight(s) found from the chart?"
      ]
    },
    {
      "cell_type": "markdown",
      "metadata": {
        "id": "ZyCaLIjd9tiD"
      },
      "source": [
        "From the above scatter plot it can be observed that mostly the competitor stores weren't that far from each other and the stores densely located near each other saw more sales."
      ]
    },
    {
      "cell_type": "markdown",
      "metadata": {
        "id": "2zaBphNm9tiD"
      },
      "source": [
        "##### 3. Will the gained insights help creating a positive business impact? \n",
        "Are there any insights that lead to negative growth? Justify with specific reason."
      ]
    },
    {
      "cell_type": "markdown",
      "metadata": {
        "id": "e0w7Cr7HJyEQ"
      },
      "source": [
        "As we can see sales are more for densely located stores.So, stores can continue providing exciting offers and services to attract customers to compete the market. "
      ]
    },
    {
      "cell_type": "markdown",
      "metadata": {
        "id": "mwP9fe0pONIV"
      },
      "source": [
        "#### **Chart-11: Sales vs CompetitionOpenSinceYear**"
      ]
    },
    {
      "cell_type": "code",
      "execution_count": null,
      "metadata": {
        "id": "2IKLaDgAgYv3"
      },
      "outputs": [],
      "source": [
        "# Sale Vs CompetitionOpenSinceYear\n",
        "plt.figure(figsize=(15,6))\n",
        "sns.pointplot(x= 'CompetitionOpenSinceYear', y= 'Sales', data=df)\n",
        "plt.title('Plot between Sales and Competition Open Since year')"
      ]
    },
    {
      "cell_type": "markdown",
      "metadata": {
        "id": "rqCN-zvK9v_a"
      },
      "source": [
        "##### 1. Why did you pick the specific chart?"
      ]
    },
    {
      "cell_type": "markdown",
      "metadata": {
        "id": "Ffecgiwy9v_a"
      },
      "source": [
        "To know the average sales for each year since a competitor opened near the store ."
      ]
    },
    {
      "cell_type": "markdown",
      "metadata": {
        "id": "yynWEvPH9v_a"
      },
      "source": [
        "##### 2. What is/are the insight(s) found from the chart?"
      ]
    },
    {
      "cell_type": "markdown",
      "metadata": {
        "id": "maBKivBB9v_b"
      },
      "source": [
        "From the Plot we can tell that Sales are high during the year 1900, as there are very few store were operated of Rossmann so there is less competition and sales are high. But as year pass on number of stores increased that means competition also increased and this leads to decline in the sales."
      ]
    },
    {
      "cell_type": "markdown",
      "metadata": {
        "id": "jZC8Ifpl9v_b"
      },
      "source": [
        "##### 3. Will the gained insights help creating a positive business impact? \n",
        "Are there any insights that lead to negative growth? Justify with specific reason."
      ]
    },
    {
      "cell_type": "markdown",
      "metadata": {
        "id": "BtF0gaNH9v_b"
      },
      "source": [
        "Since almost every subsequent year reports sudden drop/rise in the sales, owners need to work on their stockings and marketing tactics. The basic reason for this sudden change could be explored more deeply and a plausible solution to it can be reached."
      ]
    },
    {
      "cell_type": "markdown",
      "metadata": {
        "id": "cPjgYJ3cOP5E"
      },
      "source": [
        "#### **Chart-12: Sales vs Promo2**"
      ]
    },
    {
      "cell_type": "code",
      "execution_count": null,
      "metadata": {
        "id": "fwBMR4iiUBRm"
      },
      "outputs": [],
      "source": [
        "# Sales vs Promo2\n",
        "\n",
        "plt.figure(figsize=(7,7))\n",
        "\n",
        "plots=sns.barplot(x=df['Promo2'],y=df['Sales'],edgecolor='black')\n",
        "for bar in plots.patches:\n",
        "    plots.annotate(format(bar.get_height(), '.2f'),\n",
        "                   (bar.get_x() + bar.get_width() / 2,\n",
        "                    bar.get_height()), ha='center', va='center',\n",
        "                   size=15, xytext=(0, 8),\n",
        "                   textcoords='offset points')    \n",
        "plt.show()"
      ]
    },
    {
      "cell_type": "markdown",
      "metadata": {
        "id": "cHZUVJJC9xIK"
      },
      "source": [
        "##### 1. Why did you pick the specific chart?"
      ]
    },
    {
      "cell_type": "markdown",
      "metadata": {
        "id": "WK3Cue5-9xIK"
      },
      "source": [
        "To know the count of sales with presence and absence of promo2."
      ]
    },
    {
      "cell_type": "markdown",
      "metadata": {
        "id": "ZiLjVt9N9xIK"
      },
      "source": [
        "##### 2. What is/are the insight(s) found from the chart?"
      ]
    },
    {
      "cell_type": "markdown",
      "metadata": {
        "id": "Om8VT-Wp9xIK"
      },
      "source": [
        "The barplot shows that customers are slightly less responsive to the stores(i.e sales) that are running consecutive promotions. One possibility could be customers might have already taken advantage of a similar promotion earlier. Another reason could be store might not have invested enough in promoting the promotion to customers, resulting in lower awareness and fewer sales. Also, if the store is running same promotion again and again, it could have resulted into lower customer footfal and ultimately leadind to fewer sales."
      ]
    },
    {
      "cell_type": "markdown",
      "metadata": {
        "id": "Ar1frQH39xIK"
      },
      "source": [
        "##### 3. Will the gained insights help creating a positive business impact? \n",
        "Are there any insights that lead to negative growth? Justify with specific reason."
      ]
    },
    {
      "cell_type": "markdown",
      "metadata": {
        "id": "S2RY3BHz9xIK"
      },
      "source": [
        "Yes. The insights are indeed helpful as they are highlighting one of the most important thing about consecutive promotions. Clearly, such promotions are not enough to convert customers into buyers. The store needs to come up with more innovative and more rewardful solutions."
      ]
    },
    {
      "cell_type": "markdown",
      "metadata": {
        "id": "LsdK-sIqOXj9"
      },
      "source": [
        "#### **Chart-13: Sales vs Promo2SinceYear**"
      ]
    },
    {
      "cell_type": "code",
      "execution_count": null,
      "metadata": {
        "id": "lzE9TsHrU5oL"
      },
      "outputs": [],
      "source": [
        "# Sales vs Promo2SinceYear\n",
        "\n",
        "plt.figure(figsize=(10,7))\n",
        "\n",
        "plots=sns.barplot(x=df['Promo2SinceYear'],y=df['Sales'],edgecolor='black')\n",
        "for bar in plots.patches:\n",
        "    plots.annotate(format(bar.get_height(), '.2f'),\n",
        "                   (bar.get_x() + bar.get_width() / 2,\n",
        "                    bar.get_height()), ha='center', va='center',\n",
        "                   size=15, xytext=(0, 8),\n",
        "                   textcoords='offset points')    \n",
        "plt.show()"
      ]
    },
    {
      "cell_type": "markdown",
      "metadata": {
        "id": "apVAPQXm9yrY"
      },
      "source": [
        "##### 1. Why did you pick the specific chart?"
      ]
    },
    {
      "cell_type": "markdown",
      "metadata": {
        "id": "xh-lg0e39yrY"
      },
      "source": [
        "To know the sale count for various years since the promo2 started."
      ]
    },
    {
      "cell_type": "markdown",
      "metadata": {
        "id": "yRlN2-pN9yrY"
      },
      "source": [
        "##### 2. What is/are the insight(s) found from the chart?"
      ]
    },
    {
      "cell_type": "markdown",
      "metadata": {
        "id": "m9MViO5i9yrY"
      },
      "source": [
        "This barplot explains that sales were still the highest when the store wasn't running any consecutive promotional events. But in 2014, the sales were really shoot up and they are recorded as 2nd highest. Good quality products, better deals, shutdown of competitions etc could be the reasons."
      ]
    },
    {
      "cell_type": "markdown",
      "metadata": {
        "id": "km5ZRAml9yrY"
      },
      "source": [
        "##### 3. Will the gained insights help creating a positive business impact? \n",
        "Are there any insights that lead to negative growth? Justify with specific reason."
      ]
    },
    {
      "cell_type": "markdown",
      "metadata": {
        "id": "YRC4EaRv9yrZ"
      },
      "source": [
        "Yes. The insights are indeed helpful as they are highlighting one of the most important thing about consecutive promotions. Clearly, such promotions are not enough to convert customers into buyers. The store needs to come up with more innovative and more rewardful solutions."
      ]
    },
    {
      "cell_type": "markdown",
      "metadata": {
        "id": "BXWMYpvWOe9A"
      },
      "source": [
        "#### **Chart-14:  Sales vs PromoInterval**"
      ]
    },
    {
      "cell_type": "code",
      "execution_count": null,
      "metadata": {
        "id": "cAnUOOaSVZs2"
      },
      "outputs": [],
      "source": [
        "# Sales vs PromoInterval\n",
        "\n",
        "plt.figure(figsize=(7,7))\n",
        "\n",
        "plots=sns.barplot(x=df['PromoInterval'],y=df['Sales'],edgecolor='black')\n",
        "for bar in plots.patches:\n",
        "    plots.annotate(format(bar.get_height(), '.2f'),\n",
        "                   (bar.get_x() + bar.get_width() / 2,\n",
        "                    bar.get_height()), ha='center', va='center',\n",
        "                   size=15, xytext=(0, 8),\n",
        "                   textcoords='offset points')    \n",
        "plt.show()"
      ]
    },
    {
      "cell_type": "markdown",
      "metadata": {
        "id": "9d-OTKHn9zd6"
      },
      "source": [
        "##### 1. Why did you pick the specific chart?"
      ]
    },
    {
      "cell_type": "markdown",
      "metadata": {
        "id": "8aLtUZOL9zd6"
      },
      "source": [
        "To know the count of sale for various promo interval ."
      ]
    },
    {
      "cell_type": "markdown",
      "metadata": {
        "id": "-LTOVgZK9zd6"
      },
      "source": [
        "##### 2. What is/are the insight(s) found from the chart?"
      ]
    },
    {
      "cell_type": "markdown",
      "metadata": {
        "id": "y-_skTNp9zd6"
      },
      "source": [
        "This barplot explains that sales were still the highest when the store wasn't running any consecutive promotional events. Here, we can see the promo interval Jan, Apr, Jul, Oct records the 2nd highest sales as it marks the festive season. However, the other intervals are recording sales that are close to the 1st interval."
      ]
    },
    {
      "cell_type": "markdown",
      "metadata": {
        "id": "wd05EYcv9zd6"
      },
      "source": [
        "##### 3. Will the gained insights help creating a positive business impact? \n",
        "Are there any insights that lead to negative growth? Justify with specific reason."
      ]
    },
    {
      "cell_type": "markdown",
      "metadata": {
        "id": "DQmNuOTC9zd6"
      },
      "source": [
        "Business needs to design the pattern of the promotion as sales are decreasing gradually from begining with first quarter of promo interval."
      ]
    },
    {
      "cell_type": "markdown",
      "metadata": {
        "id": "8RC0iTeHsYQE"
      },
      "source": [
        "### **Multivariate Analysis**"
      ]
    },
    {
      "cell_type": "markdown",
      "metadata": {
        "id": "zRtFcm4LOu5a"
      },
      "source": [
        "#### **Chart-1 Pair Plot**"
      ]
    },
    {
      "cell_type": "code",
      "execution_count": null,
      "metadata": {
        "id": "8vuOI8W9vSzR"
      },
      "outputs": [],
      "source": [
        "# # Pair Plot visualization code\n",
        "sns.pairplot(df)"
      ]
    },
    {
      "cell_type": "markdown",
      "metadata": {
        "id": "oub_NbbmyCs5"
      },
      "source": [
        "##### 1. Why did you pick the specific chart?"
      ]
    },
    {
      "cell_type": "markdown",
      "metadata": {
        "id": "_1s1zHMGyKYT"
      },
      "source": [
        "It can give multiple visual aids in a single frame and various insights related to the data can be gained in one single look."
      ]
    },
    {
      "cell_type": "markdown",
      "metadata": {
        "id": "BtrRS27qyCs5"
      },
      "source": [
        "##### 2. What is/are the insight(s) found from the chart?"
      ]
    },
    {
      "cell_type": "markdown",
      "metadata": {
        "id": "wYPHiofNyQvK"
      },
      "source": [
        "Pairplot helped us to visualize the relationship between sales and other variables, such as customers, Promotions, competition, and school holidays Columns. This helped us to identify which variables might be useful for predicting sales and inform the design for our machine learning model."
      ]
    },
    {
      "cell_type": "markdown",
      "metadata": {
        "id": "xksGwSxtyCs5"
      },
      "source": [
        "##### 3. Will the gained insights help creating a positive business impact? \n",
        "Are there any insights that lead to negative growth? Justify with specific reason."
      ]
    },
    {
      "cell_type": "markdown",
      "metadata": {
        "id": "FKoSd9CgyUlc"
      },
      "source": [
        "Yes.By plotting pairplt we got to know which features are impacting more on sales aiming for maximum sales."
      ]
    },
    {
      "cell_type": "markdown",
      "metadata": {
        "id": "0wOQAZs5pc--"
      },
      "source": [
        "#### **Chart-2 Correlation Heatmap**"
      ]
    },
    {
      "cell_type": "code",
      "execution_count": null,
      "metadata": {
        "id": "7v_ESjsspbW7"
      },
      "outputs": [],
      "source": [
        "plt.figure(figsize = (15,10))\n",
        "sns.heatmap(df.corr(),annot= True,cmap=sns.color_palette('Pastel1'),square=True)\n",
        "plt.title('Correlation Heatmap for Playstore data and User review data', size=20)"
      ]
    },
    {
      "cell_type": "markdown",
      "metadata": {
        "id": "g-ATYxFrGrvw"
      },
      "source": [
        "## ***5. Hypothesis Testing***"
      ]
    },
    {
      "cell_type": "markdown",
      "metadata": {
        "id": "Yfr_Vlr8HBkt"
      },
      "source": [
        "### Based on your chart experiments, define three hypothetical statements from the dataset. In the next three questions, perform hypothesis testing to obtain final conclusion about the statements through your code and statistical testing."
      ]
    },
    {
      "cell_type": "markdown",
      "metadata": {
        "id": "-7MS06SUHkB-"
      },
      "source": [
        "1- Null Hypothesis - There is no relation between Customers and Sales\n",
        "\n",
        "Alternate Hypothesis - There is a relationship between Customers and sales\n",
        "\n",
        "2- Null Hypothesis - There is no relation between DayOfWeek and Sales\n",
        "\n",
        "Alternate Hypothesis - There is a relation between DayOfWeek and Sales\n",
        "\n",
        "3- Null Hypothesis - There is no relation between SchoolHoliday and Sales\n",
        "\n",
        "Alternate Hypothesis - There is a relation between SchoolHoliday and Sales"
      ]
    },
    {
      "cell_type": "markdown",
      "metadata": {
        "id": "8yEUt7NnHlrM"
      },
      "source": [
        "### Hypothetical Statement - 1"
      ]
    },
    {
      "cell_type": "markdown",
      "metadata": {
        "id": "tEA2Xm5dHt1r"
      },
      "source": [
        "#### 1. State Your research hypothesis as a null hypothesis and alternate hypothesis."
      ]
    },
    {
      "cell_type": "markdown",
      "metadata": {
        "id": "HI9ZP0laH0D-"
      },
      "source": [
        "Null Hypothesis - There is no relation between Customers and Sales\n",
        "\n",
        "Alternate Hypothesis - There is a relationship between Customers and sales"
      ]
    },
    {
      "cell_type": "markdown",
      "metadata": {
        "id": "I79__PHVH19G"
      },
      "source": [
        "#### 2. Perform an appropriate statistical test."
      ]
    },
    {
      "cell_type": "code",
      "execution_count": null,
      "metadata": {
        "id": "UKN4372vF0xF"
      },
      "outputs": [],
      "source": [
        "# Perform Statistical Test to obtain P-Value\n",
        "from scipy.stats import pearsonr\n",
        "first_sample = df[\"Customers\"].head(60)\n",
        "second_sample = df[\"Sales\"].head(60)\n",
        "\n",
        "stat, p = pearsonr(first_sample, second_sample)\n",
        "print('stat=%.3f, p = %.2f'%(stat, p))\n",
        "if p> 0.05:\n",
        "  print('Accept Null Hypothesis')\n",
        "else:\n",
        "  print('Rejected Null Hypothesis')"
      ]
    },
    {
      "cell_type": "markdown",
      "metadata": {
        "id": "Ou-I18pAyIpj"
      },
      "source": [
        "##### Which statistical test have you done to obtain P-Value?"
      ]
    },
    {
      "cell_type": "markdown",
      "metadata": {
        "id": "s2U0kk00ygSB"
      },
      "source": [
        "We have used Pearson Correlation test to obtain P-Value along with Pearson Correlation coefficient value.It is a measure of linear correlation between two sets of data. "
      ]
    },
    {
      "cell_type": "markdown",
      "metadata": {
        "id": "fF3858GYyt-u"
      },
      "source": [
        "##### Why did you choose the specific statistical test?"
      ]
    },
    {
      "cell_type": "markdown",
      "metadata": {
        "id": "HO4K0gP5y3B4"
      },
      "source": [
        "We want to check the relationship between two features if they are positively or negatively correlated.P-value and Pearson Correlation coefficient will always have a value between -1 and 1.Here we can see that after applying test on Customers and sales features we got Correlation coefficient as 0.939 which implies that theses two features are having strong positive correlation between them."
      ]
    },
    {
      "cell_type": "markdown",
      "metadata": {
        "id": "4_0_7-oCpUZd"
      },
      "source": [
        "### Hypothetical Statement - 2"
      ]
    },
    {
      "cell_type": "markdown",
      "metadata": {
        "id": "hwyV_J3ipUZe"
      },
      "source": [
        "#### 1. State Your research hypothesis as a null hypothesis and alternate hypothesis."
      ]
    },
    {
      "cell_type": "markdown",
      "metadata": {
        "id": "FnpLGJ-4pUZe"
      },
      "source": [
        "Null Hypothesis - There is no relation between DayOfWeek and Sales\n",
        "\n",
        "Alternate Hypothesis - There is a relationship between DayOfWeek and sales"
      ]
    },
    {
      "cell_type": "markdown",
      "metadata": {
        "id": "3yB-zSqbpUZe"
      },
      "source": [
        "#### 2. Perform an appropriate statistical test."
      ]
    },
    {
      "cell_type": "code",
      "execution_count": null,
      "metadata": {
        "id": "F2d6QqxGG5GH"
      },
      "outputs": [],
      "source": [
        "# Perform Statistical Test to obtain P-Value\n",
        "from scipy.stats import pearsonr\n",
        "first_sample = df[\"DayOfWeek\"].head(60)\n",
        "second_sample = df[\"Sales\"].head(60)\n",
        "\n",
        "stat, p = pearsonr(first_sample, second_sample)\n",
        "print('stat=%.3f, p = %.2f'%(stat, p))\n",
        "if p> 0.05:\n",
        "  print('Accept Null Hypothesis')\n",
        "else:\n",
        "  print('Rejected Null Hypothesis')"
      ]
    },
    {
      "cell_type": "markdown",
      "metadata": {
        "id": "dEUvejAfpUZe"
      },
      "source": [
        "##### Which statistical test have you done to obtain P-Value?"
      ]
    },
    {
      "cell_type": "markdown",
      "metadata": {
        "id": "oLDrPz7HpUZf"
      },
      "source": [
        "We have used Pearson Correlation test to obtain P-Value along with Pearson Correlation coefficient value.It is a measure of linear correlation between two sets of data. "
      ]
    },
    {
      "cell_type": "markdown",
      "metadata": {
        "id": "Fd15vwWVpUZf"
      },
      "source": [
        "##### Why did you choose the specific statistical test?"
      ]
    },
    {
      "cell_type": "markdown",
      "metadata": {
        "id": "4xOGYyiBpUZf"
      },
      "source": [
        "We want to check the relationship between two features if they are positively or negatively correlated.P-value and Pearson Correlation coefficient will always have a value between -1 and 1.Here we can see that after applying test on DayOfWeek and sales features we got Correlation coefficient as -0.221 which implies that theses two features are having weak negative correlation between them."
      ]
    },
    {
      "cell_type": "markdown",
      "metadata": {
        "id": "bn_IUdTipZyH"
      },
      "source": [
        "### Hypothetical Statement - 3"
      ]
    },
    {
      "cell_type": "markdown",
      "metadata": {
        "id": "49K5P_iCpZyH"
      },
      "source": [
        "#### 1. State Your research hypothesis as a null hypothesis and alternate hypothesis."
      ]
    },
    {
      "cell_type": "markdown",
      "metadata": {
        "id": "7gWI5rT9pZyH"
      },
      "source": [
        "Null Hypothesis - There is no relation between SchoolHoliday and Sales\n",
        "\n",
        "Alternate Hypothesis - There is a relationship between SchoolHoliday and sales"
      ]
    },
    {
      "cell_type": "markdown",
      "metadata": {
        "id": "Nff-vKELpZyI"
      },
      "source": [
        "#### 2. Perform an appropriate statistical test."
      ]
    },
    {
      "cell_type": "code",
      "execution_count": null,
      "metadata": {
        "id": "3aWUvIhMZq2g"
      },
      "outputs": [],
      "source": [
        "# Perform Statistical Test to obtain P-Value\n",
        "from scipy.stats import pearsonr\n",
        "first_sample = df[\"SchoolHoliday\"].head(60)\n",
        "second_sample = df[\"Sales\"].head(60)\n",
        "\n",
        "stat, p = pearsonr(first_sample, second_sample)\n",
        "print('stat=%.3f, p = %.2f'%(stat, p))\n",
        "if p> 0.05:\n",
        "  print('Accept Null Hypothesis')\n",
        "else:\n",
        "  print('Rejected Null Hypothesis')"
      ]
    },
    {
      "cell_type": "markdown",
      "metadata": {
        "id": "kLW572S8pZyI"
      },
      "source": [
        "##### Which statistical test have you done to obtain P-Value?"
      ]
    },
    {
      "cell_type": "markdown",
      "metadata": {
        "id": "ytWJ8v15pZyI"
      },
      "source": [
        "We have used Pearson Correlation test to obtain P-Value along with Pearson Correlation coefficient value.It is a measure of linear correlation between two sets of data. "
      ]
    },
    {
      "cell_type": "markdown",
      "metadata": {
        "id": "dWbDXHzopZyI"
      },
      "source": [
        "##### Why did you choose the specific statistical test?"
      ]
    },
    {
      "cell_type": "markdown",
      "metadata": {
        "id": "M99G98V6pZyI"
      },
      "source": [
        "We want to check the relationship between two features if they are positively or negatively correlated.P-value and Pearson Correlation coefficient will always have a value between -1 and 1.Here we can see that after applying test on Customers and sales features we got Correlation coefficient as 0.334 which implies that theses two features are having weak positive correlation between them."
      ]
    },
    {
      "cell_type": "code",
      "execution_count": null,
      "metadata": {
        "id": "XVc6RYBfoCkY"
      },
      "outputs": [],
      "source": []
    },
    {
      "cell_type": "code",
      "execution_count": null,
      "metadata": {
        "id": "MQqA_o9fxpD8"
      },
      "outputs": [],
      "source": []
    },
    {
      "cell_type": "markdown",
      "metadata": {
        "id": "-efLTBJ7xpcK"
      },
      "source": [
        "## ***6. Feature Engineering & Data Pre-processing***"
      ]
    },
    {
      "cell_type": "markdown",
      "metadata": {
        "id": "SMZ4a_wbxpcK"
      },
      "source": [
        "### 1. Handling Missing Values"
      ]
    },
    {
      "cell_type": "code",
      "execution_count": null,
      "metadata": {
        "id": "T1D39eGCxpcL"
      },
      "outputs": [],
      "source": [
        "# Handling Missing Values & Missing Value Imputation\n",
        "df.isna().sum()"
      ]
    },
    {
      "cell_type": "markdown",
      "metadata": {
        "id": "2WJP2fz-Gbe3"
      },
      "source": [
        "As we have already treated null values so we do not have any more missing/null/duplicate values in our dataset and our dataset is good to go."
      ]
    },
    {
      "cell_type": "markdown",
      "metadata": {
        "id": "tvuNtUsqxpcL"
      },
      "source": [
        "#### What all missing value imputation techniques have you used and why did you use those techniques?"
      ]
    },
    {
      "cell_type": "markdown",
      "metadata": {
        "id": "ZBof7La-xpcL"
      },
      "source": [
        "We have checked the outliers by plotting the box plot and then replaced the null values of various variables with mean, median,mode and 0 accordingly."
      ]
    },
    {
      "cell_type": "markdown",
      "metadata": {
        "id": "RB2t61vjxpcL"
      },
      "source": [
        "### 2. Handling Outliers"
      ]
    },
    {
      "cell_type": "code",
      "execution_count": null,
      "metadata": {
        "id": "Uwd0jN4rO7J1"
      },
      "outputs": [],
      "source": [
        "df.info()"
      ]
    },
    {
      "cell_type": "code",
      "execution_count": null,
      "metadata": {
        "id": "62kCi1btOr5R"
      },
      "outputs": [],
      "source": [
        "# assigning continous variable features in new variables so that it makes sense while visulatizing through box plots\n",
        "continous_value_feature= [\"DayOfWeek\", \"Sales\", \"Customers\", \"CompetitionDistance\", \"CompetitionOpenSinceMonth\", \"CompetitionOpenSinceYear\", \"Promo2SinceWeek\", \"Promo2SinceYear\"]\n",
        "numeric_features= ['Store', 'DayOfWeek', 'Sales', 'Customers', 'Open', 'Promo', 'StateHoliday', 'SchoolHoliday', 'CompetitionDistance', 'CompetitionOpenSinceMonth', 'CompetitionOpenSinceYear', 'Promo2', 'Promo2SinceWeek','Promo2SinceYear']\n",
        "categorical_features= [\"Date\", \"StoreType\", \"Assortment\", \"PromoInterval\"]\n",
        "print(\"Numeric_features: \",numeric_features)\n",
        "print(\"Categorical_features: \",categorical_features)\n",
        "print(\"Continous_value_feature: \",continous_value_feature)"
      ]
    },
    {
      "cell_type": "code",
      "execution_count": null,
      "metadata": {
        "id": "Z6cL-3CqNfD5"
      },
      "outputs": [],
      "source": [
        "# checking outliers with the help of box plot for continous features\n",
        "plt.figure(figsize=(30,15))\n",
        "for n,column in enumerate(continous_value_feature):\n",
        "  plt.subplot(5, 4, n+1)\n",
        "  sns.boxplot(df[column])\n",
        "  plt.title(f'{column.title()}',weight='bold')\n",
        "  plt.tight_layout()"
      ]
    },
    {
      "cell_type": "markdown",
      "metadata": {
        "id": "5yn0ZpXZW4dn"
      },
      "source": [
        "From the above box plots we can see clearly the features \"Sales\", \"Customers\", \"CompetitionDistance\", \"CompetitionOpenSinceMonth\" and \"CompetitionOpenSinceYear\" contains several outliers and rest of the features are fine as they are categorical in nature.\n",
        "\n",
        "Let's define a code to detect the number of outliers and percentage of outliers present in each of the feature in order to handle them accordingly."
      ]
    },
    {
      "cell_type": "code",
      "execution_count": null,
      "metadata": {
        "id": "Ro572AN3fTqD"
      },
      "outputs": [],
      "source": [
        "# defining the code for outlier detection and percentage using IQR.\n",
        "def detect_outliers(data):\n",
        "    outliers = []\n",
        "    data = sorted(data)\n",
        "    q1 = np.percentile(data, 25)\n",
        "    q2 = np.percentile(data, 50)\n",
        "    q3 = np.percentile(data, 75)\n",
        "    print(f\"q1:{q1}, q2:{q2}, q3:{q3}\")\n",
        "\n",
        "    IQR = q3-q1\n",
        "    lwr_bound = q1-(1.5*IQR)\n",
        "    upr_bound = q3+(1.5*IQR)\n",
        "    print(f\"Lower bound: {lwr_bound}, Upper bound: {upr_bound}, IQR: {IQR}\")\n",
        "\n",
        "    for i in data: \n",
        "        if (i<lwr_bound or i>upr_bound):\n",
        "            outliers.append(i)\n",
        "    len_outliers= len(outliers)\n",
        "    print(f\"Total number of outliers are: {len_outliers}\")\n",
        "\n",
        "    print(f\"Total percentage of outlier is: {round(len_outliers*100/len(data),2)} %\")"
      ]
    },
    {
      "cell_type": "code",
      "execution_count": null,
      "metadata": {
        "id": "3o4q_e3ogOJj"
      },
      "outputs": [],
      "source": [
        "# Determining IQR, Lower and Upper bound and number out outliers present in each of the continous numerical feature\n",
        "for feature in continous_value_feature:\n",
        "  print(feature,\":\")\n",
        "  detect_outliers(df[feature])\n",
        "  print(\"\\n\")"
      ]
    },
    {
      "cell_type": "markdown",
      "metadata": {
        "id": "v6meFKQSu8ON"
      },
      "source": [
        "Below mentioned continous features with the percentage of outliers:\n",
        "\n",
        "1. \"Sales\" - 2.62%\n",
        "2. \"Customers\" - 3.75%\n",
        "3. \"CompetitionDistance\" - 9.75%\n",
        "4. \"CompetitionOpenSinceMonth\" - 1.22%\n",
        "5. \"CompetitionOpenSinceYear\" - 2.71%\n",
        "\n",
        "Let's define a function for the outlier treatment using IQR technique and cap the outliers in 25-75 percentile."
      ]
    },
    {
      "cell_type": "code",
      "execution_count": null,
      "metadata": {
        "id": "1dVjeORhccha"
      },
      "outputs": [],
      "source": [
        "# Defining the function that treats outliers with the IQR technique\n",
        "def treat_outliers_iqr(data):\n",
        "    # Calculate the first and third quartiles\n",
        "    q1, q3 = np.percentile(data, [25, 75])\n",
        "    \n",
        "    # Calculate the interquartile range (IQR)\n",
        "    iqr = q3 - q1\n",
        "    \n",
        "    # Identify the outliers\n",
        "    lower_bound = q1 - (1.5 * iqr)\n",
        "    upper_bound = q3 + (1.5 * iqr)\n",
        "    outliers = [x for x in data if x < lower_bound or x > upper_bound]\n",
        "    \n",
        "    # Treat the outliers (e.g., replace with the nearest quartile value)\n",
        "    treated_data = [q1 if x < lower_bound else q3 if x > upper_bound else x for x in data]\n",
        "    treated_data_int = [int(absolute) for absolute in treated_data]\n",
        "    \n",
        "    return treated_data_int"
      ]
    },
    {
      "cell_type": "code",
      "execution_count": null,
      "metadata": {
        "id": "De5kvfdYhJYg"
      },
      "outputs": [],
      "source": [
        "#Passing all the feature one by one from the list of continous_value_feature in our above defined function for outlier treatment\n",
        "for feature in continous_value_feature:\n",
        "  df[feature]= treat_outliers_iqr(df[feature])"
      ]
    },
    {
      "cell_type": "code",
      "execution_count": null,
      "metadata": {
        "id": "JFP5mviPkD_p"
      },
      "outputs": [],
      "source": [
        "#Replotting the box plots and rechecking the percentage of outliers still available(if any) in the list of continous_value_feature.\n",
        "plt.figure(figsize=(30,15))\n",
        "for n,column in enumerate(continous_value_feature):\n",
        "  plt.subplot(5, 4, n+1)\n",
        "  sns.boxplot(df[column])\n",
        "  plt.title(f'{column.title()}',weight='bold')\n",
        "  plt.tight_layout()"
      ]
    },
    {
      "cell_type": "code",
      "execution_count": null,
      "metadata": {
        "id": "49YRoP5TkTMX"
      },
      "outputs": [],
      "source": [
        "# Rechecking the total number of outliers and its percentage present in our dataset.\n",
        "for feature in continous_value_feature:\n",
        "  print(feature,\":\")\n",
        "  detect_outliers(df[feature])\n",
        "  print(\"\\n\")"
      ]
    },
    {
      "cell_type": "markdown",
      "metadata": {
        "id": "Hh86r-nVxpcP"
      },
      "source": [
        "### 3. Categorical Encoding"
      ]
    },
    {
      "cell_type": "code",
      "execution_count": null,
      "metadata": {
        "id": "sVZq67xYj_Gj"
      },
      "outputs": [],
      "source": [
        "# checking the features having dtype as object\n",
        "df.info()"
      ]
    },
    {
      "cell_type": "markdown",
      "metadata": {
        "id": "dpMJUWSXkzfb"
      },
      "source": [
        "Clearly we have \"StoreType\", \"Assortment\", \"PromoInterval\" as \"object\". To feed them as an input of our Machine Learning algorithm, we need to use some encoding technique to make dtype of these column as \"integer\"."
      ]
    },
    {
      "cell_type": "code",
      "execution_count": null,
      "metadata": {
        "id": "C3yN24gekTLZ"
      },
      "outputs": [],
      "source": [
        "# creating the variable that contains list of \"object\" dtypes\n",
        "obj= [\"StateHoliday\", \"StoreType\", \"Assortment\", \"PromoInterval\"]"
      ]
    },
    {
      "cell_type": "code",
      "execution_count": null,
      "metadata": {
        "id": "LyTMoE5akEFi"
      },
      "outputs": [],
      "source": [
        "# checking the unique counts of object dype column which is essential to determine the type of encoding to use in various column\n",
        "for unique in obj:\n",
        "  print(f\"{unique}: \")\n",
        "  print(f\"The unique values are: {df[unique].unique()}\")\n",
        "  print(f\"Total number of unique values are: {df[unique].nunique()}\")\n",
        "  print(\"\\n\")"
      ]
    },
    {
      "cell_type": "markdown",
      "metadata": {
        "id": "WfWsGRD2spmB"
      },
      "source": [
        "From the above output we can see that the feature \"StateHoliday\" contains \"0\" as string and 0 as int at various observations. So let's convert \"0\"(str) to 0(int)."
      ]
    },
    {
      "cell_type": "code",
      "execution_count": null,
      "metadata": {
        "id": "JxmEH14VtKeY"
      },
      "outputs": [],
      "source": [
        "# replacing \"0\" to 0 and a=b=c=1 for our simplicity as they resembles that there is holiday\n",
        "df[\"StateHoliday\"].replace({\"0\":0, \"a\":1, \"b\":1, \"c\":1}, inplace=True)"
      ]
    },
    {
      "cell_type": "code",
      "execution_count": null,
      "metadata": {
        "id": "YgeRdDlDu2yj"
      },
      "outputs": [],
      "source": [
        "# rechecking the unique counts of object dype column which is essential to determine the type of encoding to be use in various column\n",
        "for unique in obj:\n",
        "  print(f\"{unique}: \")\n",
        "  print(f\"The unique values are: {df[unique].unique()}\")\n",
        "  print(f\"Total number of unique values are: {df[unique].nunique()}\")\n",
        "  print(\"\\n\")"
      ]
    },
    {
      "cell_type": "markdown",
      "metadata": {
        "id": "zhBA_F7mvBS5"
      },
      "source": [
        "Since we have several encoding techniques but the major ones are:\n",
        "1. Ordinal encoding: Used when the features are ordinal in nature and have some rank between them.\n",
        "2. Nominal encoding: Used when the features have equal weightage and are nominal in nature.\n",
        "\n",
        "As our all the categorical columns are nominal in nature(do not have any rank or order) so will use One-Hot Encoding (Type of Nominal encoding) in our senario:"
      ]
    },
    {
      "cell_type": "code",
      "execution_count": null,
      "metadata": {
        "id": "YfYcXVpayf39"
      },
      "outputs": [],
      "source": [
        "#Lets create a copy of dataframe to avoid blunders with our original dataframe\n",
        "df_new=df.copy() "
      ]
    },
    {
      "cell_type": "code",
      "execution_count": null,
      "metadata": {
        "id": "dAYd9j4IxpcR"
      },
      "outputs": [],
      "source": [
        "# Encode your categorical columns by dropping the first category\n",
        "# df_new= pd.get_dummies(df, dtype=int)"
      ]
    },
    {
      "cell_type": "markdown",
      "metadata": {
        "id": "ljknvUthTDhy"
      },
      "source": [
        "We can use the above code to create binary dummy variable using ONE-HOT ENCODING for each of the feature but we will face the issue of \"multicollinearity\" or \"dummy variable trap\" as the information given by the one feature can be explained by the other features and this results in the high \"VIF\". So its better to drop the redundant feature (one category among all other category) here only.\n",
        "\n",
        "We can do this easily by passing the argument \"drop_first = True\" in get_dummies without doing it manually, thanks to python code development team to make our tasks easier."
      ]
    },
    {
      "cell_type": "code",
      "execution_count": null,
      "metadata": {
        "id": "NNsDLayhUu5l"
      },
      "outputs": [],
      "source": [
        "# Encode your categorical columns by dropping the first category\n",
        "df_new= pd.get_dummies(df, dtype=int, drop_first=True)"
      ]
    },
    {
      "cell_type": "code",
      "execution_count": null,
      "metadata": {
        "id": "tf6TgIxhTlKN"
      },
      "outputs": [],
      "source": [
        "# code to see all the features\n",
        "pd.set_option('display.max_columns', None)"
      ]
    },
    {
      "cell_type": "code",
      "execution_count": null,
      "metadata": {
        "id": "TMBdLhifTrkp"
      },
      "outputs": [],
      "source": [
        "# Let's see first five observations of our dataset\n",
        "df_new.head()"
      ]
    },
    {
      "cell_type": "code",
      "execution_count": null,
      "metadata": {
        "id": "HW97hIkIWcrL"
      },
      "outputs": [],
      "source": [
        "# Verifying the dtype\n",
        "df_new.info()"
      ]
    },
    {
      "cell_type": "markdown",
      "metadata": {
        "id": "YX4f20EmxpcS"
      },
      "source": [
        "#### What all categorical encoding techniques have you used & why did you use those techniques?"
      ]
    },
    {
      "cell_type": "markdown",
      "metadata": {
        "id": "YUA6HDvyxpcS"
      },
      "source": [
        "a. We have used one-hot encoding technique to change our categorical features of object type into int type by creating their dummies so that it becomes compatible to feed it into various ML algorithms in future.\n",
        "\n",
        "b. Since, we have 3 to 4 unique orderless categories in all the categorical features (which is less in number). So, it is good to use Nominal encoding technique than ordinal."
      ]
    },
    {
      "cell_type": "markdown",
      "metadata": {
        "id": "vGRSVf6axpcV"
      },
      "source": [
        "### 4. Textual Data Preprocessing \n",
        "(It's mandatory for textual dataset i.e., NLP, Sentiment Analysis, Text Clustering etc.)\n",
        "##### We don't have textual data in any of the feature so it is not needed for our project"
      ]
    },
    {
      "cell_type": "markdown",
      "metadata": {
        "id": "UHGnYJx8xpcW"
      },
      "source": [
        "#### 1. Expand Contraction"
      ]
    },
    {
      "cell_type": "code",
      "execution_count": null,
      "metadata": {
        "id": "CarxxItPxpcW"
      },
      "outputs": [],
      "source": [
        "# Expand Contraction\n",
        "## We don't have textual data in any of the feature so it is not needed for our project"
      ]
    },
    {
      "cell_type": "markdown",
      "metadata": {
        "id": "Zc89jZBTxpcW"
      },
      "source": [
        "#### 2. Lower Casing"
      ]
    },
    {
      "cell_type": "code",
      "execution_count": null,
      "metadata": {
        "id": "Nn6qVHY8xpcW"
      },
      "outputs": [],
      "source": [
        "# Lower Casing\n",
        "## We don't have textual data in any of the feature so it is not needed for our project"
      ]
    },
    {
      "cell_type": "markdown",
      "metadata": {
        "id": "1PgB86c3xpcW"
      },
      "source": [
        "#### 3. Removing Punctuations"
      ]
    },
    {
      "cell_type": "code",
      "execution_count": null,
      "metadata": {
        "id": "COdivasnxpcW"
      },
      "outputs": [],
      "source": [
        "# Remove Punctuations\n",
        "## We don't have textual data in any of the feature so it is not needed for our project"
      ]
    },
    {
      "cell_type": "markdown",
      "metadata": {
        "id": "fJdRA8cDxpcW"
      },
      "source": [
        "#### 4. Removing URLs & Removing words and digits contain digits."
      ]
    },
    {
      "cell_type": "code",
      "execution_count": null,
      "metadata": {
        "id": "EpwYqXBnxpcW"
      },
      "outputs": [],
      "source": [
        "# Remove URLs & Remove words and digits contain digits\n",
        "## We don't have textual data in any of the feature so it is not needed for our project"
      ]
    },
    {
      "cell_type": "markdown",
      "metadata": {
        "id": "fuENhqJbxpcX"
      },
      "source": [
        "#### 5. Removing Stopwords & Removing White spaces"
      ]
    },
    {
      "cell_type": "code",
      "execution_count": null,
      "metadata": {
        "id": "AcULK-8RxpcX"
      },
      "outputs": [],
      "source": [
        "# Remove Stopwords\n",
        "## We don't have textual data in any of the feature so it is not needed for our project"
      ]
    },
    {
      "cell_type": "code",
      "execution_count": null,
      "metadata": {
        "id": "Kzi7pj_oxpcX"
      },
      "outputs": [],
      "source": [
        "# Remove White spaces\n",
        "## We don't have textual data in any of the feature so it is not needed for our project"
      ]
    },
    {
      "cell_type": "markdown",
      "metadata": {
        "id": "41IPyCR-xpcX"
      },
      "source": [
        "#### 6. Rephrase Text"
      ]
    },
    {
      "cell_type": "code",
      "execution_count": null,
      "metadata": {
        "id": "n0PAaZlLxpcX"
      },
      "outputs": [],
      "source": [
        "# Rephrase Text\n",
        "## We don't have textual data in any of the feature so it is not needed for our project"
      ]
    },
    {
      "cell_type": "markdown",
      "metadata": {
        "id": "PQp0lsC2xpcX"
      },
      "source": [
        "#### 7. Tokenization"
      ]
    },
    {
      "cell_type": "code",
      "execution_count": null,
      "metadata": {
        "id": "DvHxD98-xpcX"
      },
      "outputs": [],
      "source": [
        "# Tokenization\n",
        "## We don't have textual data in any of the feature so it is not needed for our project"
      ]
    },
    {
      "cell_type": "markdown",
      "metadata": {
        "id": "bKklJ7JBxpcY"
      },
      "source": [
        "#### 8. Text Normalization"
      ]
    },
    {
      "cell_type": "code",
      "execution_count": null,
      "metadata": {
        "id": "SxdLfvSmxpcY"
      },
      "outputs": [],
      "source": [
        "# Normalizing Text (i.e., Stemming, Lemmatization etc.)\n",
        "## We don't have textual data in any of the feature so it is not needed for our project"
      ]
    },
    {
      "cell_type": "markdown",
      "metadata": {
        "id": "-6gVpMIUxpcY"
      },
      "source": [
        "##### Which text normalization technique have you used and why?"
      ]
    },
    {
      "cell_type": "markdown",
      "metadata": {
        "id": "WMOd2hUnxpcY"
      },
      "source": [
        "Answer Here."
      ]
    },
    {
      "cell_type": "markdown",
      "metadata": {
        "id": "Ty9ujbDwxpcY"
      },
      "source": [
        "#### 9. Part of speech tagging"
      ]
    },
    {
      "cell_type": "code",
      "execution_count": null,
      "metadata": {
        "id": "GpqaJQS1xpcZ"
      },
      "outputs": [],
      "source": [
        "# POS Taging\n",
        "## We don't have textual data in any of the feature so it is not needed for our project"
      ]
    },
    {
      "cell_type": "markdown",
      "metadata": {
        "id": "Sytnq5_YxpcZ"
      },
      "source": [
        "#### 10. Text Vectorization"
      ]
    },
    {
      "cell_type": "code",
      "execution_count": null,
      "metadata": {
        "id": "qG_243UOxpcZ"
      },
      "outputs": [],
      "source": [
        "# Vectorizing Text\n",
        "## We don't have textual data in any of the feature so it is not needed for our project"
      ]
    },
    {
      "cell_type": "markdown",
      "metadata": {
        "id": "0CcxjucixpcZ"
      },
      "source": [
        "##### Which text vectorization technique have you used and why?"
      ]
    },
    {
      "cell_type": "markdown",
      "metadata": {
        "id": "Qp4odc6IxpcZ"
      },
      "source": [
        "Answer Here."
      ]
    },
    {
      "cell_type": "markdown",
      "metadata": {
        "id": "T7c0IejhxpcZ"
      },
      "source": [
        "### 4. Feature Manipulation & Selection"
      ]
    },
    {
      "cell_type": "markdown",
      "metadata": {
        "id": "e4PZaE_MxpcZ"
      },
      "source": [
        "#### 1. Feature Manipulation"
      ]
    },
    {
      "cell_type": "code",
      "execution_count": null,
      "metadata": {
        "id": "_hHYTcuHfLWN"
      },
      "outputs": [],
      "source": [
        "# Manipulate Features to minimize feature correlation and create new \n",
        "# Checking the first five observation of the dataset we have to deal with.\n",
        "df_new.head()"
      ]
    },
    {
      "cell_type": "code",
      "execution_count": null,
      "metadata": {
        "id": "fY_SpkFajH5P"
      },
      "outputs": [],
      "source": [
        "# Extracting date, month and year from Date feature\n",
        "df_new[\"Day\"]= df_new[\"Date\"].dt.day\n",
        "df_new[\"Month\"]= df_new[\"Date\"].dt.month\n",
        "df_new[\"Year\"]= df_new[\"Date\"].dt.year\n",
        "df_new[\"Week\"]= df_new[\"Date\"].dt.week"
      ]
    },
    {
      "cell_type": "code",
      "execution_count": null,
      "metadata": {
        "id": "mRae2ZVVXdK4"
      },
      "outputs": [],
      "source": [
        "#checking first 5 observations\n",
        "df_new.head()"
      ]
    },
    {
      "cell_type": "code",
      "execution_count": null,
      "metadata": {
        "id": "-b7Ol1H4kfag"
      },
      "outputs": [],
      "source": [
        "# deriving 2 new features:\n",
        "# 1. \"CompetitionDuration -> Duration from which two stores are competiting\"\n",
        "# 2. \"PromoDuration -> Duration from which the store is involved in promotion\"\n",
        "##    Final values are in Months.\n",
        "df_new[\"CompetitionDuration\"]= (df_new[\"Year\"]-df_new[\"CompetitionOpenSinceYear\"])*12 + (df_new[\"Month\"]-df_new[\"CompetitionOpenSinceMonth\"])\n",
        "df_new[\"CompetitionDuration\"] = df_new[\"CompetitionDuration\"].map(lambda x: int(0) if x < 0 else int(x)).fillna(0)\n",
        "\n",
        "# Creating PromoDuration feature\n",
        "df_new[\"PromoDuration\"]= (df_new[\"Year\"]-df_new[\"Promo2SinceYear\"])*12 + (df_new[\"Week\"]-df_new[\"Promo2SinceWeek\"])*7/30.5\n",
        "df_new[\"PromoDuration\"] = df_new[\"PromoDuration\"].map(lambda x: int(0) if x < 0 else int(x)).fillna(0) * df[\"Promo2\"]"
      ]
    },
    {
      "cell_type": "code",
      "execution_count": null,
      "metadata": {
        "id": "zSGs1XJNr6zS"
      },
      "outputs": [],
      "source": [
        "# checking first 5 observations after feature extraction\n",
        "df_new.head()"
      ]
    },
    {
      "cell_type": "markdown",
      "metadata": {
        "id": "qS1HwCAvxpcb"
      },
      "source": [
        "#### 2. Feature Selection"
      ]
    },
    {
      "cell_type": "code",
      "execution_count": null,
      "metadata": {
        "id": "q6x-S5n3wWZF"
      },
      "outputs": [],
      "source": [
        "# Let's see how sales and other features are related\n",
        "for col in df_new.describe().columns.tolist():\n",
        "    fig = plt.figure(figsize=(9, 6))\n",
        "    ax = fig.gca()\n",
        "    feature = df_new[col]\n",
        "    label = df_new['Sales']\n",
        "    correlation = feature.corr(label)\n",
        "    sns.scatterplot(x=feature, y=label, color=\"gray\")\n",
        "    plt.xlabel(col)\n",
        "    plt.ylabel('Sales')\n",
        "    ax.set_title('Sales vs ' + col + '- correlation: ' + str(correlation))\n",
        "    z = np.polyfit(df_new[col], df_new['Sales'], 1)\n",
        "    y_hat = np.poly1d(z)(df_new[col])\n",
        "    plt.plot(df_new[col], y_hat, \"r--\", lw=1)\n",
        "    plt.show()"
      ]
    },
    {
      "cell_type": "code",
      "execution_count": null,
      "metadata": {
        "id": "10Ilgz83xpcc"
      },
      "outputs": [],
      "source": [
        "# Select your features wisely to avoid overfitting\n",
        "plt.figure(figsize=(20,15))\n",
        "sns.heatmap(abs(round(df_new.corr(),3)), annot=True, cmap=plt.cm.CMRmap)"
      ]
    },
    {
      "cell_type": "markdown",
      "metadata": {
        "id": "eXqnzEbzxpcc"
      },
      "source": [
        "Let's include only those features in our final dataframe that are highly impacting on the dependent variable i.e Sales. For this we are using Variance Inflation Factor technique to determine multicolinearity."
      ]
    },
    {
      "cell_type": "code",
      "execution_count": null,
      "metadata": {
        "id": "fYcpNvtm0AVT"
      },
      "outputs": [],
      "source": [
        "# Defining a function for variance_inflation_factor\n",
        "from statsmodels.stats.outliers_influence import variance_inflation_factor\n",
        "def calc_vif(X):\n",
        "\n",
        "    # Calculating VIF\n",
        "    vif = pd.DataFrame()\n",
        "    vif[\"variables\"] = X.columns\n",
        "    vif[\"VIF\"] = [variance_inflation_factor(X.values, i) for i in range(X.shape[1])]\n",
        "\n",
        "    return(vif)"
      ]
    },
    {
      "cell_type": "markdown",
      "metadata": {
        "id": "ZswrQ_jwV3nq"
      },
      "source": [
        "Calculating VIF(Variance Inflation Factor) by excluding:\n",
        "1. \"Sales\" -> As it is target variable\n",
        "2. \"Store\" -> As it is StoreID and not giving any information"
      ]
    },
    {
      "cell_type": "markdown",
      "metadata": {
        "id": "ITCxtY-Rxpcd"
      },
      "source": [
        "We have extracted new features \"CompetitionDuration\" and \"PromoDuration\" from features \"Promo2SinceWeek\", \"Promo2SinceYear\", \"CompetitionOpenSinceMonth\", \"CompetitionOpenSinceYear\", \"Month\", \"Year\", \"Week\". So we can exclude them while calculating VIF."
      ]
    },
    {
      "cell_type": "code",
      "execution_count": null,
      "metadata": {
        "id": "anl7uVWE0Fj_"
      },
      "outputs": [],
      "source": [
        "# calculating the vif by excluding some features which are not giving any information\n",
        "calc_vif(df_new[[i for i in df_new.describe().columns if i not in [\"Store\", \"Sales\", \"Promo2SinceWeek\", \"Promo2SinceYear\", \"CompetitionOpenSinceMonth\", \"CompetitionOpenSinceYear\",\"Month\", \"Year\", \"Week\"]]])"
      ]
    },
    {
      "cell_type": "markdown",
      "metadata": {
        "id": "eSnTrYaqxpcd"
      },
      "source": [
        "Since, \"Promo2\",\"PromoInterval_Jan,Apr,Jul,Oct\", \"PromoInterval_Feb,May,Aug,Nov\", \"PromoInterval_Mar,Jun,Sept,Dec\" are having high VIF values and \"PromoInterval_Jan,Apr,Jul,Oct\" is having least corelation with \"Sales\". So, let's exclude \"PromoInterval_Jan,Apr,Jul,Oct\""
      ]
    },
    {
      "cell_type": "code",
      "execution_count": null,
      "metadata": {
        "id": "Z4Pbl5xlIx6n"
      },
      "outputs": [],
      "source": [
        "# calculating the vif by excluding some features\n",
        "calc_vif(df_new[[i for i in df_new.describe().columns if i not in [\"Store\", \"Sales\", \"Promo2SinceWeek\", \"Promo2SinceYear\", \"CompetitionOpenSinceMonth\", \"CompetitionOpenSinceYear\", \"Month\", \"Year\",\"Week\", \"PromoInterval_Jan,Apr,Jul,Oct\"]]])"
      ]
    },
    {
      "cell_type": "markdown",
      "metadata": {
        "id": "G5Mydqq5xpce"
      },
      "source": [
        "Since \"Assortment_b\" and \"Store_type_b\" are also showing high corelation i.e 0.72 so we are gaining same information from both the features. Its better to exclude the feature \"Assortment_b\" which is having less corelation with Sales(0.047). "
      ]
    },
    {
      "cell_type": "code",
      "execution_count": null,
      "metadata": {
        "id": "K_islv2nxpce"
      },
      "outputs": [],
      "source": [
        "# calculating the vif by excluding some features\n",
        "calc_vif(df_new[[i for i in df_new.describe().columns if i not in [\"Store\", \"Sales\", \"Promo2SinceWeek\", \"Promo2SinceYear\", \"CompetitionOpenSinceMonth\", \"CompetitionOpenSinceYear\", \"Month\", \"Year\",\"Week\", \"PromoInterval_Jan,Apr,Jul,Oct\",\"Assortment_b\"]]])"
      ]
    },
    {
      "cell_type": "markdown",
      "metadata": {
        "id": "aI174-QBxpce"
      },
      "source": [
        "Since \"Promo2\" and \"PromoDuration\" are highly correlated having correlation 0.69 and \"PromoDuration\" is least correlated with \"Sales\". So, let's exclude \"PromoDuration\" from VIF."
      ]
    },
    {
      "cell_type": "code",
      "execution_count": null,
      "metadata": {
        "id": "SgduD8p_xpce"
      },
      "outputs": [],
      "source": [
        "# calculating the vif by excluding some features\n",
        "calc_vif(df_new[[i for i in df_new.describe().columns if i not in [\"Store\", \"Sales\", \"Promo2SinceWeek\", \"Promo2SinceYear\", \"CompetitionOpenSinceMonth\", \"CompetitionOpenSinceYear\", \"Month\",\"Week\", \"Year\", \"PromoInterval_Jan,Apr,Jul,Oct\",\"Assortment_b\",\"PromoDuration\"]]])"
      ]
    },
    {
      "cell_type": "markdown",
      "metadata": {
        "id": "b0d_xFCXQHpx"
      },
      "source": [
        "Great !!! We are getting very good VIF's (Less then 10). Now let's move forward and store the selected features in a new dataframe."
      ]
    },
    {
      "cell_type": "code",
      "execution_count": null,
      "metadata": {
        "id": "tqL-xBm2RDct"
      },
      "outputs": [],
      "source": [
        "# New Dataframe which will be our final dataframe\n",
        "final_df = df_new[[\"DayOfWeek\", \"Customers\",\"Promo\",\"StateHoliday\",\"SchoolHoliday\",\"CompetitionDistance\",\"Promo2\",\"StoreType_b\",\"StoreType_c\",\"StoreType_d\",\"Assortment_c\",\"PromoInterval_Feb,May,Aug,Nov\",\"PromoInterval_Mar,Jun,Sept,Dec\",\"Day\",\"CompetitionDuration\",\"Sales\"]]"
      ]
    },
    {
      "cell_type": "code",
      "execution_count": null,
      "metadata": {
        "id": "TJ2AAAEYUWyx"
      },
      "outputs": [],
      "source": [
        "# Checking info of our final dataframe\n",
        "final_df.info()"
      ]
    },
    {
      "cell_type": "markdown",
      "metadata": {
        "id": "qhIgU3n7xpcf"
      },
      "source": [
        "##### What all feature selection methods have you used  and why?"
      ]
    },
    {
      "cell_type": "markdown",
      "metadata": {
        "id": "awR0wIEzxpcf"
      },
      "source": [
        "We have plotted the seaborn's scatterplot and seaborn's heatmap to see the relationship of each of the feature with target variable and observed the following correlations:\n",
        "1. **Positive Corelation**- Customers, Open, Promo, SchoolHoliday, CompetitionOpenSinceYear, Assortment_b, Assortment_c, Month, Year, Week, PromoDuration.\n",
        "2. **Negative Corelation**- DayOfWeek, StateHoliday, ComptitionDistance, CompetitionOpenSinceMonth, Promo2, Promo2SinceWeek,Promo2SinceYear, 'PromoInterval_Feb,May,Aug,Nov, 'PromoInterval_Jan,Apr,Jul,Oct, PromoInterval_Mar,Jun,Sept,Dec, Day, CompetitionDuration.\n",
        "3. **No Corelation**- Store, StoreType_c, StoreType_d\n",
        "\n",
        "We have used **Filter method** with correlation heatmap and VIF(various inflation factor) and excluded some of the features that were creating noise while model implimentation.Also, we have removed multicolinearity and selected features that are highly dependant on our target variable."
      ]
    },
    {
      "cell_type": "markdown",
      "metadata": {
        "id": "-NlLuSmSxpcf"
      },
      "source": [
        "##### Which all features you found important and why?"
      ]
    },
    {
      "cell_type": "markdown",
      "metadata": {
        "id": "jfNI9Cq2xpcf"
      },
      "source": [
        "We have selected \"DayOfWeek\",\"Customers\",\"Promo\",\"StateHoliday\",\"SchoolHoliday\",\"CompetitionDistance\",\"Promo2\",\"StoreType_b\",\"StoreType_c\",\"StoreType_d\",\"Assortment_c\",\"PromoInterval_Feb,May,Aug,Nov\",\"PromoInterval_Mar,Jun,Sept,Dec\",\"Day\",\"CompetitionDuration\" as our final features as they are highly corelated with the target variable (Sales) and no two features are providing the same information."
      ]
    },
    {
      "cell_type": "markdown",
      "metadata": {
        "id": "-LbTCGwGxpcf"
      },
      "source": [
        "### 5. Data Transformation"
      ]
    },
    {
      "cell_type": "markdown",
      "metadata": {
        "id": "CtAoKdV6xpcf"
      },
      "source": [
        "#### Do you think that your data needs to be transformed? If yes, which transformation have you used. Explain Why?"
      ]
    },
    {
      "cell_type": "code",
      "execution_count": null,
      "metadata": {
        "id": "LvD5r4-rxpcg"
      },
      "outputs": [],
      "source": [
        "# checking which of the variables are continous in nature\n",
        "for i in final_df.columns:\n",
        "  print(f\"The number of unique counts in feature {i} is: {final_df[i].nunique()}\")"
      ]
    },
    {
      "cell_type": "code",
      "execution_count": null,
      "metadata": {
        "id": "uz8JKoGhU444"
      },
      "outputs": [],
      "source": [
        "# Storing the continous variables(number of unique counts >40) in a separate list and treating them in order to make gaussian distribution\n",
        "cont_variables= [\"Sales\", \"Customers\", \"CompetitionDistance\", \"CompetitionDuration\"]"
      ]
    },
    {
      "cell_type": "code",
      "execution_count": null,
      "metadata": {
        "id": "d5XgK4L6VLc0"
      },
      "outputs": [],
      "source": [
        "# Checking the distribution of each continous variable from our final dataframe\n",
        "plt.figure(figsize=(20,5))\n",
        "print(\"Before Applying Transformation\")\n",
        "for n,col in enumerate(cont_variables):\n",
        "  plt.subplot(1,5,n+1)\n",
        "  sns.distplot(final_df[col])\n",
        "  plt.title(f'Distribution of {col}')\n",
        "  plt.tight_layout()"
      ]
    },
    {
      "cell_type": "markdown",
      "metadata": {
        "id": "e-3TC6mtxpch"
      },
      "source": [
        "It is clear from above distribution plots that they are not perfectly normally distributed. So we will apply some transformation techniques to get the normally disrtibuted data as it is one of the prior underlying assumption for the linear models such as Linear Regression. "
      ]
    },
    {
      "cell_type": "code",
      "execution_count": null,
      "metadata": {
        "id": "6nBbP1VOftrW"
      },
      "outputs": [],
      "source": [
        "import matplotlib.pyplot as plt\n",
        "import scipy.stats as stat\n",
        "import pylab \n",
        "#### If you want to check whether feature is guassian or normal distributed\n",
        "#### Q-Q plot\n",
        "def plot_data(df,feature):\n",
        "    stat.probplot(df[feature],dist='norm',plot=pylab)"
      ]
    },
    {
      "cell_type": "code",
      "execution_count": null,
      "metadata": {
        "id": "vL1WSz_EftmM"
      },
      "outputs": [],
      "source": [
        "plt.figure(figsize=(20,5))\n",
        "for num,column in enumerate(cont_variables):\n",
        "  plt.subplot(1,5,num+1)\n",
        "  print(f\"Q-Q Plot for variable: {column}\")\n",
        "  plot_data(final_df,column)\n",
        "plt.show()"
      ]
    },
    {
      "cell_type": "markdown",
      "metadata": {
        "id": "KVpR_fnhxpci"
      },
      "source": [
        "As it is clear from above plots that our continous numeric features are not following perfectly normal distribution trend. So, now we will try various transformations techniques to get gaussian distributed curve."
      ]
    },
    {
      "cell_type": "markdown",
      "metadata": {
        "id": "xwlOvODgxpci"
      },
      "source": [
        "Let's create different copies and check which transformation is best for each feature"
      ]
    },
    {
      "cell_type": "code",
      "execution_count": null,
      "metadata": {
        "id": "azB0t31Sp8Hv"
      },
      "outputs": [],
      "source": [
        "# Creating 5 different copies to check the distribution of each of the variable\n",
        "test_df1=final_df.copy()\n",
        "test_df2=final_df.copy()\n",
        "test_df3=final_df.copy()\n",
        "test_df4=final_df.copy()\n",
        "test_df5=final_df.copy()"
      ]
    },
    {
      "cell_type": "markdown",
      "metadata": {
        "id": "SDt_IYuFKpBh"
      },
      "source": [
        "Logarithmic Transformation"
      ]
    },
    {
      "cell_type": "code",
      "execution_count": null,
      "metadata": {
        "id": "f76Tsqfefthv"
      },
      "outputs": [],
      "source": [
        "# Applying transformation on the above considered columns\n",
        "test_df1['Sales']=np.log(test_df1['Sales']+1)\n",
        "test_df1['Customers']=np.log(test_df1['Customers']+1)\n",
        "test_df1['CompetitionDistance']=np.log(test_df1['CompetitionDistance']+1)\n",
        "test_df1['CompetitionDuration']=np.log(test_df1['CompetitionDuration']+1)\n",
        "\n",
        "# Checking the distribution of each continous variable by excluding 0 from our final dataframe\n",
        "plt.figure(figsize=(20,5))\n",
        "print(\"After Applying Transformation\")\n",
        "for n,col in enumerate(cont_variables):\n",
        "  plt.subplot(1,5,n+1)\n",
        "  sns.distplot(test_df1[col])\n",
        "  plt.title(f'Distribution of {col}')\n",
        "  plt.tight_layout()"
      ]
    },
    {
      "cell_type": "code",
      "execution_count": null,
      "metadata": {
        "id": "ZE7arQM5QeMJ"
      },
      "outputs": [],
      "source": [
        "plt.figure(figsize=(20,5))\n",
        "for num,column in enumerate(cont_variables):\n",
        "  plt.subplot(1,5,num+1)\n",
        "  print(f\"Q-Q Plot for variable: {column}\")\n",
        "  plot_data(test_df1,column)\n",
        "plt.show()"
      ]
    },
    {
      "cell_type": "markdown",
      "metadata": {
        "id": "dBw5FwQpKuaW"
      },
      "source": [
        "Reciprocal Trnasformation"
      ]
    },
    {
      "cell_type": "code",
      "execution_count": null,
      "metadata": {
        "id": "FYV2G-uvftcQ"
      },
      "outputs": [],
      "source": [
        "# Applying transformation on the above considered columns\n",
        "test_df2['Sales']=1/(test_df2['Sales']+1)\n",
        "test_df2['Customers']=1/(test_df2['Customers']+1)\n",
        "test_df2['CompetitionDistance']=1/(test_df2['CompetitionDistance']+1)\n",
        "test_df2['CompetitionDuration']=1/(test_df2['CompetitionDuration']+1)\n",
        "\n",
        "\n",
        "# Checking the distribution of each continous variable by excluding 0 from our final dataframe\n",
        "plt.figure(figsize=(20,5))\n",
        "print(\"After Applying Transformation\")\n",
        "for n,col in enumerate(cont_variables):\n",
        "  plt.subplot(1,5,n+1)\n",
        "  sns.distplot(test_df2[col])\n",
        "  plt.title(f'Distribution of {col}')\n",
        "  plt.tight_layout()"
      ]
    },
    {
      "cell_type": "code",
      "execution_count": null,
      "metadata": {
        "id": "hi_O6XslRVaX"
      },
      "outputs": [],
      "source": [
        "plt.figure(figsize=(20,5))\n",
        "for num,column in enumerate(cont_variables):\n",
        "  plt.subplot(1,5,num+1)\n",
        "  print(f\"Q-Q Plot for variable: {column}\")\n",
        "  plot_data(test_df2,column)\n",
        "plt.show()"
      ]
    },
    {
      "cell_type": "markdown",
      "metadata": {
        "id": "cONtCYJfL3pK"
      },
      "source": [
        "Square Root Transformation"
      ]
    },
    {
      "cell_type": "code",
      "execution_count": null,
      "metadata": {
        "id": "UGG5lxOBL7Ds"
      },
      "outputs": [],
      "source": [
        "# Applying transformation on the above considered columns\n",
        "test_df3['Sales']=(test_df3['Sales'])**(1/2)\n",
        "test_df3['Customers']=(test_df3['Customers'])**(1/2)\n",
        "test_df3['CompetitionDistance']=(test_df3['CompetitionDistance'])**(1/2)\n",
        "test_df3['CompetitionDuration']=(test_df3['CompetitionDuration'])**(1/2)\n",
        "\n",
        "# Checking the distribution of each continous variable by excluding 0 from our final dataframe\n",
        "plt.figure(figsize=(20,5))\n",
        "print(\"After Applying Transformation\")\n",
        "for n,col in enumerate(cont_variables):\n",
        "  plt.subplot(1,5,n+1)\n",
        "  sns.distplot(test_df3[col])\n",
        "  plt.title(f'Distribution of {col}')\n",
        "  plt.tight_layout()"
      ]
    },
    {
      "cell_type": "code",
      "execution_count": null,
      "metadata": {
        "id": "SuPANogeRd9B"
      },
      "outputs": [],
      "source": [
        "plt.figure(figsize=(20,5))\n",
        "for num,column in enumerate(cont_variables):\n",
        "  plt.subplot(1,5,num+1)\n",
        "  print(f\"Q-Q Plot for variable: {column}\")\n",
        "  plot_data(test_df3,column)\n",
        "plt.show()"
      ]
    },
    {
      "cell_type": "markdown",
      "metadata": {
        "id": "idbn3TZINmxC"
      },
      "source": [
        "Exponential Transformation"
      ]
    },
    {
      "cell_type": "code",
      "execution_count": null,
      "metadata": {
        "id": "mwMJvVA0L6_u"
      },
      "outputs": [],
      "source": [
        "# Applying transformation on the above considered columns\n",
        "test_df4['Sales']=(test_df4['Sales'])**(1/1.2)\n",
        "test_df4['Customers']=(test_df4['Customers'])**(1/1.2)\n",
        "test_df4['CompetitionDistance']=(test_df4['CompetitionDistance'])**(1/1.2)\n",
        "test_df4['CompetitionDuration']=(test_df4['CompetitionDuration'])**(1/1.2)\n",
        "\n",
        "# Checking the distribution of each continous variable by excluding 0 from our final dataframe\n",
        "plt.figure(figsize=(20,5))\n",
        "print(\"After Applying Transformation\")\n",
        "for n,col in enumerate(cont_variables):\n",
        "  plt.subplot(1,5,n+1)\n",
        "  sns.distplot(test_df4[col])\n",
        "  plt.title(f'Distribution of {col}')\n",
        "  plt.tight_layout()"
      ]
    },
    {
      "cell_type": "code",
      "execution_count": null,
      "metadata": {
        "id": "WuRKLIOLD5qi"
      },
      "outputs": [],
      "source": [
        "plt.figure(figsize=(20,5))\n",
        "for num,column in enumerate(cont_variables):\n",
        "  plt.subplot(1,5,num+1)\n",
        "  print(f\"Q-Q Plot for variable: {column}\")\n",
        "  plot_data(test_df4,column)\n",
        "plt.show()"
      ]
    },
    {
      "cell_type": "markdown",
      "metadata": {
        "id": "mC4lzsQqtfvX"
      },
      "source": [
        "From the above plots it is clear that:\n",
        "1. Feature \"Sales\" needs square root transformation\n",
        "2. Feature \"Customers\" needs square root transformation\n",
        "3. Feature \"CompetitionDistance\" needs square root transformation\n",
        "4. Feature \"CompetitionDuration\" no transformation needed"
      ]
    },
    {
      "cell_type": "code",
      "execution_count": null,
      "metadata": {
        "id": "bg67RvJIEN0m"
      },
      "outputs": [],
      "source": [
        "# Applying transformation on the above considered columns\n",
        "## Square root transformation\n",
        "final_df['Sales']=(final_df['Sales'])**(1/2)\n",
        "final_df['Customers']=(final_df['Customers'])**(1/2)\n",
        "final_df['CompetitionDistance']=(final_df['CompetitionDistance'])**(1/2)"
      ]
    },
    {
      "cell_type": "markdown",
      "metadata": {
        "id": "ZlQHmIxNxpcr"
      },
      "source": [
        "Now we have normally distributed data for all of the continous variables."
      ]
    },
    {
      "cell_type": "markdown",
      "metadata": {
        "id": "sMOKb6v9xpcr"
      },
      "source": [
        "### 6. Data Scaling"
      ]
    },
    {
      "cell_type": "markdown",
      "metadata": {
        "id": "rySt5CI4ETYj"
      },
      "source": [
        "Before scaling our data let's just seperate our \"x\" and \"y\" variables as we do not have to scale our y variable (Target variable)."
      ]
    },
    {
      "cell_type": "code",
      "execution_count": null,
      "metadata": {
        "id": "TRbjX-I5EqAe"
      },
      "outputs": [],
      "source": [
        "# Separating \"x\" and \"y\" variables\n",
        "x= final_df[[\"DayOfWeek\", \"Customers\",\"Promo\",\"StateHoliday\",\"SchoolHoliday\",\"CompetitionDistance\",\"Promo2\",\"StoreType_b\",\"StoreType_c\",\"StoreType_d\",\"Assortment_c\",\"PromoInterval_Feb,May,Aug,Nov\",\"PromoInterval_Mar,Jun,Sept,Dec\",\"Day\",\"CompetitionDuration\"]]\n",
        "y= final_df[['Sales']]\n",
        "print(x.shape)\n",
        "print(y.shape)"
      ]
    },
    {
      "cell_type": "code",
      "execution_count": null,
      "metadata": {
        "id": "Fy5R2Qfzxpcs"
      },
      "outputs": [],
      "source": [
        "# Scaling your data\n",
        "# Importing StandardScaler library\n",
        "from sklearn.preprocessing import StandardScaler"
      ]
    },
    {
      "cell_type": "code",
      "execution_count": null,
      "metadata": {
        "id": "DwR6U6a8CtrI"
      },
      "outputs": [],
      "source": [
        "# Creating object\n",
        "std_regressor= StandardScaler()"
      ]
    },
    {
      "cell_type": "code",
      "execution_count": null,
      "metadata": {
        "id": "g9moZvVLC26g"
      },
      "outputs": [],
      "source": [
        "# Fit and Transform\n",
        "x= std_regressor.fit_transform(x)"
      ]
    },
    {
      "cell_type": "markdown",
      "metadata": {
        "id": "R2Xa0Y_Bxpct"
      },
      "source": [
        "##### Which method have you used to scale you data and why?"
      ]
    },
    {
      "cell_type": "markdown",
      "metadata": {
        "id": "wo23bXec2Brn"
      },
      "source": [
        "We have used StandardScaler of sklearn library to scale our data.  This is important for us, as features on different scales can lead to poor performance or slow convergence. Standardizing the features also makes it easier to compare different features or observe the effect of a feature on the target variable(\"Sales\") by comparing the magnitude of its coefficient. Additionally, we are going to apply linear regression model for which having normally distributed data is the statistical assumption of the model, which standardization can help enforce."
      ]
    },
    {
      "cell_type": "markdown",
      "metadata": {
        "id": "KwX-f9HDxpcu"
      },
      "source": [
        "### 7. Dimesionality Reduction"
      ]
    },
    {
      "cell_type": "markdown",
      "metadata": {
        "id": "xvORg_TVxpcu"
      },
      "source": [
        "##### Do you think that dimensionality reduction is needed? Explain Why?"
      ]
    },
    {
      "cell_type": "code",
      "execution_count": null,
      "metadata": {
        "id": "yYU1RQFjxpcu"
      },
      "outputs": [],
      "source": [
        "# DImensionality Reduction (If needed)\n",
        "## Not needed for now"
      ]
    },
    {
      "cell_type": "markdown",
      "metadata": {
        "id": "OeGaBjEuxpcu"
      },
      "source": [
        "##### Which dimensionality reduction technique have you used and why? (If dimensionality reduction done on dataset.)"
      ]
    },
    {
      "cell_type": "code",
      "execution_count": null,
      "metadata": {
        "id": "oTkOZSinxpcv"
      },
      "outputs": [],
      "source": [
        "# DImensionality Reduction (If needed)\n",
        "## Not needed for now"
      ]
    },
    {
      "cell_type": "markdown",
      "metadata": {
        "id": "lGH_ZlmVxpcv"
      },
      "source": [
        "### 8. Data Splitting"
      ]
    },
    {
      "cell_type": "code",
      "execution_count": null,
      "metadata": {
        "id": "XnNnsEIaxpcv"
      },
      "outputs": [],
      "source": [
        "# Split your data to train and test. Choose Splitting ratio wisely.\n",
        "# Importing train_test_split from sklearn\n",
        "from sklearn.model_selection import train_test_split"
      ]
    },
    {
      "cell_type": "code",
      "execution_count": null,
      "metadata": {
        "id": "bjRMKb7RLWuI"
      },
      "outputs": [],
      "source": [
        "# Spliting the dataset\n",
        "x_train, x_test, y_train, y_test = train_test_split(x, y, test_size=0.2, random_state=0)"
      ]
    },
    {
      "cell_type": "code",
      "execution_count": null,
      "metadata": {
        "id": "nMo-HZohLnLJ"
      },
      "outputs": [],
      "source": [
        "# Checking the shape after spliting\n",
        "x_train.shape, x_test.shape, y_train.shape, y_test.shape"
      ]
    },
    {
      "cell_type": "markdown",
      "metadata": {
        "id": "s15s6LN4xpcw"
      },
      "source": [
        "##### What data splitting ratio have you used and why? "
      ]
    },
    {
      "cell_type": "markdown",
      "metadata": {
        "id": "0zYfhWkNxpcx"
      },
      "source": [
        "Since our dataset is huge and have nearly 10lakh obsevations. So, We have assigned 80% data into train set and 20% into the test set with random_state=0 so that we do not get different observations in every split."
      ]
    },
    {
      "cell_type": "markdown",
      "metadata": {
        "id": "x0j-UozExpcx"
      },
      "source": [
        "### 9. Handling Imbalanced Dataset"
      ]
    },
    {
      "cell_type": "markdown",
      "metadata": {
        "id": "StBPCRUBxpcx"
      },
      "source": [
        "##### Do you think the dataset is imbalanced? Explain Why."
      ]
    },
    {
      "cell_type": "code",
      "execution_count": null,
      "metadata": {
        "id": "8-5tUZqIxpcx"
      },
      "outputs": [],
      "source": [
        "# Handling Imbalanced Dataset (If needed)\n",
        "# We have alreay excluded the closed stores for which the sales are 0. So, we do not have any imabalanced data with us."
      ]
    },
    {
      "cell_type": "markdown",
      "metadata": {
        "id": "SOru1W9bxpcy"
      },
      "source": [
        "##### What technique did you use to handle the imbalance dataset and why? (If needed to be balanced)"
      ]
    },
    {
      "cell_type": "markdown",
      "metadata": {
        "id": "mP_-UAChxpcy"
      },
      "source": [
        "Not needed"
      ]
    },
    {
      "cell_type": "markdown",
      "metadata": {
        "id": "VfCC591jGiD4"
      },
      "source": [
        "## ***7. ML Model Implementation***"
      ]
    },
    {
      "cell_type": "code",
      "execution_count": null,
      "metadata": {
        "id": "wPskYeS3WQn1"
      },
      "outputs": [],
      "source": [
        "# Importing essential libraries to check the accuracy\n",
        "from sklearn.metrics import mean_absolute_error\n",
        "from sklearn.metrics import mean_squared_error\n",
        "from sklearn.metrics import r2_score\n",
        "from sklearn.metrics import mean_absolute_percentage_error"
      ]
    },
    {
      "cell_type": "code",
      "execution_count": null,
      "metadata": {
        "id": "hOyghmkfWQn1"
      },
      "outputs": [],
      "source": [
        "# Defining the function that calculated regression metrics\n",
        "def regression_metrics(y_train_actual,y_train_pred,y_test_actual,y_test_pred):\n",
        "  print(\"-\"*50)\n",
        "  ## mean_absolute_error\n",
        "  MAE_train= mean_absolute_error(y_train,y_train_pred)\n",
        "  print(\"MAE on train is:\" ,MAE_train)\n",
        "  MAE_test= mean_absolute_error(y_test,y_test_pred)\n",
        "  print(\"MAE on test is:\" ,MAE_test)\n",
        "\n",
        "  print(\"-\"*50)\n",
        "\n",
        "  ## mean_squared_error\n",
        "  MSE_train= mean_squared_error(y_train, y_train_pred)\n",
        "  print(\"MSE on train is:\" ,MSE_train)\n",
        "  MSE_test  = mean_squared_error(y_test, y_test_pred)\n",
        "  print(\"MSE on test is:\" ,MSE_test)\n",
        "\n",
        "  print(\"-\"*50)\n",
        "\n",
        "  ## root_mean_squared_error\n",
        "  RMSE_train = np.sqrt(MSE_train)\n",
        "  print(\"RMSE on train is:\" ,RMSE_train)\n",
        "  RMSE_test = np.sqrt(MSE_test)\n",
        "  print(\"RMSE on test is:\" ,RMSE_test)\n",
        "\n",
        "  print(\"-\"*50)\n",
        "\n",
        "  ## mean_absolute_percentage_error\n",
        "  MAPE_train = mean_absolute_percentage_error(y_train, y_train_pred)*100\n",
        "  print(\"MAPE on train is:\" ,MAPE_train, \" %\")\n",
        "  MAPE_test = mean_absolute_percentage_error(y_test, y_test_pred)*100\n",
        "  print(\"MAPE on test is:\" ,MAPE_test, \" %\")\n",
        "\n",
        "  print(\"-\"*50)\n",
        "\n",
        "  ## r2_score\n",
        "  R2_train= r2_score(y_train,y_train_pred)\n",
        "  print(\"R2 on train is:\" ,R2_train)  \n",
        "  R2_test= r2_score(y_test,y_test_pred)\n",
        "  print(\"R2 on test is:\" ,R2_test)\n",
        "\n",
        "  print(\"-\"*50)\n",
        "\n",
        "  Accuracy_train= 100- MAPE_train\n",
        "  print(\"Accuracy of train is:\" ,Accuracy_train, \" %\")\n",
        "  Accuracy_test= 100- MAPE_test\n",
        "  print(\"Accuracy of test is:\" ,Accuracy_test, \" %\")\n",
        "\n",
        "  print(\"-\"*50)"
      ]
    },
    {
      "cell_type": "markdown",
      "metadata": {
        "id": "OB4l2ZhMeS1U"
      },
      "source": [
        "### ML Model - 1 - **Linear Regression**"
      ]
    },
    {
      "cell_type": "code",
      "execution_count": null,
      "metadata": {
        "id": "NhvGqJe2WQn2"
      },
      "outputs": [],
      "source": [
        "# Importing LinearRegression from sklearn\n",
        "from sklearn.linear_model import LinearRegression"
      ]
    },
    {
      "cell_type": "code",
      "execution_count": null,
      "metadata": {
        "id": "7ebyywQieS1U"
      },
      "outputs": [],
      "source": [
        "# ML Model - 1 Implementation\n",
        "linear_regressor= LinearRegression()\n",
        "\n",
        "# Fit the Algorithm\n",
        "linear_regressor.fit(x_train,y_train)\n",
        "\n",
        "# Predict the model\n",
        "y_train_regression_pred= linear_regressor.predict(x_train)\n",
        "y_test_regression_pred= linear_regressor.predict(x_test)"
      ]
    },
    {
      "cell_type": "code",
      "execution_count": null,
      "metadata": {
        "id": "unqlZ5hJWQn2"
      },
      "outputs": [],
      "source": [
        "# Checking the coefficients\n",
        "linear_regressor.coef_"
      ]
    },
    {
      "cell_type": "code",
      "execution_count": null,
      "metadata": {
        "id": "37rBLXrxWQn2"
      },
      "outputs": [],
      "source": [
        "# Checking the intercept\n",
        "linear_regressor.intercept_"
      ]
    },
    {
      "cell_type": "markdown",
      "metadata": {
        "id": "ArJBuiUVfxKd"
      },
      "source": [
        "#### 1. Explain the ML Model used and it's performance using Evaluation metric Score Chart."
      ]
    },
    {
      "cell_type": "code",
      "execution_count": null,
      "metadata": {
        "id": "REIA1ZCrWQn3"
      },
      "outputs": [],
      "source": [
        "# Calculating the regression metrics\n",
        "regression_metrics(y_train,y_train_regression_pred,y_test,y_test_regression_pred)"
      ]
    },
    {
      "cell_type": "code",
      "execution_count": null,
      "metadata": {
        "id": "rqD5ZohzfxKe"
      },
      "outputs": [],
      "source": [
        "# Visualizing evaluation Metric Score chart\n",
        "# Calculating residuals\n",
        "residuals = y_test - y_test_regression_pred\n",
        "Mean= round(np.mean(residuals),2)\n",
        "Median= round(np.median(residuals),2)\n",
        "\n",
        "# Plot residuals\n",
        "plt.figure(figsize=(15,8))\n",
        "plt.scatter(y_test, residuals, c=\"dodgerblue\")\n",
        "plt.title(\"Residual Plot for Metric Evaluation\")\n",
        "plt.xlabel('Predicted Sales')\n",
        "plt.ylabel('Residual Error')\n",
        "\n",
        "# Add horizontal line at mean value of y\n",
        "plt.axhline(y=np.nanmean(residuals), color='red', linestyle='--', label=Mean[0])\n",
        "plt.axhline(y=np.nanmedian(residuals), color='green', linestyle='--', label=Median)\n",
        "plt.legend()\n",
        "\n",
        "plt.show()"
      ]
    },
    {
      "cell_type": "markdown",
      "metadata": {
        "id": "zlwVnSOAZmRJ"
      },
      "source": [
        "We have started with the most basic and simple ML model i.e Linear Regression. We have tried to evaluate the most important regression metics on both the train and test datesets so that we can conclude our ML model. Here for Linear Regression, we can observe that both the r2 scores are pretty close which explains that on test dataset and our model is following the correct way. \n",
        "\n",
        "\n",
        "We can comprehend that 'dependent' and 'independent' variables are not much following direct linear relationship with each other thats why we got 0.75 maximum r2 score in LR model implementation.\n",
        "\n",
        "Also we are getting the Mean=0.03 and Median=-0.33 in our residual plot that resembles our predictions are closely following Normal Distribution (Mean=Median=0) because of this our accuracy (100-MAPE) is pretty good in simple linear model.\n",
        "\n",
        "In order to fetch good and more accurate results, we shall go for cross- Validation & Hyperparameter Tuning of 'Lasso', 'Ridge' and 'Elastic Net' models."
      ]
    },
    {
      "cell_type": "markdown",
      "metadata": {
        "id": "4qY1EAkEfxKe"
      },
      "source": [
        "#### 2. Cross- Validation & Hyperparameter Tuning"
      ]
    },
    {
      "cell_type": "markdown",
      "metadata": {
        "id": "uX_nx7oRWQn4"
      },
      "source": [
        "Rigde Regression"
      ]
    },
    {
      "cell_type": "code",
      "execution_count": null,
      "metadata": {
        "id": "TUtozDj-WQn4"
      },
      "outputs": [],
      "source": [
        "# import ridge regression from sklearn library\n",
        "from sklearn.linear_model import Ridge\n",
        "from sklearn.model_selection import GridSearchCV\n",
        "\n",
        "# Creating Ridge instance\n",
        "ridge= Ridge()\n",
        "\n",
        "# Defining parameters\n",
        "parameters = {\"alpha\": [1e-1,1,5,7,10,11,14,15,16,17], \"max_iter\":[1,2,3]}\n",
        "\n",
        "# Train the model\n",
        "ridgeR = GridSearchCV(ridge, parameters, scoring='neg_mean_squared_error', cv=3)\n",
        "ridgeR.fit(x_train,y_train)\n",
        "\n",
        "# Predict the output\n",
        "y_train_ridge_pred = ridgeR.predict(x_train)\n",
        "y_test_ridge_pred = ridgeR.predict(x_test)\n",
        "\n",
        "# Printing the best parameters obtained by GridSearchCV\n",
        "print(f\"The best alpha value found out to be: {ridgeR.best_params_}\")\n",
        "print(f\"Negative mean square error is: {ridgeR.best_score_}\")"
      ]
    },
    {
      "cell_type": "code",
      "execution_count": null,
      "metadata": {
        "id": "EdmgLEwVWQn4"
      },
      "outputs": [],
      "source": [
        "# Calculating regression metrics for Ridge\n",
        "regression_metrics(y_train,y_train_ridge_pred,y_test,y_test_ridge_pred)"
      ]
    },
    {
      "cell_type": "markdown",
      "metadata": {
        "id": "ThrJ9pGEWQn4"
      },
      "source": [
        "Lasso Regression"
      ]
    },
    {
      "cell_type": "code",
      "execution_count": null,
      "metadata": {
        "id": "CGZlrBaIWQn4"
      },
      "outputs": [],
      "source": [
        "# import lasso regression from sklearn library\n",
        "from sklearn.linear_model import Lasso\n",
        "from sklearn.model_selection import GridSearchCV\n",
        "\n",
        "# Creating Ridge instance\n",
        "lasso= Lasso()\n",
        "\n",
        "# Defining parameters\n",
        "parameters_lasso = {\"alpha\": [1e-5,1e-4,1e-3,1e-2,1e-1,1,5], \"max_iter\":[7,8,9,10]}\n",
        "\n",
        "# Train the model\n",
        "lassoR = GridSearchCV(lasso, parameters_lasso, scoring='neg_mean_squared_error', cv=5)\n",
        "lassoR.fit(x_train,y_train)\n",
        "\n",
        "# Predict the output\n",
        "y_train_lasso_pred = lassoR.predict(x_train)\n",
        "y_test_lasso_pred = lassoR.predict(x_test)\n",
        "\n",
        "# Printing the best parameters obtained by GridSearchCV\n",
        "print(f\"The best alpha value found out to be: {lassoR.best_params_}\")\n",
        "print(f\"Negative mean square error is: {lassoR.best_score_}\")"
      ]
    },
    {
      "cell_type": "code",
      "execution_count": null,
      "metadata": {
        "id": "a-dUSnniWQn5"
      },
      "outputs": [],
      "source": [
        "# Calculating regression metrics for Lasso\n",
        "regression_metrics(y_train,y_train_lasso_pred,y_test,y_test_lasso_pred)"
      ]
    },
    {
      "cell_type": "markdown",
      "metadata": {
        "id": "aoZ05BbhWQn5"
      },
      "source": [
        "Elastic Net Regression"
      ]
    },
    {
      "cell_type": "code",
      "execution_count": null,
      "metadata": {
        "id": "T9mmh28iWQn5"
      },
      "outputs": [],
      "source": [
        "# import elastic net regression from sklearn library\n",
        "from sklearn.linear_model import ElasticNet\n",
        "from sklearn.model_selection import GridSearchCV\n",
        "\n",
        "# Creating e_net instance\n",
        "e_net= ElasticNet()\n",
        "\n",
        "# Defining hyperparameters\n",
        "parameters_e_net = {\"alpha\": [1e-5,1e-4,1e-3,1e-2,1,5], \"max_iter\":[12,13,14,15]}\n",
        "\n",
        "# Train the model\n",
        "e_netR = GridSearchCV(e_net, parameters_e_net, scoring='neg_mean_squared_error', cv=5)\n",
        "e_netR.fit(x_train,y_train)\n",
        "\n",
        "# Predict the output\n",
        "y_train_e_net_pred = e_netR.predict(x_train)\n",
        "y_test_e_net_pred = e_netR.predict(x_test)\n",
        "\n",
        "# Printing the best parameters obtained by GridSearchCV\n",
        "print(f\"The best alpha value found out to be: {e_netR.best_params_}\")\n",
        "print(f\"Negative mean square error is: {e_netR.best_score_}\")"
      ]
    },
    {
      "cell_type": "code",
      "execution_count": null,
      "metadata": {
        "id": "XhzFP9rSWQn5"
      },
      "outputs": [],
      "source": [
        "# Calculating regression metrics for Elastic Net\n",
        "regression_metrics(y_train,y_train_e_net_pred,y_test,y_test_e_net_pred)"
      ]
    },
    {
      "cell_type": "markdown",
      "metadata": {
        "id": "PiV4Ypx8fxKe"
      },
      "source": [
        "##### Which hyperparameter optimization technique have you used and why?"
      ]
    },
    {
      "cell_type": "markdown",
      "metadata": {
        "id": "negyGRa7fxKf"
      },
      "source": [
        "We have used GridSearchCV as the hyperparameter optimization technique as it uses all possible combinations of hyperparameters and their values. It then calculates the performance for each combination and selects the best value for the hyperparameters. This offers the most accurate tuning method."
      ]
    },
    {
      "cell_type": "markdown",
      "metadata": {
        "id": "TfvqoZmBfxKf"
      },
      "source": [
        "##### Have you seen any improvement? Note down the improvement with updates Evaluation metric Score Chart."
      ]
    },
    {
      "cell_type": "markdown",
      "metadata": {
        "id": "OaLui8CcfxKf"
      },
      "source": [
        "Despite using Lasso, Ridge and Elastic net models, we couldn't see any significant improvement in the r2 score, MSE and on MAPE as well. This provoked us to go for higher and more complex ML models like Decision trees, Random Forest, XGBoost Regression and LightGBM Regression."
      ]
    },
    {
      "cell_type": "markdown",
      "metadata": {
        "id": "dJ2tPlVmpsJ0"
      },
      "source": [
        "### ML Model - 2 - **Decision Trees**"
      ]
    },
    {
      "cell_type": "markdown",
      "metadata": {
        "id": "slrlTtyZWQn7"
      },
      "source": [
        "Decision Tree"
      ]
    },
    {
      "cell_type": "code",
      "execution_count": null,
      "metadata": {
        "id": "4axEfv8DWQn7"
      },
      "outputs": [],
      "source": [
        "# import the regressor\n",
        "from sklearn.tree import DecisionTreeRegressor \n",
        "  \n",
        "# create a regressor object\n",
        "TreeR = DecisionTreeRegressor(max_depth=16) \n",
        "  \n",
        "# fit the regressor with X and Y data\n",
        "TreeR.fit(x_train, y_train)\n",
        "\n",
        "# predict the model\n",
        "y_train_tree_pred= TreeR.predict(x_train)\n",
        "y_test_tree_pred= TreeR.predict(x_test)"
      ]
    },
    {
      "cell_type": "code",
      "execution_count": null,
      "metadata": {
        "id": "OodaNvNxWQn7"
      },
      "outputs": [],
      "source": [
        "# Calculating Regression Metrics\n",
        "regression_metrics(y_train,y_train_tree_pred,y_test,y_test_tree_pred)"
      ]
    },
    {
      "cell_type": "code",
      "execution_count": null,
      "metadata": {
        "id": "YCh34kkGWQn8"
      },
      "outputs": [],
      "source": [
        "# Importing libraries for visualizing decison tree\n",
        "from sklearn.tree import DecisionTreeClassifier, export_graphviz\n",
        "from sklearn import tree\n",
        "from IPython.display import SVG\n",
        "from graphviz import Source\n",
        "from IPython.display import display"
      ]
    },
    {
      "cell_type": "code",
      "execution_count": null,
      "metadata": {
        "id": "kgcIGaCJWQn8"
      },
      "outputs": [],
      "source": [
        "# # Visualizing the Decision tree\n",
        "# plt.figure(figsize=(5,50))\n",
        "# graph = Source(tree.export_graphviz(TreeR, out_file=None, feature_names=final_df.columns[:-1], class_names=['0', '1'] , filled = True))\n",
        "# display(SVG(graph.pipe(format='svg')))"
      ]
    },
    {
      "cell_type": "markdown",
      "metadata": {
        "id": "JWYfwnehpsJ1"
      },
      "source": [
        "#### 1. Explain the ML Model used and it's performance using Evaluation metric Score Chart."
      ]
    },
    {
      "cell_type": "code",
      "execution_count": null,
      "metadata": {
        "id": "yEl-hgQWpsJ1"
      },
      "outputs": [],
      "source": [
        "# Visualizing evaluation Metric Score chart\n",
        "# Calculating residuals\n",
        "y_test_tree_pred= y_test_tree_pred.reshape(-1,1)\n",
        "residuals_DT = y_test - y_test_tree_pred\n",
        "Mean= round(np.mean(residuals_DT),2)\n",
        "Median= round(np.median(residuals_DT),2)\n",
        "\n",
        "# Plot residuals\n",
        "plt.figure(figsize=(15,8))\n",
        "plt.scatter(y_test, residuals_DT, c=\"lightgreen\")\n",
        "plt.title(\"Residual Plot for Metric Evaluation\")\n",
        "plt.xlabel('Predicted Sales')\n",
        "plt.ylabel('Residual Error')\n",
        "\n",
        "# Add horizontal line at mean value of y\n",
        "plt.axhline(y=np.nanmean(residuals_DT), color='red', linestyle='--', label=Mean[0])\n",
        "plt.axhline(y=np.nanmedian(residuals_DT), color='green', linestyle='--', label=Median)\n",
        "plt.legend()\n",
        "\n",
        "plt.show()"
      ]
    },
    {
      "cell_type": "markdown",
      "metadata": {
        "id": "CI1jFORMZ8ed"
      },
      "source": [
        "After simple LR models, we tried 'Decision Tree' and we saw a good increment in the r2 score from 0.75 to 0.90 that means \"90% Variance of our test dataset is captured by our trained model\" which is excellent. On the other side our RMSE also decreased and shifted below 5(=4.7) which is very good.Also accuracy increased from 93% to 95%. On the other hand from the residual plot our values of mean and median are shifting towards 0 that means our model is improving. But, in the quest of more accurate and real predictions, we decided to further tune the hyperparameters and check the results."
      ]
    },
    {
      "cell_type": "markdown",
      "metadata": {
        "id": "-jK_YjpMpsJ2"
      },
      "source": [
        "#### 2. Cross- Validation & Hyperparameter Tuning"
      ]
    },
    {
      "cell_type": "markdown",
      "metadata": {
        "id": "HAOPuoOUWQn9"
      },
      "source": [
        "Decision Tree with GridSearchCV"
      ]
    },
    {
      "cell_type": "code",
      "execution_count": null,
      "metadata": {
        "id": "sOXG1PMPWQn-"
      },
      "outputs": [],
      "source": [
        "# import ridge regression from sklearn library\n",
        "from sklearn.tree import DecisionTreeRegressor\n",
        "from sklearn.model_selection import GridSearchCV\n",
        "\n",
        "# Creating Ridge instance\n",
        "decision_tree= DecisionTreeRegressor()\n",
        "\n",
        "# Defining parameters\n",
        "parameters= {'max_depth': [16,17,18], 'min_samples_leaf': [6,7,8], 'min_samples_split': [1,2,4]}\n",
        "\n",
        "# Train the model\n",
        "decision_treeR = GridSearchCV(decision_tree, parameters, scoring='neg_mean_squared_error', cv=3)\n",
        "decision_treeR.fit(x_train,y_train)\n",
        "\n",
        "# Predict the output\n",
        "y_train_grid_Dtree_pred = decision_treeR.predict(x_train)\n",
        "y_test_grid_Dtree_pred = decision_treeR.predict(x_test)\n",
        "\n",
        "# Printing the best parameters obtained by GridSearchCV\n",
        "print(f\"The best alpha value found out to be: {decision_treeR.best_params_}\")\n",
        "print(f\"Negative mean square error is: {decision_treeR.best_score_}\")"
      ]
    },
    {
      "cell_type": "code",
      "execution_count": null,
      "metadata": {
        "id": "MRlM8W_3WQn-"
      },
      "outputs": [],
      "source": [
        "# Calculating Regression Metrics\n",
        "regression_metrics(y_train,y_train_grid_Dtree_pred,y_test,y_test_grid_Dtree_pred)"
      ]
    },
    {
      "cell_type": "markdown",
      "metadata": {
        "id": "HAih1iBOpsJ2"
      },
      "source": [
        "##### Which hyperparameter optimization technique have you used and why?"
      ]
    },
    {
      "cell_type": "markdown",
      "metadata": {
        "id": "9kBgjYcdpsJ2"
      },
      "source": [
        "We have used GridSearchCV as the hyperparameter optimization technique as it uses all possible combinations of hyperparameters and provides the more accurate results. It then calculates the performance for each combination and selects the best value for the hyperparameters. This offers the most accurate tuning method."
      ]
    },
    {
      "cell_type": "markdown",
      "metadata": {
        "id": "zVGeBEFhpsJ2"
      },
      "source": [
        "##### Have you seen any improvement? Note down the improvement with updates Evaluation metric Score Chart."
      ]
    },
    {
      "cell_type": "markdown",
      "metadata": {
        "id": "74yRdG6UpsJ3"
      },
      "source": [
        "We have used different combinations of parameters to get the best value of r2 score and least MAPE for our case. The best combination was found out to be  {'max_depth': 18, 'min_samples_leaf': 7, 'min_samples_split': 4} which resulted into the improvement in the MSE from 22% to 19% on the test set. Also MAPE is further reduced from 4% to 3% and capturing variance 1% more i.e 91% of the test dataset. At this point of time we have achieved above 95% (=96.30%) accuracy by hyperparameter tuning of Decision trees."
      ]
    },
    {
      "cell_type": "markdown",
      "metadata": {
        "id": "bmKjuQ-FpsJ3"
      },
      "source": [
        "#### 3. Explain each evaluation metric's indication towards business and the business impact pf the ML model used."
      ]
    },
    {
      "cell_type": "markdown",
      "metadata": {
        "id": "BDKtOrBQpsJ3"
      },
      "source": [
        "In order to minimise the errors between actual and predicted values, we evaluate our ML model using different metrics. All these metrics try to give us an indication on how close we are with the real/expected output. In our case, each evaluation metric is showing not much difference on the train and test data which shows that our model is predicting a closer expected value. So the sales, the dependent variable, which impacts the business is getting accurately predicted to the extent of ~96% and ~3% far from the mean of actual absolute values."
      ]
    },
    {
      "cell_type": "markdown",
      "metadata": {
        "id": "Fze-IPXLpx6K"
      },
      "source": [
        "### ML Model - 3 - **Random Forest Regression**"
      ]
    },
    {
      "cell_type": "markdown",
      "metadata": {
        "id": "JnTsQwgtWQoB"
      },
      "source": [
        "Random Forest"
      ]
    },
    {
      "cell_type": "code",
      "execution_count": null,
      "metadata": {
        "id": "NBpH7fhHWQoB"
      },
      "outputs": [],
      "source": [
        "# import the regressor\n",
        "from sklearn.ensemble import RandomForestRegressor \n",
        "  \n",
        "# create a regressor object\n",
        "RF_TreeR = RandomForestRegressor(n_estimators=100, max_depth=18) \n",
        "  \n",
        "# fit the regressor with X and Y data\n",
        "RF_TreeR.fit(x_train, y_train)\n",
        "\n",
        "# predict the model\n",
        "y_train_RFtree_pred= RF_TreeR.predict(x_train)\n",
        "y_test_RFtree_pred= RF_TreeR.predict(x_test)"
      ]
    },
    {
      "cell_type": "code",
      "execution_count": null,
      "metadata": {
        "id": "4r814f34WQoB"
      },
      "outputs": [],
      "source": [
        "# Calculating Regression Metrics using RandomForestRegressor\n",
        "regression_metrics(y_train,y_train_RFtree_pred,y_test,y_test_RFtree_pred)"
      ]
    },
    {
      "cell_type": "markdown",
      "metadata": {
        "id": "7AN1z2sKpx6M"
      },
      "source": [
        "#### 1. Explain the ML Model used and it's performance using Evaluation metric Score Chart."
      ]
    },
    {
      "cell_type": "code",
      "execution_count": null,
      "metadata": {
        "id": "xIY4lxxGpx6M"
      },
      "outputs": [],
      "source": [
        "# Visualizing evaluation Metric Score chart\n",
        "# Calculating residuals\n",
        "y_test_RFtree_pred= y_test_RFtree_pred.reshape(-1,1)\n",
        "residuals_RF = y_test - y_test_RFtree_pred\n",
        "Mean= round(np.mean(residuals_RF),2)\n",
        "Median= round(np.median(residuals_RF),2)\n",
        "\n",
        "# Plot residuals\n",
        "plt.figure(figsize=(15,8))\n",
        "plt.scatter(y_test, residuals_DT, c=\"tomato\")\n",
        "plt.title(\"Residual Plot for Metric Evaluation\")\n",
        "plt.xlabel('Predicted Sales')\n",
        "plt.ylabel('Residual Error')\n",
        "\n",
        "# Add horizontal line at mean value of y\n",
        "plt.axhline(y=np.nanmean(residuals_RF), color='red', linestyle='--', label=Mean[0])\n",
        "plt.axhline(y=np.nanmedian(residuals_RF), color='green', linestyle='--', label=Median)\n",
        "plt.legend()\n",
        "\n",
        "plt.show()"
      ]
    },
    {
      "cell_type": "markdown",
      "metadata": {
        "id": "hFT1lLrvaa0o"
      },
      "source": [
        "By implimenting using our third model i.e Random Forest we have achieved the r2 score of 0.95 on training and 0.93 on test dataset that is very good MSE also reduced from 19 to 17 and that means our model is moving towards optimal model. Apart from this our MAPE is also reducing gradually as we are using ensemble of Decision trees that is Bootstrap Aggregation(Bagging) so it is giving equal preference each of the feature while spliting.\n",
        "\n",
        "We got the Mean=0.02 and Median=-0.09 this shows that as our accuracy increases, our mean and median are shifting towards 0 and the residual error is tending toward gaussian distribution.\n",
        "\n",
        "In order to get the higher accuracy let's perform hyperparameter tuning for the same model and see if we are getting significant results."
      ]
    },
    {
      "cell_type": "markdown",
      "metadata": {
        "id": "9PIHJqyupx6M"
      },
      "source": [
        "#### 2. Cross- Validation & Hyperparameter Tuning"
      ]
    },
    {
      "cell_type": "markdown",
      "metadata": {
        "id": "KmgTeOtdWQoC"
      },
      "source": [
        "Random Forest with RandomizedSearchCV"
      ]
    },
    {
      "cell_type": "code",
      "execution_count": null,
      "metadata": {
        "id": "ELBvRUPTWQoC"
      },
      "outputs": [],
      "source": [
        "# import ridge regression from sklearn library\n",
        "from sklearn.ensemble import RandomForestRegressor\n",
        "from sklearn.model_selection import RandomizedSearchCV\n",
        "\n",
        "# Creating Ridge instance\n",
        "RF_tree= RandomForestRegressor()\n",
        "\n",
        "# Defining parameters\n",
        "parameters= {'n_estimators':[100], 'max_depth': [19,20], 'min_samples_leaf': [1, 2]}\n",
        "\n",
        "# Train the model\n",
        "RF_treeR = RandomizedSearchCV(RF_tree, parameters, n_iter=3, n_jobs=-1, scoring='neg_mean_squared_error', cv=3,  verbose=3)\n",
        "RF_treeR.fit(x_train,y_train)\n",
        "\n",
        "# Predict the output\n",
        "y_train_grid_RFtree_pred = RF_treeR.predict(x_train)\n",
        "y_test_grid_RFtree_pred = RF_treeR.predict(x_test)\n",
        "\n",
        "# Printing the best parameters obtained by GridSearchCV\n",
        "print(f\"The best alpha value found out to be: {RF_treeR.best_params_}\")\n",
        "print(f\"Negative mean square error is: {RF_treeR.best_score_}\")"
      ]
    },
    {
      "cell_type": "code",
      "execution_count": null,
      "metadata": {
        "id": "9sUSdw-iWQoD"
      },
      "outputs": [],
      "source": [
        "# Calculating Regression Metrics using GridSearchCV in RandomForestRegressor\n",
        "regression_metrics(y_train,y_train_grid_RFtree_pred,y_test,y_test_grid_RFtree_pred)"
      ]
    },
    {
      "cell_type": "markdown",
      "metadata": {
        "id": "_-qAgymDpx6N"
      },
      "source": [
        "##### Which hyperparameter optimization technique have you used and why?"
      ]
    },
    {
      "cell_type": "markdown",
      "metadata": {
        "id": "lQMffxkwpx6N"
      },
      "source": [
        "We have used RandomizedSearchCV in Random Forest since we have huge dataset and it is good for huge and complex models where we just want to select random parameters from the bag of parameters. It reduces the processing and training time by taking the random subsets of the provided parameters wihout compromising the accuracy of the model."
      ]
    },
    {
      "cell_type": "markdown",
      "metadata": {
        "id": "Z-hykwinpx6N"
      },
      "source": [
        "##### Have you seen any improvement? Note down the improvement with updates Evaluation metric Score Chart."
      ]
    },
    {
      "cell_type": "markdown",
      "metadata": {
        "id": "MzVzZC6opx6N"
      },
      "source": [
        "After using RandomizedSearchCV with different hyperparameters we saw that their is not much significant improvement observed. Although MSE on test dataset has been reduced from 14 to 13."
      ]
    },
    {
      "cell_type": "markdown",
      "metadata": {
        "id": "sjrnsZusWQoE"
      },
      "source": [
        "### ML Model - 4 - **LightGBM Regression**"
      ]
    },
    {
      "cell_type": "markdown",
      "metadata": {
        "id": "Jv63aETpWQoF"
      },
      "source": [
        "LightGBM Regression"
      ]
    },
    {
      "cell_type": "code",
      "execution_count": null,
      "metadata": {
        "id": "ADSC9MGcWQoF"
      },
      "outputs": [],
      "source": [
        "# import the regressor\n",
        "from lightgbm import LGBMRegressor\n",
        "  \n",
        "# create a regressor object\n",
        "lgbmR = LGBMRegressor(boosting_type='gbdt', max_depth=120, learning_rate=0.1, n_estimators=500,  n_jobs=-1) \n",
        "  \n",
        "# fit the regressor with X and Y data\n",
        "lgbmR.fit(x_train, y_train)\n",
        "\n",
        "# predict the model\n",
        "y_train_lgbmR_pred= lgbmR.predict(x_train)\n",
        "y_test_lgbmrR_pred= lgbmR.predict(x_test)"
      ]
    },
    {
      "cell_type": "code",
      "execution_count": null,
      "metadata": {
        "id": "STMmtNmHWQoF"
      },
      "outputs": [],
      "source": [
        "# Calculating Regression Metrics using RandomForestRegressor\n",
        "regression_metrics(y_train, y_train_lgbmR_pred, y_test, y_test_lgbmrR_pred)"
      ]
    },
    {
      "cell_type": "markdown",
      "metadata": {
        "id": "FQFQTTmXWQoF"
      },
      "source": [
        "#### 1. Explain the ML Model used and it's performance using Evaluation metric Score Chart."
      ]
    },
    {
      "cell_type": "code",
      "execution_count": null,
      "metadata": {
        "id": "SX8kEd6TWQoG"
      },
      "outputs": [],
      "source": [
        "# Visualizing evaluation Metric Score chart\n",
        "# Calculating residuals\n",
        "y_test_lgbmrR_pred= y_test_lgbmrR_pred.reshape(-1,1)\n",
        "residuals_LGBM = y_test - y_test_lgbmrR_pred\n",
        "Mean= round(np.mean(residuals_LGBM),2)\n",
        "Median= round(np.median(residuals_LGBM),2)\n",
        "\n",
        "# Plot residuals\n",
        "plt.figure(figsize=(15,8))\n",
        "plt.scatter(y_test, residuals_DT, c=\"gold\")\n",
        "plt.title(\"Residual Plot for Metric Evaluation\")\n",
        "plt.xlabel('Predicted Sales')\n",
        "plt.ylabel('Residual Error')\n",
        "\n",
        "# Add horizontal line at mean value of y\n",
        "plt.axhline(y=np.nanmean(residuals_LGBM), color='red', linestyle='--', label=Mean[0])\n",
        "plt.axhline(y=np.nanmedian(residuals_LGBM), color='green', linestyle='--', label=Median)\n",
        "plt.legend()\n",
        "\n",
        "plt.show()"
      ]
    },
    {
      "cell_type": "markdown",
      "metadata": {
        "id": "9rO0OX43a8Gf"
      },
      "source": [
        "LightGBM is the lighter version of GBM. It has more faster and accurate than other popular gradient boosting libraries such as XGBoost on several datasets. We want to check if our accuracy score can be improved further, so we have tried implimenting LightGBM in order to achieve more accurate results.\n",
        "\n",
        "We saw that with the help of LightGBM we are able to capture 92% of the Variance of the dependent varibale with the help of independent variables(r2 score) for testing dataset and achieved 96% accuracy. Also we are getting MAPE of 3% which is similar as Random Forest.\n",
        "\n",
        "By plotting the residual plot we are getting Mean=0.02 and Median=-0.12 and it denotes that residuals are close to normal distribution.\n",
        "\n",
        "We have further checked the performance metrics by hyperparameter tuning of LightGBM."
      ]
    },
    {
      "cell_type": "markdown",
      "metadata": {
        "id": "9ZmBNoqDWQoG"
      },
      "source": [
        "#### 2. Cross- Validation & Hyperparameter Tuning"
      ]
    },
    {
      "cell_type": "markdown",
      "metadata": {
        "id": "Xpw5U-nMWQoH"
      },
      "source": [
        "LightGBM with RandomizedSearchCV"
      ]
    },
    {
      "cell_type": "code",
      "execution_count": null,
      "metadata": {
        "id": "0_adkavtWQoH"
      },
      "outputs": [],
      "source": [
        "# import ridge regression from sklearn library and RandomizedSearchCV\n",
        "from sklearn.model_selection import RandomizedSearchCV\n",
        "\n",
        "# Creating XGBoost instance\n",
        "lgbm= LGBMRegressor()\n",
        "\n",
        "# Defining parameters\n",
        "parameters={\"learning_rate\":[0.01,0.1],\"max_depth\":[120,125,150],\"n_estimators\":[500,600]}\n",
        "\n",
        "# Train the model\n",
        "lgbm_rand_R= RandomizedSearchCV(lgbm,parameters,scoring='neg_mean_squared_error',n_jobs=-1,cv=3,verbose=3)\n",
        "lgbm_rand_R.fit(x_train,y_train)\n",
        "\n",
        "# Predict the output\n",
        "y_train_rand_lgbm_pred = lgbm_rand_R.predict(x_train)\n",
        "y_test_rand_lgbm_pred = lgbm_rand_R.predict(x_test)\n",
        "\n",
        "# Printing the best parameters obtained by GridSearchCV\n",
        "print(f\"The best alpha value found out to be: {lgbm_rand_R.best_params_}\")\n",
        "print(f\"Negative mean square error is: {lgbm_rand_R.best_score_}\")"
      ]
    },
    {
      "cell_type": "code",
      "execution_count": null,
      "metadata": {
        "id": "q5OuNHONWQoH"
      },
      "outputs": [],
      "source": [
        "# Calculating Regression Metrics using GridSearchCV in RandomForestRegressor\n",
        "regression_metrics(y_train,y_train_rand_lgbm_pred,y_test,y_test_rand_lgbm_pred)"
      ]
    },
    {
      "cell_type": "markdown",
      "metadata": {
        "id": "tDF62XQdWQoI"
      },
      "source": [
        "##### Which hyperparameter optimization technique have you used and why?"
      ]
    },
    {
      "cell_type": "markdown",
      "metadata": {
        "id": "WqweME8CWQoI"
      },
      "source": [
        "RandomizedSearchCV was still the better option since it is taking very less processing time without compromising the accuracy. So we have mutually decided to use that hyperparameter optimization technique."
      ]
    },
    {
      "cell_type": "markdown",
      "metadata": {
        "id": "pXg9GhK2WQoI"
      },
      "source": [
        "##### Have you seen any improvement? Note down the improvement with updates Evaluation metric Score Chart."
      ]
    },
    {
      "cell_type": "markdown",
      "metadata": {
        "id": "Ef7NsWVhWQoI"
      },
      "source": [
        "We have tried different parameters for tuning of our LightGBM model and achieved 0.92 r2 score on training dataset, 0.92 on testing set as well that means our model is optimized and not falling under the underfitting or overfitting side. Also, our MAPE is reduced from 7% to 6% after hyperparameter optimization which is fair enough and improved. The best parameters obtained by the optimatization is {'n_estimators': 600, 'max_depth': 150, 'learning_rate': 0.1}."
      ]
    },
    {
      "cell_type": "markdown",
      "metadata": {
        "id": "03yrvCAJWQoJ"
      },
      "source": [
        "### ML Model - 5 - **XGBoost Regression**"
      ]
    },
    {
      "cell_type": "markdown",
      "metadata": {
        "id": "Y0tQ_l-NWQoJ"
      },
      "source": [
        "XGBoost Regression"
      ]
    },
    {
      "cell_type": "code",
      "execution_count": null,
      "metadata": {
        "id": "dGO9JpKOWQoJ"
      },
      "outputs": [],
      "source": [
        "# import the regressor\n",
        "from xgboost import XGBRegressor\n",
        "  \n",
        "# create a regressor object\n",
        "xgbR = XGBRegressor(learning_rate=0.2, max_depth=10) \n",
        "  \n",
        "# fit the regressor with X and Y data\n",
        "xgbR.fit(x_train, y_train)\n",
        "\n",
        "# predict the model\n",
        "y_train_xgbR_pred= xgbR.predict(x_train)\n",
        "y_test_xgbR_pred= xgbR.predict(x_test)"
      ]
    },
    {
      "cell_type": "code",
      "execution_count": null,
      "metadata": {
        "id": "pcMZ1jQxWQoJ"
      },
      "outputs": [],
      "source": [
        "# Calculating Regression Metrics using RandomForestRegressor\n",
        "regression_metrics(y_train,y_train_xgbR_pred,y_test,y_test_xgbR_pred)"
      ]
    },
    {
      "cell_type": "markdown",
      "metadata": {
        "id": "Saly7Wv4WQoJ"
      },
      "source": [
        "#### 1. Explain the ML Model used and it's performance using Evaluation metric Score Chart."
      ]
    },
    {
      "cell_type": "code",
      "execution_count": null,
      "metadata": {
        "id": "jT_OSvsYWQoK"
      },
      "outputs": [],
      "source": [
        "# Visualizing evaluation Metric Score chart\n",
        "# Calculating residuals\n",
        "y_test_xgbR_pred= y_test_xgbR_pred.reshape(-1,1)\n",
        "residuals_XG = y_test - y_test_xgbR_pred\n",
        "Mean= round(np.mean(residuals_XG),2)\n",
        "Median= round(np.median(residuals_XG),2)\n",
        "\n",
        "# Plot residuals\n",
        "plt.figure(figsize=(15,8))\n",
        "plt.scatter(y_test, residuals_DT, c=\"mediumslateblue\")\n",
        "plt.title(\"Residual Plot for Metric Evaluation\")\n",
        "plt.xlabel('Predicted Sales')\n",
        "plt.ylabel('Residual Error')\n",
        "\n",
        "# Add horizontal line at mean value of y\n",
        "plt.axhline(y=np.nanmean(residuals_XG), color='red', linestyle='--', label=Mean[0])\n",
        "plt.axhline(y=np.nanmedian(residuals_XG), color='green', linestyle='--', label=Median)\n",
        "plt.legend()\n",
        "\n",
        "plt.show()"
      ]
    },
    {
      "cell_type": "markdown",
      "metadata": {
        "id": "sKAT24xZarWO"
      },
      "source": [
        "XGBoost (eXtreme Gradient Boosting) is a Gradiant boosting algorithm and very popular for achieving good accuracies. We have used XGBoost in order to shift the MAPE towards 0 (minimize the error).\n",
        "\n",
        "We got the Mean=0.0 and Median=-0.09 which also super close to 0 that means our residuals are perfectly following normal distribution against Sales.\n",
        "\n",
        "We got the MAPE of 3% and r2 score of 0.94 for testing dataset which is which is excelent and improved as well. At this point of time slightly improvement in MAPE can lead to huge profit to stakeholders and we were very curious and excited at this point of time to further improve the efficiency of our model and for this we have again decided to tune the various hyperparameters of xgboost."
      ]
    },
    {
      "cell_type": "markdown",
      "metadata": {
        "id": "X1AU9AnHWQoL"
      },
      "source": [
        "#### 2. Cross- Validation & Hyperparameter Tuning"
      ]
    },
    {
      "cell_type": "markdown",
      "metadata": {
        "id": "lS8-JLN6WQoL"
      },
      "source": [
        "XGBoost with GridSearchCV"
      ]
    },
    {
      "cell_type": "code",
      "execution_count": null,
      "metadata": {
        "id": "TR1eA8HyWQoL"
      },
      "outputs": [],
      "source": [
        "# XGBoost with RandomizedSearchCV\n",
        "from sklearn.model_selection import GridSearchCV\n",
        "\n",
        "# Creating XGBoost instance\n",
        "xgb= XGBRegressor()\n",
        "\n",
        "# Defining parameters\n",
        "parameters={\"learning_rate\":[0.01, 0.1],\"max_depth\":[12,13]}\n",
        "\n",
        "# Train the model\n",
        "xgb_Rand_R= GridSearchCV(xgb,parameters,scoring='neg_mean_squared_error',n_jobs=-1,cv=3,verbose=3)\n",
        "xgb_Rand_R.fit(x_train,y_train)\n",
        "\n",
        "# Predict the output\n",
        "y_train_rand_xgbR_pred = xgb_Rand_R.predict(x_train)\n",
        "y_test_rand_xgbR_pred = xgb_Rand_R.predict(x_test)\n",
        "\n",
        "# Printing the best parameters obtained by GridSearchCV\n",
        "print(f\"The best alpha value found out to be: {xgb_Rand_R.best_params_}\")\n",
        "print(f\"Negative mean square error is: {xgb_Rand_R.best_score_}\")"
      ]
    },
    {
      "cell_type": "code",
      "execution_count": null,
      "metadata": {
        "id": "QorUpEQWWQoL"
      },
      "outputs": [],
      "source": [
        "# Calculating Regression Metrics using GridSearchCV in RandomForestRegressor\n",
        "regression_metrics(y_train,y_train_rand_xgbR_pred,y_test,y_test_rand_xgbR_pred)"
      ]
    },
    {
      "cell_type": "markdown",
      "metadata": {
        "id": "14Y07Y6iWQoL"
      },
      "source": [
        "##### Which hyperparameter optimization technique have you used and why?"
      ]
    },
    {
      "cell_type": "markdown",
      "metadata": {
        "id": "-o8dM4nEWQoL"
      },
      "source": [
        "XGboost is a heavy algorithm and takes much processing time with GridSearchCV. So, tuning of hyperparameter with GridSearchCV was a bit complicated task for us but we have used less parameterts in  GridSearchCV because we did'nt want to miss the best parameter combination."
      ]
    },
    {
      "cell_type": "markdown",
      "metadata": {
        "id": "i9Mo312pWQoL"
      },
      "source": [
        "##### Have you seen any improvement? Note down the improvement with updates Evaluation metric Score Chart."
      ]
    },
    {
      "cell_type": "markdown",
      "metadata": {
        "id": "MzpN3IhNWQoM"
      },
      "source": [
        "Minor improvement in regresson metrics are also significant now as we are moving towards model perfection. With the help of GridSearchCV we got the r2 score of 0.94 (Now 94% of the variance of test set our model is capturing) for test dataset which is 1% higher than without RandomizedSearchCV and the best parameters found out to be{'learning_rate': 0.1, 'max_depth': 13}.\n",
        "Also we have noticed that our MAPE is further reduced and falling under 3% (Minimum error among all models) and on the other hand MSE is also reduced to 12%. We have also seen that on further increasing the max_depth of tree our model is overfitting so above values of parameters are the best combinations."
      ]
    },
    {
      "cell_type": "markdown",
      "metadata": {
        "id": "h_CCil-SKHpo"
      },
      "source": [
        "### 1. Which Evaluation metrics did you consider for a positive business impact and why?"
      ]
    },
    {
      "cell_type": "markdown",
      "metadata": {
        "id": "jHVz9hHDKFms"
      },
      "source": [
        "Since predicting sales over a period of time falls under the category of \"Time series data\" and there are following regression metrics that are required as per our goal of analysis (Predicting future Sales):\n",
        "\n",
        "1. MAE(Mean Absolute Error): This metric calculates the average magnitude of the errors in the predictions, without considering their direction. It has the inverse relation with the accuracy of the model. In regression analysis our aim is to minimise the MAE and ultimately this will create positive business impact.\n",
        "\n",
        "2. RMSE(Root Mean Squared Error): It is the square root of MSE and this is the most widely use regression metric since it has the same units as the original data so it is easy to interpret the magnitude of error.\n",
        "\n",
        "3. R2_Score: R2 score(coefficient of determination) is a metric that is widely used in regression analysis because it measures the proportion of the variance in the dependent variable that is explained by the independent variables. R2 score allows analysts to quickly and easily evaluate the goodness of fit of a model and compare different models. It also provides a clear measure of how well the model is explaining the variance in the dependent variable, which can aid in making decisions about model selection and further analysis.\n",
        "\n",
        "4. MAPE(Mean Absolute Percentage Error): It is calculated by taking the average of the absolute percentage differences between the predicted values and the actual values. This metric is particularly useful when working with time series data(as in our case), as it allows for easy comparison of forecast accuracy across different scales. With the help of MAPE an analyst can easily explain the percentage error to the stakeholders. This metric is considered as one of the most important regression metric in time series data for a positive business impact.\n",
        "\n",
        "5. Accuracy: In time series data(predicting Sales, Customers, Stock prices, etc) the best metric to calculate the accuracy is 100-MAPE, which is the average of the absolute percentage differences between the predicted values and the actual values. A lower value for 100-MAPE indicates a more accurate model."
      ]
    },
    {
      "cell_type": "markdown",
      "metadata": {
        "id": "QR4wlAABGZXa"
      },
      "source": [
        "### 2. Which ML model did you choose from the above created models as your final prediction model and why?"
      ]
    },
    {
      "cell_type": "code",
      "execution_count": null,
      "metadata": {
        "id": "lbc8xYt77M-5"
      },
      "outputs": [],
      "source": [
        "# Storing different regression metrics in order to make dataframe and compare them\n",
        "models = [\"Linear_regression\",\"Decision_tree\",\"Random_forest\",\"LightGBM\",\"XGboost\"]\n",
        "MAE_r = [5.38,2.94,2.43,2.83,2.37] \n",
        "MSE_r = [51.54,17.87,12.47,15.17,11.64]\n",
        "RMSE_r = [7.17,4.22,3.53,3.89,3.41]\n",
        "MAPE_r = [6.73,3.63,2.99,3.49,2.93]\n",
        "r2_r = [0.76,0.91,0.94,0.93,0.94]\n",
        "accuracy_r = [93.26,96.36,97.00,96.50,97.06]\n",
        "\n",
        "# Create dataframe from the lists\n",
        "data = {'Models': models, \n",
        "        'MAE': MAE_r,\n",
        "        'MSE': MSE_r,\n",
        "        'RMSE': RMSE_r,\n",
        "        'MAPE': MAPE_r,\n",
        "        'R2': r2_r,\n",
        "        'Accuracy': accuracy_r\n",
        "       }\n",
        "metric_df = pd.DataFrame(data)\n",
        "\n",
        "# Printing dataframe\n",
        "metric_df"
      ]
    },
    {
      "cell_type": "markdown",
      "metadata": {
        "id": "HRYlhQvdFlET"
      },
      "source": [
        "We have chosen **XGboost** as our final prediction model with hyperparameters {'learning_rate': 0.1, 'max_depth': 13} as it is very clear from above dataframe that it has given the highest accuracy (97%), least MAPE (3%) and maximum r2 score(0.94) on the testing dataset among all other models.\n"
      ]
    },
    {
      "cell_type": "markdown",
      "metadata": {
        "id": "p0xQFb2k7jaI"
      },
      "source": [
        "### 3. Explain the model which you have used and the feature importance using any model explainability tool?"
      ]
    },
    {
      "cell_type": "markdown",
      "metadata": {
        "id": "6799xvebTtou"
      },
      "source": [
        "XGBoost (eXtreme Gradient Boosting) provides an efficient implementation of the gradient boosting framework. It is designed for both linear and tree-based models, and it is useful for large datasets. The basic idea behind XGBoost is to train a sequence of simple models, such as decision trees, and combine their predictions to create a more powerful model. Each tree is trained to correct the errors made by the previous trees in the sequence and this known as boosting.\n",
        "\n",
        "XGBoost uses a technique called gradient boosting to optimize the parameters of the trees. It minimizes the loss function by adjusting the parameters of the trees in a way that reduces the error of the overall model. XGBoost also includes a number of other features, such as regularization, which helps to prevent overfitting, and parallel processing, which allows for faster training times.\n",
        "\n",
        "Although tree based algorithm gives most accurate results but they have less explanability. With the help of some explanabilty tools like LIME and SHAP we can explain our model to the stakeholders."
      ]
    },
    {
      "cell_type": "markdown",
      "metadata": {
        "id": "1xXlzo5C0eR1"
      },
      "source": [
        "#### Model Explainablity"
      ]
    },
    {
      "cell_type": "markdown",
      "metadata": {
        "id": "DsSgNyFrCbqk"
      },
      "source": [
        "We can approach Model explainablity by two methods \n",
        "1. Globally - how features in the data collectively affect the result. eg. **Linear regression**.\n",
        "\n",
        "2. Locally- It tells us how features individually affect results eg. **Shap, LIME**"
      ]
    },
    {
      "cell_type": "markdown",
      "metadata": {
        "id": "9KTETz04TAYv"
      },
      "source": [
        "##### Global Explainability"
      ]
    },
    {
      "cell_type": "code",
      "execution_count": null,
      "metadata": {
        "id": "yI1YuzH4C2Ih"
      },
      "outputs": [],
      "source": [
        "# Plotting the barplot to determine which feature is contributing the most\n",
        "features = final_df.columns\n",
        "importances = xgbR.feature_importances_\n",
        "indices = np.argsort(importances)\n",
        "plt.figure(figsize=(8,10))\n",
        "plt.grid(zorder=0)\n",
        "plt.title('Feature Importances', fontsize=20)\n",
        "plt.barh(range(len(indices)), importances[indices], align='center')\n",
        "plt.yticks(range(len(indices)), features[indices])\n",
        "plt.xlabel('Relative Importance')"
      ]
    },
    {
      "cell_type": "code",
      "execution_count": null,
      "metadata": {
        "id": "LCmw_-adLFzg"
      },
      "outputs": [],
      "source": [
        "# Checking the percentage of feature importance\n",
        "feature_imp = pd.DataFrame(columns = ['Variable','Importance'])\n",
        "feature_imp.Variable = features[:-1]\n",
        "feature_imp.Importance = importances*100\n",
        "feature_imp.sort_values(by=\"Importance\",axis=0,ascending=False)"
      ]
    },
    {
      "cell_type": "markdown",
      "metadata": {
        "id": "L6DDxfquTwZf"
      },
      "source": [
        "As we have considered XGboost as our final optimal model with very good accuracies but still this model is considered as black box model since we don't know actually what is happening inside the algorithm. In order to gain the trust of stakeholders we have to explain the model and under which conditions the model is predicting that particular result with a valid and senseful reason. So, in order to increase the explainability we have plotted the bar plot for decresing sequence of feature importance.\n",
        "\n",
        "From the above plot it is clear that for XGboost model \"StoreType_d\" is contributing maximum i.e 34% in the final outcome, \"Customers\" is contributing 24% and followed by \"StoreType_b\", \"Promo\" and \"Promo2\"."
      ]
    },
    {
      "cell_type": "markdown",
      "metadata": {
        "id": "mfduqOUtyyN2"
      },
      "source": [
        "We have achieved accuracy of 85% with the help of linear regression but to attain more accuracy and eventually scale up your business we have done this with the help of random forest, Xgboost, decision tree but they are black box models(cant explain) so we use **MODEL EXPLAINABLITY** tool **SHAP**.  "
      ]
    },
    {
      "cell_type": "markdown",
      "metadata": {
        "id": "V_HeOwszWQoO"
      },
      "source": [
        "##### Explanability using SHAP"
      ]
    },
    {
      "cell_type": "markdown",
      "metadata": {
        "id": "oZUS7JK2AQvq"
      },
      "source": [
        "SHAP (**Shapley Additive exPlanations**) It is used to calculate the impact of each feature of the model on the final result."
      ]
    },
    {
      "cell_type": "markdown",
      "metadata": {
        "id": "aTiNZ_riEpn9"
      },
      "source": [
        " Here we are using TreeExplainer (for the analysis of decision trees_"
      ]
    },
    {
      "cell_type": "code",
      "execution_count": null,
      "metadata": {
        "id": "8ro2yaU3WQoO"
      },
      "outputs": [],
      "source": [
        "!pip install shap"
      ]
    },
    {
      "cell_type": "markdown",
      "metadata": {
        "id": "6p1wEAjT0LEz"
      },
      "source": [
        "Explaining decision tree with **ForcePlot**"
      ]
    },
    {
      "cell_type": "code",
      "execution_count": null,
      "metadata": {
        "id": "2G4Mnuu9WQoP"
      },
      "outputs": [],
      "source": [
        "# Storing our features into new variable\n",
        "feature = final_df.columns[:-1]"
      ]
    },
    {
      "cell_type": "code",
      "execution_count": null,
      "metadata": {
        "id": "wDMoU-gDWQoP"
      },
      "outputs": [],
      "source": [
        "#checking the values in the list\n",
        "feature"
      ]
    },
    {
      "cell_type": "code",
      "execution_count": null,
      "metadata": {
        "id": "x9dnDyYbWQoP"
      },
      "outputs": [],
      "source": [
        "# Checking the first observation\n",
        "x_test[0:1]"
      ]
    },
    {
      "cell_type": "code",
      "execution_count": null,
      "metadata": {
        "id": "Iod4pVw9WQoQ"
      },
      "outputs": [],
      "source": [
        "import shap \n",
        "#create an explainer for a tree-based model, i.e., random forest (rf) \n",
        "explainer = shap.TreeExplainer(xgbR) \n",
        "shap_values = explainer.shap_values(x_test[0:1])  #pass the first test sample"
      ]
    },
    {
      "cell_type": "code",
      "execution_count": null,
      "metadata": {
        "id": "Pr65DIlGWQoQ"
      },
      "outputs": [],
      "source": [
        "shap.initjs() #initialize the JavaScript visualization in the notebook environment \n",
        "shap.force_plot(explainer.expected_value, shap_values=shap_values[0], features = feature)"
      ]
    },
    {
      "cell_type": "code",
      "execution_count": null,
      "metadata": {
        "id": "Hz8WUN1SR2-_"
      },
      "outputs": [],
      "source": [
        "y_test_rand_xgbR_pred[0:1]"
      ]
    },
    {
      "cell_type": "code",
      "execution_count": null,
      "metadata": {
        "id": "XJInbNqgWQoR"
      },
      "outputs": [],
      "source": [
        "y_test[0:1]"
      ]
    },
    {
      "cell_type": "code",
      "execution_count": null,
      "metadata": {
        "id": "Tgn9hwT0Bh43"
      },
      "outputs": [],
      "source": [
        "x_test[0:1]"
      ]
    },
    {
      "cell_type": "markdown",
      "metadata": {
        "id": "ppBd0_Hh6jcq"
      },
      "source": [
        "Now the first value in the index is **DayOfWeek** so we will explain our model prediction on the basis of this.\n",
        "1. We can see that the base line value is **80.22** and our function is predicting **91.07** which is quite good.\n",
        "2. **customers** and **storeType_d** are mainly responsible for that Right shift And From the opposite direction Promo and Day ofWeek acts on it to partially balance it out.\n",
        "\n",
        "\n",
        "\n",
        "\n"
      ]
    },
    {
      "cell_type": "code",
      "execution_count": null,
      "metadata": {
        "id": "wgTYmWGVWQoR"
      },
      "outputs": [],
      "source": [
        "#pass the second test sample\n",
        "shap_values = explainer.shap_values(x_test[1:2])"
      ]
    },
    {
      "cell_type": "code",
      "execution_count": null,
      "metadata": {
        "id": "MfgyBxnpWQoR"
      },
      "outputs": [],
      "source": [
        "#initialize the JavaScript visualization in the notebook environment \n",
        "shap.initjs() \n",
        "shap.force_plot(explainer.expected_value, shap_values=shap_values[0], features = feature)"
      ]
    },
    {
      "cell_type": "markdown",
      "metadata": {
        "id": "rycPK0W07Xr8"
      },
      "source": [
        "Now we are taking the second index value to justify our model which is **Customers**, How far average prediction(**Base value**) away from prediction done by customer feature. The Base value is **80.22** and the predicted value is around **73.15** "
      ]
    },
    {
      "cell_type": "code",
      "execution_count": null,
      "metadata": {
        "id": "clYMEmEdWQoR"
      },
      "outputs": [],
      "source": [
        "#pass the third test sample\n",
        "shap_values = explainer.shap_values(x_test[2:3])"
      ]
    },
    {
      "cell_type": "code",
      "execution_count": null,
      "metadata": {
        "id": "l29IonQ9WQoR"
      },
      "outputs": [],
      "source": [
        "#initialize the JavaScript visualization in the notebook environment \n",
        "shap.initjs()\n",
        "shap.force_plot(explainer.expected_value, shap_values=shap_values[0], features = feature)"
      ]
    },
    {
      "cell_type": "markdown",
      "metadata": {
        "id": "r7Cmavd6ikG1"
      },
      "source": [
        "### Understanding the project importance for the stakeholders involved"
      ]
    },
    {
      "cell_type": "markdown",
      "metadata": {
        "id": "vPNU096mi-Uj"
      },
      "source": [
        "To compete in a rapidly changing business landscape, retail stores are under increasing pressure to **anticipate market trends** and **customer behavior**. This exact demand is what our analysis is for. Our project involves various stakeholders such as Rossman Store, Customers, Inventory Managers, Society at large etc.\n",
        "\n",
        "The insights from our project highlights how the **incorporation of appropriate machine learning models( in our case XGBoost)** into their data analytics, Rossman Store gains far more accurate and powerful capabilities for **forecasting demand**, which translates into more **effective inventory management** and **big cost savings**.\n",
        "\n",
        "One of the most important segment for any retail business is **Customer Retention**. Rossman store can rely on our machine learning models to identify customers who may be ready to shop at their stores repeatedly.\n",
        "\n",
        "Another important insight from our project is **Sentiment Analysis**. Promo2, PromoIntervals etc and our analysis around them can be used to discover how people feel about their brand or product.\n",
        "\n",
        "By allowing Rossman Stores to process and analyze data more quickly than ever before, our machine learning analysis enables rapid quick and more accurate **Decision Making**. By enabling fast decisions about inventory, it can help Rossman Stores to uphold their business reputations, and avoid costly corrective measures.\n",
        "\n",
        "\n"
      ]
    },
    {
      "cell_type": "markdown",
      "metadata": {
        "id": "EyNgTHvd2WFk"
      },
      "source": [
        "## ***8.*** ***Future Work (Optional)***"
      ]
    },
    {
      "cell_type": "markdown",
      "metadata": {
        "id": "lnIdIfDMRPiR"
      },
      "source": [
        "To store our final model(object) such that we can use that in future we will use pikle module. Pickle module implements binary protocols for serializing and de-serializing a Python object structure. “Pickling” is the process where a Python object hierarchy is converted into a byte stream, and “unpickling” is the inverse operation, where a byte stream (from a binary file or bytes-like object) is converted back into an object hierarchy. Pickling (and unpickling) is alternatively known as “serialization”, “marshalling,” or “flattening”; however, to avoid confusion, the terms used here are “pickling” and “unpickling”.\n",
        "\n",
        "Pickle in Python is primarily used in serializing and deserializing a Python object structure. In other words, it's the process of converting a Python object into a byte stream to store it in a file/database, maintain program state across sessions, or transport data over the network"
      ]
    },
    {
      "cell_type": "markdown",
      "metadata": {
        "id": "KH5McJBi2d8v"
      },
      "source": [
        "### 1. Save the best performing ml model in a pickle file or joblib file format for deployment process.\n"
      ]
    },
    {
      "cell_type": "code",
      "execution_count": null,
      "metadata": {
        "id": "6vT5rCh7SuV4"
      },
      "outputs": [],
      "source": [
        "# Importing pickle module\n",
        "import pickle"
      ]
    },
    {
      "cell_type": "code",
      "execution_count": null,
      "metadata": {
        "id": "bQIANRl32f4J"
      },
      "outputs": [],
      "source": [
        "# Save the File\n",
        "filename='Rossmann_regression.pkl'\n",
        "\n",
        "# serialize process (wb=write byte)\n",
        "pickle.dump(xgb_Rand_R,open(filename,'wb'))"
      ]
    },
    {
      "cell_type": "markdown",
      "metadata": {
        "id": "iW_Lq9qf2h6X"
      },
      "source": [
        "### 2. Again Load the saved model file and try to predict unseen data for a sanity check.\n"
      ]
    },
    {
      "cell_type": "code",
      "execution_count": null,
      "metadata": {
        "id": "oEXk9ydD2nVC"
      },
      "outputs": [],
      "source": [
        "# Load the File and predict unseen data.\n",
        "\n",
        "# unserialize process (rb=read byte)\n",
        "Regression_model= pickle.load(open(filename,'rb'))\n",
        "\n",
        "# Predicting the unseen data(test set)\n",
        "Regression_model.predict(x_test)"
      ]
    },
    {
      "cell_type": "code",
      "execution_count": null,
      "metadata": {
        "id": "T4S8mY8xEpPM"
      },
      "outputs": [],
      "source": [
        "# Checking if we are getting the same predicted values\n",
        "y_test_rand_xgbR_pred"
      ]
    },
    {
      "cell_type": "markdown",
      "metadata": {
        "id": "eEIQnjeRkU6u"
      },
      "source": [
        "Great, we have saved our model as pickle file and can be used in future after deserialization."
      ]
    },
    {
      "cell_type": "markdown",
      "metadata": {
        "id": "-Kee-DAl2viO"
      },
      "source": [
        "### ***Congrats! Your model is successfully created and ready for deployment on a live server for a real user interaction !!!***"
      ]
    },
    {
      "cell_type": "markdown",
      "metadata": {
        "id": "H3urwUSI5eiG"
      },
      "source": [
        "# **Conclusion**"
      ]
    },
    {
      "cell_type": "markdown",
      "metadata": {
        "id": "bF9wftxPyjwS"
      },
      "source": [
        "##**Conclusions drawn from EDA**"
      ]
    },
    {
      "cell_type": "markdown",
      "metadata": {
        "id": "Khvn9gF-5eiG"
      },
      "source": [
        "Exploratory Data Analysis (EDA) is an important step because it allows for the initial investigation of a dataset. It helps to identify patterns, anomalies, and relationships in the data, as well as to detect any potential issues such as missing values or outliers. EDA also helps to generate hypotheses and inform the development of more advanced modeling techniques, such as machine learning. Additionally, it is a good way to understand the data, which is crucial for good decision making. EDA also helps to provide a deeper understanding of the data and helps to guide the direction of further analysis. After performing EDA we have drawn the following conclusions:\n",
        "\n",
        "* Sales vs Customers graph shows positive correlation between 'Sales' and \n",
        "'Customers'. As the number of customers increases, the sales also tend to increase.\n",
        "* December being a festive month attracts more sale than the rest of the months. Also, November has slightly more sales than other months. This could be due to the 'Black Friday' sale which is very popular across the globe. As Rossmann Stores deals in health and beauty products, it can be guessed that November and December sales are due to the celebratory nature of people who love to buy beauty/health products leading to the sudden increase in sales.\n",
        "* Day 1 and day 7 witness the highest sale indicating they are probably days falling on the weekend. Day 2 to day 6 generate medium to low sales indicating they are probably weekdays where customer footfall is low.\n",
        "* As stores are getting promoted, more sales are getting generated.\n",
        "* Plot between StateHolidays and sales shows that during Easter and Christmas holiday sales are actually high but for other holiday such as public ,sales are comparatively low.\n",
        "* Sales for the store type b is the highest . Store type B might be located in a more affluent or high-traffic area, which would increase the number of potential customers. Store type B may have a more favorable layout, which makes it more attractive to customers and makes it easier for them to find the products they want, resulting in more sales.\n",
        "* Sales are highest for the assortment b . This assortment may have a good mix of products that are in high demand or that are unique to the store, which would result in more sales.\n",
        "* We observed that mostly the competitor stores weren't that far from each other and the stores densely located near each other saw more sales.\n",
        "* We can conclude that Sales are high during the year 1900, as there are very few store were operated of Rossmann so there is less competition and sales are high. But as year pass on number of stores increased that means competition also increased and this leads to decline in the sales.\n",
        "* From plot sales and competition Open Since Month shows sales go increasing from Novemmber and highest in month December. This may be due to Christmas eve and New Year.\n",
        "* We can conclude from sales vs promo2 graph that customers are slightly less responsive to the stores(i.e sales) that are running consecutive promotions. One possibility could be customers might have already taken advantage of a similar promotion earlier. Another reason could be store might not have invested enough in promoting the promotion to customers, resulting in lower awareness and fewer sales. Also, if the store is running same promotion again and again, it could have resulted into lower customer footfal and ultimately leadind to fewer sales.\n",
        "* Sales vs Promo2SinceYear barplot explains that sales were still the highest when the store wasn't running any consecutive promotional events. But in 2014, the sales were really shoot up and they are recorded as 2nd highest. Good quality products, better deals, shutdown of competitions etc could be the reasons.\n",
        "* We can see the promo interval Jan, Apr, Jul, Oct records the 2nd highest sales as it marks the festive season. However, the other intervals are recording sales that are close to the 1st interval."
      ]
    },
    {
      "cell_type": "markdown",
      "metadata": {
        "id": "uZxyzFJdyzxV"
      },
      "source": [
        "##**Conclusions drawn from ML Model Implementation**"
      ]
    },
    {
      "cell_type": "markdown",
      "metadata": {
        "id": "W58G1QiTy-oo"
      },
      "source": [
        "Close predictions of any ML model highly impacts the business growth. Before going to further model deployment one should have to check how accurately the model is predicting and performing with the real life data.\n",
        "\n",
        "Conclusions drawn from any model are very helpful to identify wheather the model is fully baked and good to go for deployment process or needs further refinement. In this section first we will talk about some general points that are essential for every ML model and then will talk about the project oriented conclusions we made:\n",
        "\n",
        "**General conclusions**:\n",
        "\n",
        "\n",
        "*   The implementation of an ML model can greatly \n",
        "improve the performance and accuracy of a system or application.\n",
        "*   It is important to carefully select and preprocess the data used for training and testing the model.\n",
        "*   Regular evaluation and tuning of the model is necessary to ensure optimal performance.\n",
        "*   The use of appropriate evaluation metrics can help to measure the performance of the model.\n",
        "*   The integration of the model into the system or application should be done in a way that allows for easy maintenance and updates.\n",
        "*   The ethical and legal considerations of the model's use should also be taken into account.\n",
        "\n",
        "**Project conclusions**:\n",
        "\n",
        "We have implemented various regression model started with Linear Regression and then we have tried other non linear models too. For each of the model we have tried to tune the hyperparameters as well in order to minimize the errors and drawn following conclusions\n",
        "*   In Linear Regression we got the accuracy of ~93% and the model is capturing 75% of variance even after using regularization techniques that means our data is not perfectly  linearly dependent with target variable(Sales).\n",
        "*   For Decsion Tree we have achieved ~96.3% accuracy with maximum depth of 18 and on increasing the depth over it we are falling towards overfitting and MAPE of 3.6% which ultimately increases the mean absolute percentage error.\n",
        "*   Giving preference to each of the variable always results in better accuracy as small subsets can provide significant accuracy percentage. Ensemble technique i.e Random Forest has given the accuray of ~96.96% with total trees of 100 in the forest with hyperparameter tuning.\n",
        "*   We have also tried gradiant boosting technique with LightGBM although we got the similar results as Random Forest(~96.4%) but we got the more fast results as it has used all the cores and decrease processing time. While training the large dataset one should try LightGBM for good results in less time.\n",
        "*   At last we have implemented our final model i.e XGboost and achieved the accuracy of 97% with mean absolute percentage error of only 2%. Also we got the mean and median of residuals at 0.09 which is indicating towards excellent residual plot. \n",
        "\n",
        "Since, a good residual plot have the following characteristics:\n",
        "> 1. It should contain high density of points close to the origin and a low density of points away from the origin.\n",
        "> 2. It is symmetric about the origin.\n",
        "\n",
        "The residual plot obtained from XGboost of fulfilling both the characteristics and from the above experiments and identifications we have choosen the XGboost as our final optimal model for deployment."
      ]
    }
  ],
  "metadata": {
    "accelerator": "GPU",
    "colab": {
      "collapsed_sections": [
        "beRrZCGUAJYm",
        "FJNUwmbgGyua",
        "w6K7xa23Elo4",
        "yQaldy8SH6Dl",
        "mDgbUHAGgjLW",
        "id3oRuhCw2uW",
        "cATrm8YHw2uW",
        "zE85lk6D0ovp",
        "2fO49BByrjPF",
        "_GKLYLoV4IkG",
        "mVpp6PMe70Ko",
        "ttEO4E339YNU",
        "51ABtV_59YNV",
        "Ngf-Oxcw9YNV",
        "xfxs6IUL-Ftx",
        "n88AcaZf_MyC",
        "LTCxqIGj_MyD",
        "TlgNpj-C_MyD",
        "qj8NkR31KMrR",
        "8xUi_doS9gkp",
        "gfPfcHHh9gkq",
        "IHt7zeVv9gkr",
        "ZPrKcB-YX8u7",
        "xHqazOjX9ibV",
        "dfYaL-_Q9ibW",
        "wTg5rBh-9ibW",
        "g_vsHadCNFyi",
        "PvRcWmYT9kpj",
        "co0viltN9kpk",
        "LTFHjxCT9kpk",
        "_dcBSrgSLuja",
        "2BcWmX6X9lmo",
        "z4XSdbm09lmo",
        "bnfviIHk9lmp",
        "A_-l0tuqMDAa",
        "knwWoXm89nCc",
        "XpeGd7lv9nCd",
        "zP_2w-ok9nCd",
        "jEbSHOg-NlS6",
        "wEHiaYtL9out",
        "DfNfVXD49out",
        "K3bni5wZ9ouu",
        "G4J2LF_uNwkT",
        "jOoiu2Vt9pnD",
        "_RuezODA9pnE",
        "rnXB5wAG9pnF",
        "KVniuyyoN1pT",
        "axGuPNzL9qSX",
        "jrEKVqdp9qSY",
        "QMGNCKL99qSY",
        "SmGL1RMWN5nz",
        "YRTUVPJG9rEH",
        "5QykKAgV9rEI",
        "5rLAAgCT9rEI",
        "pJx8NhQ1N9Wq",
        "rK9GhTEC9rwr",
        "YKl_kFh89rws",
        "IrcnaWDb9rws",
        "__YbND0KOA0R",
        "37Inlwy49sde",
        "Ay9-rgQ-9sdf",
        "ttQwgfDa9sdf",
        "gOEw_sjYOF2Z",
        "nUkakYR79tiC",
        "U8BdCLad9tiD",
        "2zaBphNm9tiD",
        "mwP9fe0pONIV",
        "rqCN-zvK9v_a",
        "yynWEvPH9v_a",
        "jZC8Ifpl9v_b",
        "cPjgYJ3cOP5E",
        "cHZUVJJC9xIK",
        "ZiLjVt9N9xIK",
        "Ar1frQH39xIK",
        "LsdK-sIqOXj9",
        "apVAPQXm9yrY",
        "yRlN2-pN9yrY",
        "km5ZRAml9yrY",
        "BXWMYpvWOe9A",
        "9d-OTKHn9zd6",
        "-LTOVgZK9zd6",
        "wd05EYcv9zd6",
        "8RC0iTeHsYQE",
        "zRtFcm4LOu5a",
        "oub_NbbmyCs5",
        "BtrRS27qyCs5",
        "xksGwSxtyCs5",
        "0wOQAZs5pc--",
        "g-ATYxFrGrvw",
        "Yfr_Vlr8HBkt",
        "8yEUt7NnHlrM",
        "tEA2Xm5dHt1r",
        "I79__PHVH19G",
        "Ou-I18pAyIpj",
        "fF3858GYyt-u",
        "4_0_7-oCpUZd",
        "hwyV_J3ipUZe",
        "3yB-zSqbpUZe",
        "dEUvejAfpUZe",
        "Fd15vwWVpUZf",
        "bn_IUdTipZyH",
        "49K5P_iCpZyH",
        "Nff-vKELpZyI",
        "kLW572S8pZyI",
        "dWbDXHzopZyI",
        "-efLTBJ7xpcK",
        "SMZ4a_wbxpcK",
        "tvuNtUsqxpcL",
        "RB2t61vjxpcL",
        "Hh86r-nVxpcP",
        "YX4f20EmxpcS",
        "vGRSVf6axpcV",
        "UHGnYJx8xpcW",
        "Zc89jZBTxpcW",
        "1PgB86c3xpcW",
        "fJdRA8cDxpcW",
        "fuENhqJbxpcX",
        "41IPyCR-xpcX",
        "PQp0lsC2xpcX",
        "bKklJ7JBxpcY",
        "-6gVpMIUxpcY",
        "Ty9ujbDwxpcY",
        "Sytnq5_YxpcZ",
        "0CcxjucixpcZ",
        "T7c0IejhxpcZ",
        "e4PZaE_MxpcZ",
        "qS1HwCAvxpcb",
        "qhIgU3n7xpcf",
        "-NlLuSmSxpcf",
        "-LbTCGwGxpcf",
        "CtAoKdV6xpcf",
        "sMOKb6v9xpcr",
        "R2Xa0Y_Bxpct",
        "KwX-f9HDxpcu",
        "xvORg_TVxpcu",
        "OeGaBjEuxpcu",
        "lGH_ZlmVxpcv",
        "s15s6LN4xpcw",
        "x0j-UozExpcx",
        "StBPCRUBxpcx",
        "SOru1W9bxpcy",
        "OB4l2ZhMeS1U",
        "ArJBuiUVfxKd",
        "4qY1EAkEfxKe",
        "PiV4Ypx8fxKe",
        "TfvqoZmBfxKf",
        "dJ2tPlVmpsJ0",
        "JWYfwnehpsJ1",
        "-jK_YjpMpsJ2",
        "HAih1iBOpsJ2",
        "zVGeBEFhpsJ2",
        "bmKjuQ-FpsJ3",
        "7AN1z2sKpx6M",
        "9PIHJqyupx6M",
        "_-qAgymDpx6N",
        "Z-hykwinpx6N",
        "sjrnsZusWQoE",
        "FQFQTTmXWQoF",
        "9ZmBNoqDWQoG",
        "tDF62XQdWQoI",
        "pXg9GhK2WQoI",
        "03yrvCAJWQoJ",
        "Saly7Wv4WQoJ",
        "X1AU9AnHWQoL",
        "14Y07Y6iWQoL",
        "i9Mo312pWQoL",
        "h_CCil-SKHpo",
        "QR4wlAABGZXa",
        "p0xQFb2k7jaI",
        "1xXlzo5C0eR1",
        "9KTETz04TAYv",
        "V_HeOwszWQoO",
        "r7Cmavd6ikG1",
        "EyNgTHvd2WFk",
        "KH5McJBi2d8v",
        "iW_Lq9qf2h6X",
        "-Kee-DAl2viO",
        "H3urwUSI5eiG",
        "bF9wftxPyjwS",
        "uZxyzFJdyzxV"
      ],
      "provenance": [],
      "include_colab_link": true
    },
    "gpuClass": "standard",
    "kernelspec": {
      "display_name": "Python 3 (ipykernel)",
      "language": "python",
      "name": "python3"
    },
    "language_info": {
      "codemirror_mode": {
        "name": "ipython",
        "version": 3
      },
      "file_extension": ".py",
      "mimetype": "text/x-python",
      "name": "python",
      "nbconvert_exporter": "python",
      "pygments_lexer": "ipython3",
      "version": "3.9.12"
    }
  },
  "nbformat": 4,
  "nbformat_minor": 0
}